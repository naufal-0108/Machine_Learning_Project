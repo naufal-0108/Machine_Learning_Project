{
 "cells": [
  {
   "cell_type": "code",
   "execution_count": 1,
   "id": "5358f095-b0c6-47f7-9135-492a260e025a",
   "metadata": {},
   "outputs": [],
   "source": [
    "import pandas as pd, numpy as np\n",
    "import matplotlib.pyplot as plt\n",
    "import seaborn as sns\n",
    "from scipy.stats import iqr, chi2\n",
    "from sklearn.covariance import MinCovDet"
   ]
  },
  {
   "cell_type": "markdown",
   "id": "e6c06862-7a96-4164-8cfd-c7999f7fc1ec",
   "metadata": {},
   "source": [
    "# Problem Statement\n",
    "Coorporate wants to create an automation to predict which customer who is eligible to have a loan for the property. Given the dataset with several features, please do analysis for questions or hypothesis below."
   ]
  },
  {
   "cell_type": "code",
   "execution_count": 2,
   "id": "fda93f03-0e9f-4bc6-8e47-bc1ed224ba3f",
   "metadata": {},
   "outputs": [],
   "source": [
    "train_data = pd.read_csv(\"loan_sanction_train.csv\")\n",
    "test_data = pd.read_csv(\"loan_sanction_test.csv\")"
   ]
  },
  {
   "cell_type": "code",
   "execution_count": 3,
   "id": "54e79462-7b4a-45bb-913f-191884911ee3",
   "metadata": {},
   "outputs": [
    {
     "name": "stdout",
     "output_type": "stream",
     "text": [
      "<class 'pandas.core.frame.DataFrame'>\n",
      "RangeIndex: 367 entries, 0 to 366\n",
      "Data columns (total 12 columns):\n",
      " #   Column             Non-Null Count  Dtype  \n",
      "---  ------             --------------  -----  \n",
      " 0   Loan_ID            367 non-null    object \n",
      " 1   Gender             356 non-null    object \n",
      " 2   Married            367 non-null    object \n",
      " 3   Dependents         357 non-null    object \n",
      " 4   Education          367 non-null    object \n",
      " 5   Self_Employed      344 non-null    object \n",
      " 6   ApplicantIncome    367 non-null    int64  \n",
      " 7   CoapplicantIncome  367 non-null    int64  \n",
      " 8   LoanAmount         362 non-null    float64\n",
      " 9   Loan_Amount_Term   361 non-null    float64\n",
      " 10  Credit_History     338 non-null    float64\n",
      " 11  Property_Area      367 non-null    object \n",
      "dtypes: float64(3), int64(2), object(7)\n",
      "memory usage: 34.5+ KB\n",
      "None\n"
     ]
    }
   ],
   "source": [
    "print(test_data.info())"
   ]
  },
  {
   "cell_type": "code",
   "execution_count": 4,
   "id": "196243b9-d7ec-43c5-88a2-db9cb0457a83",
   "metadata": {},
   "outputs": [
    {
     "data": {
      "text/html": [
       "<div>\n",
       "<style scoped>\n",
       "    .dataframe tbody tr th:only-of-type {\n",
       "        vertical-align: middle;\n",
       "    }\n",
       "\n",
       "    .dataframe tbody tr th {\n",
       "        vertical-align: top;\n",
       "    }\n",
       "\n",
       "    .dataframe thead th {\n",
       "        text-align: right;\n",
       "    }\n",
       "</style>\n",
       "<table border=\"1\" class=\"dataframe\">\n",
       "  <thead>\n",
       "    <tr style=\"text-align: right;\">\n",
       "      <th></th>\n",
       "      <th>Loan_ID</th>\n",
       "      <th>Gender</th>\n",
       "      <th>Married</th>\n",
       "      <th>Dependents</th>\n",
       "      <th>Education</th>\n",
       "      <th>Self_Employed</th>\n",
       "      <th>ApplicantIncome</th>\n",
       "      <th>CoapplicantIncome</th>\n",
       "      <th>LoanAmount</th>\n",
       "      <th>Loan_Amount_Term</th>\n",
       "      <th>Credit_History</th>\n",
       "      <th>Property_Area</th>\n",
       "      <th>Loan_Status</th>\n",
       "    </tr>\n",
       "  </thead>\n",
       "  <tbody>\n",
       "    <tr>\n",
       "      <th>0</th>\n",
       "      <td>LP001002</td>\n",
       "      <td>Male</td>\n",
       "      <td>No</td>\n",
       "      <td>0</td>\n",
       "      <td>Graduate</td>\n",
       "      <td>No</td>\n",
       "      <td>5849</td>\n",
       "      <td>0.0</td>\n",
       "      <td>NaN</td>\n",
       "      <td>360.0</td>\n",
       "      <td>1.0</td>\n",
       "      <td>Urban</td>\n",
       "      <td>Y</td>\n",
       "    </tr>\n",
       "    <tr>\n",
       "      <th>1</th>\n",
       "      <td>LP001003</td>\n",
       "      <td>Male</td>\n",
       "      <td>Yes</td>\n",
       "      <td>1</td>\n",
       "      <td>Graduate</td>\n",
       "      <td>No</td>\n",
       "      <td>4583</td>\n",
       "      <td>1508.0</td>\n",
       "      <td>128.0</td>\n",
       "      <td>360.0</td>\n",
       "      <td>1.0</td>\n",
       "      <td>Rural</td>\n",
       "      <td>N</td>\n",
       "    </tr>\n",
       "    <tr>\n",
       "      <th>2</th>\n",
       "      <td>LP001005</td>\n",
       "      <td>Male</td>\n",
       "      <td>Yes</td>\n",
       "      <td>0</td>\n",
       "      <td>Graduate</td>\n",
       "      <td>Yes</td>\n",
       "      <td>3000</td>\n",
       "      <td>0.0</td>\n",
       "      <td>66.0</td>\n",
       "      <td>360.0</td>\n",
       "      <td>1.0</td>\n",
       "      <td>Urban</td>\n",
       "      <td>Y</td>\n",
       "    </tr>\n",
       "    <tr>\n",
       "      <th>3</th>\n",
       "      <td>LP001006</td>\n",
       "      <td>Male</td>\n",
       "      <td>Yes</td>\n",
       "      <td>0</td>\n",
       "      <td>Not Graduate</td>\n",
       "      <td>No</td>\n",
       "      <td>2583</td>\n",
       "      <td>2358.0</td>\n",
       "      <td>120.0</td>\n",
       "      <td>360.0</td>\n",
       "      <td>1.0</td>\n",
       "      <td>Urban</td>\n",
       "      <td>Y</td>\n",
       "    </tr>\n",
       "    <tr>\n",
       "      <th>4</th>\n",
       "      <td>LP001008</td>\n",
       "      <td>Male</td>\n",
       "      <td>No</td>\n",
       "      <td>0</td>\n",
       "      <td>Graduate</td>\n",
       "      <td>No</td>\n",
       "      <td>6000</td>\n",
       "      <td>0.0</td>\n",
       "      <td>141.0</td>\n",
       "      <td>360.0</td>\n",
       "      <td>1.0</td>\n",
       "      <td>Urban</td>\n",
       "      <td>Y</td>\n",
       "    </tr>\n",
       "  </tbody>\n",
       "</table>\n",
       "</div>"
      ],
      "text/plain": [
       "    Loan_ID Gender Married Dependents     Education Self_Employed  \\\n",
       "0  LP001002   Male      No          0      Graduate            No   \n",
       "1  LP001003   Male     Yes          1      Graduate            No   \n",
       "2  LP001005   Male     Yes          0      Graduate           Yes   \n",
       "3  LP001006   Male     Yes          0  Not Graduate            No   \n",
       "4  LP001008   Male      No          0      Graduate            No   \n",
       "\n",
       "   ApplicantIncome  CoapplicantIncome  LoanAmount  Loan_Amount_Term  \\\n",
       "0             5849                0.0         NaN             360.0   \n",
       "1             4583             1508.0       128.0             360.0   \n",
       "2             3000                0.0        66.0             360.0   \n",
       "3             2583             2358.0       120.0             360.0   \n",
       "4             6000                0.0       141.0             360.0   \n",
       "\n",
       "   Credit_History Property_Area Loan_Status  \n",
       "0             1.0         Urban           Y  \n",
       "1             1.0         Rural           N  \n",
       "2             1.0         Urban           Y  \n",
       "3             1.0         Urban           Y  \n",
       "4             1.0         Urban           Y  "
      ]
     },
     "metadata": {},
     "output_type": "display_data"
    },
    {
     "name": "stdout",
     "output_type": "stream",
     "text": [
      "Data Info :\n",
      "<class 'pandas.core.frame.DataFrame'>\n",
      "RangeIndex: 614 entries, 0 to 613\n",
      "Data columns (total 13 columns):\n",
      " #   Column             Non-Null Count  Dtype  \n",
      "---  ------             --------------  -----  \n",
      " 0   Loan_ID            614 non-null    object \n",
      " 1   Gender             601 non-null    object \n",
      " 2   Married            611 non-null    object \n",
      " 3   Dependents         599 non-null    object \n",
      " 4   Education          614 non-null    object \n",
      " 5   Self_Employed      582 non-null    object \n",
      " 6   ApplicantIncome    614 non-null    int64  \n",
      " 7   CoapplicantIncome  614 non-null    float64\n",
      " 8   LoanAmount         592 non-null    float64\n",
      " 9   Loan_Amount_Term   600 non-null    float64\n",
      " 10  Credit_History     564 non-null    float64\n",
      " 11  Property_Area      614 non-null    object \n",
      " 12  Loan_Status        614 non-null    object \n",
      "dtypes: float64(4), int64(1), object(8)\n",
      "memory usage: 62.5+ KB\n",
      "None\n"
     ]
    }
   ],
   "source": [
    "# Look the data briefly\n",
    "display(train_data.head())\n",
    "print(\"Data Info :\")\n",
    "print(train_data.info())"
   ]
  },
  {
   "cell_type": "code",
   "execution_count": 5,
   "id": "c5dc241b-5e04-41dc-92c0-da415ae5629e",
   "metadata": {},
   "outputs": [
    {
     "data": {
      "image/png": "[encoded data removed]",
      "text/plain": [
       "<Figure size 1200x1200 with 6 Axes>"
      ]
     },
     "metadata": {},
     "output_type": "display_data"
    }
   ],
   "source": [
    "# lets plot the counts of 4 feautures (Gender, Married, Number of Dependents, and Employment Status)\n",
    "# We'll be choosing the mode of every features to be selected as value for missing values\n",
    "\n",
    "sns.set_palette('deep')\n",
    "fig, ax = plt.subplots(3,2,figsize = (12,12))\n",
    "sns.countplot(x = 'Gender', data = train_data, ax = ax[0,0])\n",
    "sns.countplot(x = 'Married', data = train_data, ax = ax[0,1])\n",
    "sns.countplot(x = 'Dependents', data = train_data, ax = ax[1,0])\n",
    "sns.countplot(x = 'Self_Employed', data = train_data, ax = ax[1,1])\n",
    "sns.countplot(x = 'Credit_History', data = train_data, ax = ax[2,0])\n",
    "ax[2,1].axis('off')\n",
    "\n",
    "ax[0,0].set_title('Counts For Gender')\n",
    "ax[0,1].set_title('Counts For Married Status')\n",
    "ax[1,0].set_title('Counts For Number of Dependents')\n",
    "ax[1,1].set_title('Counts For Employment Status')\n",
    "ax[2,0].set_title('Counts For Credit History')\n",
    "\n",
    "plt.tight_layout()\n",
    "plt.show()"
   ]
  },
  {
   "cell_type": "code",
   "execution_count": 6,
   "id": "92c888d9-6392-40b4-8d26-d9de20997820",
   "metadata": {},
   "outputs": [],
   "source": [
    "# We're assuming mode of every categorical features and median of every numeric features to be the value for missing values.\n",
    "train_copy = train_data.copy()\n",
    "train_copy['Gender'] = train_copy['Gender'].fillna('Male')\n",
    "train_copy['Married'] = train_copy['Married'].fillna('Yes')\n",
    "train_copy['Dependents'] = train_copy['Dependents'].fillna('0')\n",
    "train_copy['Self_Employed'] = train_copy['Self_Employed'].fillna('No')\n",
    "train_copy['Credit_History'] = train_copy['Credit_History'].fillna(1.0).astype(int)\n",
    "train_copy['LoanAmount'] = train_copy['LoanAmount'].fillna(np.median(train_copy['LoanAmount'].dropna()))\n",
    "train_copy['Loan_Amount_Term'] = train_copy['Loan_Amount_Term'].fillna(np.median(train_copy['Loan_Amount_Term'].dropna()))\n"
   ]
  },
  {
   "cell_type": "code",
   "execution_count": 7,
   "id": "1836a73d-acf5-4c68-af1c-12e387fc65b5",
   "metadata": {},
   "outputs": [
    {
     "name": "stdout",
     "output_type": "stream",
     "text": [
      "<class 'pandas.core.frame.DataFrame'>\n",
      "RangeIndex: 614 entries, 0 to 613\n",
      "Data columns (total 13 columns):\n",
      " #   Column             Non-Null Count  Dtype  \n",
      "---  ------             --------------  -----  \n",
      " 0   Loan_ID            614 non-null    object \n",
      " 1   Gender             614 non-null    object \n",
      " 2   Married            614 non-null    object \n",
      " 3   Dependents         614 non-null    object \n",
      " 4   Education          614 non-null    object \n",
      " 5   Self_Employed      614 non-null    object \n",
      " 6   ApplicantIncome    614 non-null    int64  \n",
      " 7   CoapplicantIncome  614 non-null    float64\n",
      " 8   LoanAmount         614 non-null    float64\n",
      " 9   Loan_Amount_Term   614 non-null    float64\n",
      " 10  Credit_History     614 non-null    int32  \n",
      " 11  Property_Area      614 non-null    object \n",
      " 12  Loan_Status        614 non-null    object \n",
      "dtypes: float64(3), int32(1), int64(1), object(8)\n",
      "memory usage: 60.1+ KB\n",
      "None\n"
     ]
    }
   ],
   "source": [
    "print(train_copy.info())"
   ]
  },
  {
   "cell_type": "code",
   "execution_count": 8,
   "id": "37c4019a-5ff3-40e3-9c14-b4c83559fa2e",
   "metadata": {},
   "outputs": [
    {
     "name": "stdout",
     "output_type": "stream",
     "text": [
      "Number of duplicated data :\n",
      "0\n"
     ]
    }
   ],
   "source": [
    "# Checking Duplicated Values.\n",
    "print(\"Number of duplicated data :\")\n",
    "print(train_copy.duplicated().sum())"
   ]
  },
  {
   "cell_type": "markdown",
   "id": "fc9d5014-06e6-4691-8c0b-72220e5a88be",
   "metadata": {
    "tags": []
   },
   "source": [
    "# Exploratory Data Analysis"
   ]
  },
  {
   "cell_type": "code",
   "execution_count": 9,
   "id": "98f3b47d-61d9-487c-b5d2-e1f681d40fb6",
   "metadata": {},
   "outputs": [
    {
     "data": {
      "image/png": "[encoded data removed]",
      "text/plain": [
       "<Figure size 1200x1000 with 4 Axes>"
      ]
     },
     "metadata": {},
     "output_type": "display_data"
    }
   ],
   "source": [
    "# try to plot continuous features on the data.\n",
    "# Objective : to see distribution of continous features and detect outliers.\n",
    "\n",
    "fig, ax = plt.subplots(2,2, figsize = (12,10))\n",
    "\n",
    "sns.histplot(x = 'ApplicantIncome', data = train_copy, stat = 'density', color = '#80b0d5', ax = ax[0,0], bins = 25)\n",
    "sns.histplot(x = 'CoapplicantIncome', data = train_copy, stat = 'density', color = '#80b0d5', ax = ax[0,1], bins = 25)\n",
    "sns.histplot(x = 'LoanAmount', data = train_copy, stat = 'density', color = '#80b0d5', ax = ax[1,0], bins = 25)\n",
    "sns.histplot(x = 'Loan_Amount_Term', data = train_copy, stat = 'density', color = '#80b0d5', ax = ax[1,1], bins = 25)\n",
    "\n",
    "ax[0,0].set_title('Applicant Income Distribution')\n",
    "ax[0,1].set_title('Coapplicant Income Distribution')\n",
    "ax[1,0].set_title('Loan Amount Distribution')\n",
    "ax[1,1].set_title('Loan Amount Term Distribution')\n",
    "\n",
    "plt.tight_layout()\n",
    "plt.show()"
   ]
  },
  {
   "cell_type": "markdown",
   "id": "c1d97df3-d609-41f3-b5d2-a13a7a0fcd61",
   "metadata": {},
   "source": [
    "**Note:**\n",
    "Based on above visualizations, we can see there are some outliers in our data. To address this problem, we will exclude the outliers for now and try to analyze furthermore after several steps. We will use multivariate method to detect the outliers with Mahalanobis Distance."
   ]
  },
  {
   "cell_type": "code",
   "execution_count": 10,
   "id": "5ec006a7-914a-4083-89dd-354183306e9f",
   "metadata": {},
   "outputs": [],
   "source": [
    "def remove_outlier_multivariate(data):\n",
    "    \"\"\"Fungsi ini akan mengeluarkan data yang telah dikeluarkan outliernya dan data outliernya\"\"\"\n",
    "    selected_features = ['ApplicantIncome','CoapplicantIncome','LoanAmount','Loan_Amount_Term']\n",
    "    x_values =  data.loc[:,selected_features].values\n",
    "    mcd = MinCovDet()\n",
    "    mcd.fit(x_values)\n",
    "    loc_ = mcd.location_\n",
    "    cov_ = mcd.covariance_\n",
    "    mahal_robust_dist = mcd.mahalanobis(x_values)\n",
    "    cutoff = chi2.ppf(0.95, x_values.shape[1])\n",
    "    data_new = data.loc[mahal_robust_dist <= cutoff]\n",
    "    data_outliers = data.loc[mahal_robust_dist > cutoff]\n",
    "    return data_new, data_outliers"
   ]
  },
  {
   "cell_type": "code",
   "execution_count": 11,
   "id": "97d6eea4-e578-4b01-97ef-2b11f476dc4d",
   "metadata": {},
   "outputs": [],
   "source": [
    "data_without, outliers = remove_outlier_multivariate(train_copy)"
   ]
  },
  {
   "cell_type": "code",
   "execution_count": 12,
   "id": "c36e6de8-58d8-4f06-b7af-75c4e3deda3f",
   "metadata": {},
   "outputs": [
    {
     "data": {
      "image/png": "[encoded data removed]",
      "text/plain": [
       "<Figure size 1200x1000 with 4 Axes>"
      ]
     },
     "metadata": {},
     "output_type": "display_data"
    }
   ],
   "source": [
    "# try to plot continuous features on the data.\n",
    "# Objective : to see distribution of continous features and detect outliers.\n",
    "\n",
    "fig, ax = plt.subplots(2,2, figsize = (12,10))\n",
    "\n",
    "sns.histplot(x = 'ApplicantIncome', data = data_without, stat = 'density', color = '#80b0d5', ax = ax[0,0], bins = 25)\n",
    "sns.histplot(x = 'CoapplicantIncome', data = data_without, stat = 'density', color = '#80b0d5', ax = ax[0,1], bins = 25)\n",
    "sns.histplot(x = 'LoanAmount', data = data_without, stat = 'density', color = '#80b0d5', ax = ax[1,0], bins = 25)\n",
    "sns.histplot(x = 'Loan_Amount_Term', data = data_without, stat = 'density', color = '#80b0d5', ax = ax[1,1], bins = 25)\n",
    "\n",
    "ax[0,0].set_title('Applicant Income Distribution')\n",
    "ax[0,1].set_title('Coapplicant Income Distribution')\n",
    "ax[1,0].set_title('Loan Amount Distribution')\n",
    "ax[1,1].set_title('Loan Amount Term Distribution')\n",
    "\n",
    "plt.tight_layout()\n",
    "plt.show()"
   ]
  },
  {
   "cell_type": "markdown",
   "id": "2d13a241-6bde-488e-ad8c-f64328c598c2",
   "metadata": {},
   "source": [
    "**Note:**\n",
    "Based on above visualizations, we can see the distributions look more normal than the previous. However, we still have to analyze the outliers that we have removed previously. For now, we will find out how many outliers that have removed and proceed to do exploratory analysis."
   ]
  },
  {
   "cell_type": "code",
   "execution_count": 13,
   "id": "bcff139a-1973-4f51-bab4-8f6b182452e9",
   "metadata": {},
   "outputs": [
    {
     "name": "stdout",
     "output_type": "stream",
     "text": [
      "Number of outliers :\n",
      "216\n",
      "Number of data without outliers :\n",
      "398\n"
     ]
    }
   ],
   "source": [
    "print('Number of outliers :')\n",
    "print(outliers.shape[0])\n",
    "print('Number of data without outliers :')\n",
    "print(data_without.shape[0])"
   ]
  },
  {
   "cell_type": "code",
   "execution_count": 14,
   "id": "f92eb7b6-fb56-4c79-bb51-76d74a80bd75",
   "metadata": {},
   "outputs": [
    {
     "name": "stdout",
     "output_type": "stream",
     "text": [
      "Descriptive Stats for the numeric features :\n"
     ]
    },
    {
     "data": {
      "text/html": [
       "<div>\n",
       "<style scoped>\n",
       "    .dataframe tbody tr th:only-of-type {\n",
       "        vertical-align: middle;\n",
       "    }\n",
       "\n",
       "    .dataframe tbody tr th {\n",
       "        vertical-align: top;\n",
       "    }\n",
       "\n",
       "    .dataframe thead th {\n",
       "        text-align: right;\n",
       "    }\n",
       "</style>\n",
       "<table border=\"1\" class=\"dataframe\">\n",
       "  <thead>\n",
       "    <tr style=\"text-align: right;\">\n",
       "      <th></th>\n",
       "      <th>count</th>\n",
       "      <th>mean</th>\n",
       "      <th>std</th>\n",
       "      <th>min</th>\n",
       "      <th>25%</th>\n",
       "      <th>50%</th>\n",
       "      <th>75%</th>\n",
       "      <th>max</th>\n",
       "    </tr>\n",
       "  </thead>\n",
       "  <tbody>\n",
       "    <tr>\n",
       "      <th>ApplicantIncome</th>\n",
       "      <td>398.0</td>\n",
       "      <td>3711.891960</td>\n",
       "      <td>1357.603363</td>\n",
       "      <td>210.0</td>\n",
       "      <td>2683.75</td>\n",
       "      <td>3464.5</td>\n",
       "      <td>4578.75</td>\n",
       "      <td>7667.0</td>\n",
       "    </tr>\n",
       "    <tr>\n",
       "      <th>CoapplicantIncome</th>\n",
       "      <td>398.0</td>\n",
       "      <td>1215.226432</td>\n",
       "      <td>1203.008674</td>\n",
       "      <td>0.0</td>\n",
       "      <td>0.00</td>\n",
       "      <td>1293.5</td>\n",
       "      <td>2130.00</td>\n",
       "      <td>4750.0</td>\n",
       "    </tr>\n",
       "    <tr>\n",
       "      <th>LoanAmount</th>\n",
       "      <td>398.0</td>\n",
       "      <td>121.474874</td>\n",
       "      <td>35.302480</td>\n",
       "      <td>30.0</td>\n",
       "      <td>100.00</td>\n",
       "      <td>121.0</td>\n",
       "      <td>139.75</td>\n",
       "      <td>216.0</td>\n",
       "    </tr>\n",
       "    <tr>\n",
       "      <th>Loan_Amount_Term</th>\n",
       "      <td>398.0</td>\n",
       "      <td>360.000000</td>\n",
       "      <td>0.000000</td>\n",
       "      <td>360.0</td>\n",
       "      <td>360.00</td>\n",
       "      <td>360.0</td>\n",
       "      <td>360.00</td>\n",
       "      <td>360.0</td>\n",
       "    </tr>\n",
       "  </tbody>\n",
       "</table>\n",
       "</div>"
      ],
      "text/plain": [
       "                   count         mean          std    min      25%     50%  \\\n",
       "ApplicantIncome    398.0  3711.891960  1357.603363  210.0  2683.75  3464.5   \n",
       "CoapplicantIncome  398.0  1215.226432  1203.008674    0.0     0.00  1293.5   \n",
       "LoanAmount         398.0   121.474874    35.302480   30.0   100.00   121.0   \n",
       "Loan_Amount_Term   398.0   360.000000     0.000000  360.0   360.00   360.0   \n",
       "\n",
       "                       75%     max  \n",
       "ApplicantIncome    4578.75  7667.0  \n",
       "CoapplicantIncome  2130.00  4750.0  \n",
       "LoanAmount          139.75   216.0  \n",
       "Loan_Amount_Term    360.00   360.0  "
      ]
     },
     "metadata": {},
     "output_type": "display_data"
    }
   ],
   "source": [
    "# Lets Visualize the numeric features with descriptive stats,correlation tabel,scatterplot to find any patterns.\n",
    "print(\"Descriptive Stats for the numeric features :\")\n",
    "display(data_without.loc[:,['ApplicantIncome','CoapplicantIncome','LoanAmount','Loan_Amount_Term']].describe().T)"
   ]
  },
  {
   "cell_type": "code",
   "execution_count": 15,
   "id": "3480473a-84bd-445f-8b30-dc3162c8071e",
   "metadata": {},
   "outputs": [
    {
     "name": "stdout",
     "output_type": "stream",
     "text": [
      "Correlation Table :\n"
     ]
    },
    {
     "data": {
      "image/png": "[encoded data removed]",
      "text/plain": [
       "<Figure size 640x480 with 2 Axes>"
      ]
     },
     "metadata": {},
     "output_type": "display_data"
    }
   ],
   "source": [
    "correlation = data_without.loc[:,['ApplicantIncome','CoapplicantIncome','LoanAmount']].corr()\n",
    "print(\"Correlation Table :\")\n",
    "sns.heatmap(correlation, square = True, annot = True)\n",
    "plt.show()"
   ]
  },
  {
   "cell_type": "code",
   "execution_count": 16,
   "id": "bb9898b7-f983-4454-b838-f14ee6a5f257",
   "metadata": {},
   "outputs": [
    {
     "data": {
      "image/png": "[encoded data removed]",
      "text/plain": [
       "<Figure size 845.736x750 with 12 Axes>"
      ]
     },
     "metadata": {},
     "output_type": "display_data"
    }
   ],
   "source": [
    "sns.pairplot(data_without.loc[:,['ApplicantIncome','CoapplicantIncome','LoanAmount','Loan_Status']],hue = 'Loan_Status', diag_kind = 'hist')\n",
    "plt.show()"
   ]
  },
  {
   "cell_type": "markdown",
   "id": "cc09202a-0d11-48be-83a0-4cd58f58f795",
   "metadata": {},
   "source": [
    "**Note:**\n",
    "From correlation heatmap and pairplot visualization above, we can see that there is no strong relationship between each numeric features. Furthermore, we aren't able to distinguish between customer who has 'Yes' loan status and 'No' loan status based on these 3 numeric features (Applicant Income, Coapplicant Income, and Loan Amount) solely on by looking at the visualization. To address this, we'll do statistical test for these numeric features to find out whether 'Yes' loan status is different to 'No' loan status."
   ]
  },
  {
   "cell_type": "code",
   "execution_count": 17,
   "id": "11f0996e-7357-42dd-870e-5f9ba10afa70",
   "metadata": {},
   "outputs": [],
   "source": [
    "from statsmodels.multivariate.manova import MANOVA\n",
    "from scipy.stats import shapiro,bartlett,levene"
   ]
  },
  {
   "cell_type": "code",
   "execution_count": null,
   "id": "ddd7b4af-c9e7-4a5f-830c-e7a2d889756c",
   "metadata": {},
   "outputs": [],
   "source": [
    "# We conduct MANOVA statistical test to find out if Loan Status 'Yes' and 'No' are different on the average based on 3 numeric features (Applicant Income, Coapplicant Income, and Loan Amount) simultaneously\n",
    "manova_result = MANOVA.from_formula('ApplicantIncome + CoapplicantIncome + LoanAmount ~ Loan_Status', data = data_without).mv_test()\n",
    "print(\"H0 : Loan 'Yes' and 'No' are not different\")\n",
    "print(\"HI : Loan 'Yes' and 'No' are different\")\n",
    "print(\"=\"*25)\n",
    "print(\"Manova result :\")\n",
    "print(manova_result)"
   ]
  },
  {
   "cell_type": "markdown",
   "id": "55175f3e-7f90-4575-afc2-784f4f211562",
   "metadata": {},
   "source": [
    "**note :** From the manova test above, we can see the result fail to reject the null hypothesis with alpha or error type 1 0.05 that there is no significant difference on average based on 3 numeric features between loan status 'Yes' and 'No'. In conclusion, a person who has loan status 'Yes' is not different to a person who has loan status 'No' when it comes to these 3 numeric features (applicant income, coapplicant income, and loan amount). Next, we want to asses if the statistical method that we used satisfies assumptions to verify the test is reliable."
   ]
  },
  {
   "cell_type": "code",
   "execution_count": null,
   "id": "ca107f2b-5006-4e7b-b094-198c56aacd83",
   "metadata": {},
   "outputs": [],
   "source": [
    "# Normality Assumption.\n",
    "loan_yes = data_without[data_without['Loan_Status'] == 'Y']\n",
    "loan_no = data_without[data_without['Loan_Status'] == 'N']\n",
    "\n",
    "# Normality Assumption for 'Yes' group.\n",
    "app_yes = shapiro(loan_yes['ApplicantIncome'].values).pvalue\n",
    "coapp_yes = shapiro(loan_yes['CoapplicantIncome'].values).pvalue\n",
    "amount_yes = shapiro(loan_yes['LoanAmount'].values).pvalue\n",
    "\n",
    "# Normality Assumption for 'No' group.\n",
    "app_no = shapiro(loan_no['ApplicantIncome'].values).pvalue\n",
    "coapp_no = shapiro(loan_no['CoapplicantIncome'].values).pvalue\n",
    "amount_no = shapiro(loan_no['LoanAmount'].values).pvalue\n",
    "\n",
    "print(\"Normality assumption test for 'Yes' group :\")\n",
    "print(f\"P-val for applicant income = {app_yes}\")\n",
    "print(f\"P-val for coapplicant income = {coapp_yes}\")\n",
    "print(f\"P-val for loan amount = {amount_yes}\")\n",
    "print(\"=\"*25)\n",
    "print(\"Normality assumption test for 'No' group :\")\n",
    "print(f\"P-val for applicant income = {app_no}\")\n",
    "print(f\"P-val for coapplicant income = {coapp_no}\")\n",
    "print(f\"P-val for loan amount = {amount_no}\")\n",
    "print(\"=\"*25)\n",
    "print(f\"Number of sample for Loan status 'Yes' = {loan_yes.shape[0]}\")\n",
    "print(f\"Number of sample for Loan status 'No' = {loan_no.shape[0]}\")"
   ]
  },
  {
   "cell_type": "code",
   "execution_count": null,
   "id": "242287f7-4024-4d37-8389-b7c705c52514",
   "metadata": {},
   "outputs": [],
   "source": [
    "# Equal Variance Assumption.\n",
    "app_var = levene(loan_yes['ApplicantIncome'].values,loan_no['ApplicantIncome'].values)\n",
    "coapp_var = levene(loan_yes['CoapplicantIncome'].values,loan_no['CoapplicantIncome'].values)\n",
    "amount_var = levene(loan_yes['LoanAmount'].values,loan_no['LoanAmount'].values)\n",
    "print(\"Equal variance test for  applicant income :\")\n",
    "print(f\"Statistic = {app_var.statistic} and P-val = {app_var.pvalue}\")\n",
    "print(\"=\"*25)\n",
    "print(\"Equal variance test for  coapplicant income :\")\n",
    "print(f\"Statistic = {coapp_var.statistic} and P-val = {coapp_var.pvalue}\")\n",
    "print(\"=\"*25)\n",
    "print(\"Equal variance test for loan amount :\")\n",
    "print(f\"Statistic = {amount_var.statistic} and P-val = {amount_var.pvalue}\")"
   ]
  },
  {
   "cell_type": "markdown",
   "id": "9e416cf2-79c2-487e-8e34-d825889758fb",
   "metadata": {},
   "source": [
    "**Note :** There are 4 common assumptions of MANOVA : 1.Multivariate Normality, 2.Independence Samples, 3.Equal Covariance Matrix, 4. low outliers presence. First, based on the result of the normality test on each group, we find that not all group satisfy normality. that being said, if the sample for each groups is large enough, MANOVA tends to robust to this assumption. Fortunately, our samples on each groups is large enough, so we can say the first assumption is satisfied. Second, because we don't know how the data or samples are collected, we're assuming that the samples are independent and the second assumption is satisfied. Third, based on the equal variance test previously, we get the result that fail to reject the null hypothesis with an alpha = 0.05. So, the variance between each groups are equal and third assumption is satisfied. Last, the fourth assumption is already satisfied because we have removed outliers form the previous step. In conclusion, all the assumptions are satisfied and we can rely the result of MANOVA test that there is no significnat difference between loan status 'Yes' and 'No' when it comes to these 3 numeric feature (Applicant Income, Coapplicant Income, and Loan Amount)."
   ]
  },
  {
   "cell_type": "markdown",
   "id": "99789f1d-7925-477d-9ea0-49d0a2c4e02c",
   "metadata": {},
   "source": [
    "For the next analysis, we want to see is there any factors from the categorical features that may be affecting a person has 'Yes' or 'No' loan status. We will be using chisquare or fisher exact statistical test to test the hypothesis."
   ]
  },
  {
   "cell_type": "code",
   "execution_count": null,
   "id": "4e987a21-cfe6-4487-bf18-4bab7d856e2a",
   "metadata": {},
   "outputs": [],
   "source": [
    "print(data_without.columns)"
   ]
  },
  {
   "cell_type": "code",
   "execution_count": null,
   "id": "ede502d6-5402-4a97-b66b-20e86b8e044f",
   "metadata": {},
   "outputs": [],
   "source": [
    "cat_col = ['Gender','Married','Dependents','Education','Self_Employed','Credit_History','Property_Area','Loan_Status']"
   ]
  },
  {
   "cell_type": "code",
   "execution_count": null,
   "id": "3388d67f-d8f5-4ff2-863b-24aaf0d81212",
   "metadata": {},
   "outputs": [],
   "source": [
    "fig, ax = plt.subplots(2,2, figsize = (14,10))\n",
    "\n",
    "sns.countplot(x = 'Gender', hue = 'Loan_Status', data = data_without, ax = ax[0,0])\n",
    "sns.countplot(x = 'Married', hue = 'Loan_Status', data = data_without, ax = ax[0,1])\n",
    "sns.countplot(x = 'Dependents', hue = 'Loan_Status', data = data_without, ax = ax[1,0])\n",
    "sns.countplot(x = 'Education', hue = 'Loan_Status', data = data_without, ax = ax[1,1])\n",
    "\n",
    "ax[0,0].set_title('Gender vs Loan Status')\n",
    "ax[0,1].set_title('Marreid vs Loan Status')\n",
    "ax[1,0].set_title('Number of Dependents vs Loan Status')\n",
    "ax[1,1].set_title('Education')\n",
    "\n",
    "plt.tight_layout()\n",
    "plt.show()"
   ]
  },
  {
   "cell_type": "markdown",
   "id": "750aa157-f24a-4327-b51b-4383e31b7888",
   "metadata": {},
   "source": [
    "**Note :** Based on visualizations above, we will try to intepret one by one.\n",
    "1. Gender vs Loan Status : From the visualization, we can see that male has a tendency to be accepted for loan than female. However, male also has a tendency not to be accepted for loan than female. This information raises a question : is loan status dependent to gender? or not?. To answer this question we will use statistical test called Chi-Square test to see if 2 variabels are dependent or not. \n",
    "2. Married vs Loan Status : From the visualization, we can see that a married person has a tedency to be accepted for loan than a single person. However, a married person also has a tendency not to be accepted for loan than a single person. This information raises a question : is loan status dependent to married? or not?.\n",
    "3. Dependents vs Loan Status : From the visualization, we can see that a person ho has 0 dependents has a tendency to be accepted for loan than the rest. However, a person who has 2 dependents is more likely to be accepted for loan than a person who has 1 & 3 dependents. This information raises 2 questions : First, is loan status dependent to number of depedents? or not ?. Second, What caused that a person who has 2 dependents is more likely to be accepted for loan than a person who has 1 & 3 dependents, whereas the lesser number of dependents is more likely to be accepted for loan.\n",
    "4. Education vs Loan Status : From the visualization, we can see that a person who is graduated has a tedency to be accepted for loan than a person who is not graduated person. However, a person who is graduated also has a tendency not to be accepted for loan than a person who is not graduated. This information raises a question : is loan status dependent to education? or not?."
   ]
  },
  {
   "cell_type": "code",
   "execution_count": null,
   "id": "c5a069d5-2a2d-4013-b9c0-619f012fa94b",
   "metadata": {},
   "outputs": [],
   "source": [
    "fig, ax = plt.subplots(2,2, figsize = (14,10))\n",
    "\n",
    "sns.countplot(x = 'Self_Employed', hue = 'Loan_Status', data = data_without, ax = ax[0,0])\n",
    "sns.countplot(x = 'Credit_History', hue = 'Loan_Status', data = data_without, ax = ax[0,1])\n",
    "sns.countplot(x = 'Property_Area', hue = 'Loan_Status', data = data_without, ax = ax[1,0])\n",
    "sns.countplot(x = 'Loan_Status', data = data_without, ax = ax[1,1])\n",
    "\n",
    "ax[0,0].set_title('Self Employed vs Loan Status')\n",
    "ax[0,1].set_title('Credit History vs Loan Status')\n",
    "ax[1,0].set_title('Property Area vs Loan Status')\n",
    "ax[1,1].set_title('Loan Status')\n",
    "\n",
    "plt.tight_layout()\n",
    "plt.show()"
   ]
  },
  {
   "cell_type": "markdown",
   "id": "65f94384-816c-4c50-927b-c33e4025417e",
   "metadata": {},
   "source": [
    "**Note :** Based on visualizations above, we will try to intepret one by one.\n",
    "1. Self Employed vs Loan Status : From the visualization, we can see that a person who is not self-employed has a tendency to be accepted for loan than a person who is self-employed. However, a person who is not self-employed also has a tendency not to be accepted for loan than a person who is self-employed. This information raises a question : is loan status dependent to self-employment? or not?. To answer this question we will use statistical test called Chi-Square test to see if 2 variabels are dependent or not. \n",
    "2. Credit History vs Loan Status : From the visualization, we can see that a person who has a good (1) credit history has a tendency to be accepted for loan than a person who doeesn't. Furthermore, a person who has a bad credit history has tendency not to be accepted for loan. This information raises a question : is loan status dependent to credit history? or not?.\n",
    "3. Property Area vs Loan Status : From the visualization, we can see that a person who lives in semiurban arean has a tendency to be accepted for loan than the rest. Furthermore, a person whow lives in semiurban area 2 has a less tendency to not be accepted for loan than the rest. This information raises a question : is loan status dependent to property area? or not ?. \n",
    "4. Loan Status Proportion: From the visualization, we can see that we have unbalanced dataset. This problem will lead to a bad performance for a model. The model will predict more the majority class than the minority and will give a wrong interpretation for model evaluation such as accuracy. To address this problem we will use sampling technique called SMOTE to balance the two classes."
   ]
  },
  {
   "cell_type": "markdown",
   "id": "587286dc-bf3e-4ace-9671-f52ddf6ce7bf",
   "metadata": {
    "tags": []
   },
   "source": [
    "## Categorical Features Analysis.\n",
    "In this section we will analyze more deeper about the categorical features that might have impacts to the dependent variabel (Loan Status). We will begin from conducting statistical test to find out if two variables are dependent or not."
   ]
  },
  {
   "cell_type": "code",
   "execution_count": null,
   "id": "2b1316e6-36f3-4900-8cc4-a603d3ef9ac8",
   "metadata": {},
   "outputs": [],
   "source": [
    "from scipy.stats import chi2_contingency"
   ]
  },
  {
   "cell_type": "code",
   "execution_count": null,
   "id": "41a2aa93-633f-4607-8f51-104a7240c95f",
   "metadata": {},
   "outputs": [],
   "source": [
    "# Chi-Square test for Gender vs Loan Status.\n",
    "gender_loan = data_without.groupby(['Gender','Loan_Status'])['Loan_Status'].count().unstack()\n",
    "gender_results = chi2_contingency(gender_loan.values)\n",
    "odds_ratio_gender = (gender_loan['Y']/gender_loan['N']).loc['Male']/(gender_loan['Y']/gender_loan['N']).loc['Female']\n",
    "print(\"Chi-Square test result :\")\n",
    "print(f\"Statistic\\t= {gender_results[0]}\")\n",
    "print(f\"P-val\\t\\t= {gender_results[1]}\")\n",
    "if gender_results[1] < 0.05:\n",
    "    print(\"Decision\\t= Reject the null hypothesis that 2 variabels are independent\")\n",
    "else:\n",
    "    print(\"Decision\\t= Fail to reject the null hypothesis that 2 variabels are independent\")\n",
    "print(f\"Odds Ratio\\t= {odds_ratio_gender}\") "
   ]
  },
  {
   "cell_type": "markdown",
   "id": "b8918251-36d3-4848-998a-77021e5e0e9a",
   "metadata": {},
   "source": [
    "**Note :** From the test above, we got a result that we fail to reject the null hypothesis that 2 variabels are independent with alpha 0.05. In addition, we can see the odds ratio is close to 1 which means that the tendency between male and female to be accepted for loan is almost same. In conclusion, we can say that loan status is not dependent to gender statistically."
   ]
  },
  {
   "cell_type": "code",
   "execution_count": null,
   "id": "b64ea694-6d7a-43be-a736-47cd2c59e6b2",
   "metadata": {},
   "outputs": [],
   "source": [
    "# Chi-Square test for Married vs Loan Status.\n",
    "married_loan = data_without.groupby(['Married','Loan_Status'])['Loan_Status'].count().unstack()\n",
    "married_results = chi2_contingency(married_loan.values)\n",
    "odds_ratio_married = (married_loan['Y']/married_loan['N']).loc['Yes']/(married_loan['Y']/married_loan['N']).loc['No']\n",
    "print(\"Chi-Square test result :\")\n",
    "print(f\"Statistic\\t= {married_results[0]}\")\n",
    "print(f\"P-val\\t\\t= {married_results[1]}\")\n",
    "if married_results[1] < 0.05:\n",
    "    print(\"Decision\\t= Reject the null hypothesis that 2 variabels are independent\")\n",
    "else:\n",
    "    print(\"Decision\\t= Fail to reject the null hypothesis that 2 variabels are independent\")\n",
    "print(f\"Odds Ratio\\t= {odds_ratio_married}\") "
   ]
  },
  {
   "cell_type": "markdown",
   "id": "89db4e2f-2b68-480c-813a-7383732c9f77",
   "metadata": {},
   "source": [
    "**Note :** From the test above, we got a result that we fail to reject the null hypothesis that 2 variabels are independent with alpha 0.05. In addition, we can see the odds ratio is close to 1 which means that the tendency between a person who is married and a person who doesn't to be accepted for loan is almost same. In conclusion, we can say that loan status is not dependent to married status statistically."
   ]
  },
  {
   "cell_type": "code",
   "execution_count": null,
   "id": "87e22b93-622b-498a-ab7c-840439948eb5",
   "metadata": {},
   "outputs": [],
   "source": [
    "# Chi-Square test for Number of Dependents vs Loan Status.\n",
    "dependents_loan = data_without.groupby(['Dependents','Loan_Status'])['Loan_Status'].count().unstack()\n",
    "dependents_results = chi2_contingency(dependents_loan.values)\n",
    "odds_ratio_dependents_0vs1 = (dependents_loan.loc[['0','1'],'Y']/dependents_loan.loc[['0','1'],'N']).loc['0']/(dependents_loan.loc[['0','1'],'Y']/dependents_loan.loc[['0','1'],'N']).loc['1']\n",
    "odds_ratio_dependents_0vs2 = (dependents_loan.loc[['0','2'],'Y']/dependents_loan.loc[['0','2'],'N']).loc['0']/(dependents_loan.loc[['0','2'],'Y']/dependents_loan.loc[['0','2'],'N']).loc['2']\n",
    "odds_ratio_dependents_0vs3 = (dependents_loan.loc[['0','3+'],'Y']/dependents_loan.loc[['0','3+'],'N']).loc['0']/(dependents_loan.loc[['0','3+'],'Y']/dependents_loan.loc[['0','3+'],'N']).loc['3+']\n",
    "print(\"Chi-Square test result :\")\n",
    "print(f\"Statistic\\t= {dependents_results[0]}\")\n",
    "print(f\"P-val\\t\\t= {dependents_results[1]}\")\n",
    "if dependents_results[1] < 0.05:\n",
    "    print(\"Decision\\t= Reject the null hypothesis that 2 variabels are independent\")\n",
    "else:\n",
    "    print(\"Decision\\t= Fail to reject the null hypothesis that 2 variabels are independent\")\n",
    "print(f\"Odds Ratio for 0 vs 1\\t= {odds_ratio_dependents_0vs1}\") \n",
    "print(f\"Odds Ratio for 0 vs 2\\t= {odds_ratio_dependents_0vs2}\") \n",
    "print(f\"Odds Ratio for 0 vs 3+\\t= {odds_ratio_dependents_0vs3}\") "
   ]
  },
  {
   "cell_type": "markdown",
   "id": "42ade0a5-2194-4ca0-aeab-b058e93901d6",
   "metadata": {},
   "source": [
    "**Note :** From the test above, we got a result that we fail to reject the null hypothesis that 2 variabels are independent with alpha 0.05. In addition, we can see the odds ratio for every levels is close to 1 which means that the tendency between a person who has 1,2, and 3+ dependents againts a person who has 0 depedents is almost same. In conclusion, we can say that loan status is not dependent to number of dependents statistically."
   ]
  },
  {
   "cell_type": "code",
   "execution_count": null,
   "id": "02da1ba6-e331-42ec-b482-643ee8ca0f72",
   "metadata": {},
   "outputs": [],
   "source": [
    "# Chi-Square test for Education vs Loan Status.\n",
    "education_loan = data_without.groupby(['Education','Loan_Status'])['Loan_Status'].count().unstack()\n",
    "education_results = chi2_contingency(education_loan.values)\n",
    "odds_ratio_education = (education_loan['Y']/education_loan['N']).loc['Graduate']/(education_loan['Y']/education_loan['N']).loc['Not Graduate']\n",
    "print(\"Chi-Square test result :\")\n",
    "print(f\"Statistic\\t= {education_results[0]}\")\n",
    "print(f\"P-val\\t\\t= {education_results[1]}\")\n",
    "if education_results[1] < 0.05:\n",
    "    print(\"Decision\\t= Reject the null hypothesis that 2 variabels are independent\")\n",
    "else:\n",
    "    print(\"Decision\\t= Fail to reject the null hypothesis that 2 variabels are independent\")\n",
    "print(f\"Odds Ratio\\t= {odds_ratio_education}\") "
   ]
  },
  {
   "cell_type": "markdown",
   "id": "6fe0ef87-1a26-449e-bbf9-d0b96085be9e",
   "metadata": {},
   "source": [
    "**Note :** From the test above, we got a result that we fail to reject the null hypothesis that 2 variabels are independent with alpha 0.05. In addition, we can see the odds ratio for a person who is graduated againts a person who is not graduated is near to 1 which means that the tendency to be accepted for loan is almost same. In conclusion, we can say that loan status is not dependent to education statistically."
   ]
  },
  {
   "cell_type": "code",
   "execution_count": null,
   "id": "e8e3c84e-56de-4c71-b38f-b3b848cd6332",
   "metadata": {},
   "outputs": [],
   "source": [
    "# Chi-Square test for Self Employment vs Loan Status.\n",
    "employment_loan = data_without.groupby(['Self_Employed','Loan_Status'])['Loan_Status'].count().unstack()\n",
    "employment_results = chi2_contingency(employment_loan.values)\n",
    "odds_ratio_employment = (employment_loan['Y']/employment_loan['N']).loc['Yes']/(employment_loan['Y']/employment_loan['N']).loc['No']\n",
    "print(\"Chi-Square test result :\")\n",
    "print(f\"Statistic\\t= {employment_results[0]}\")\n",
    "print(f\"P-val\\t\\t= {employment_results[1]}\")\n",
    "if employment_results[1] < 0.05:\n",
    "    print(\"Decision\\t= Reject the null hypothesis that 2 variabels are independent\")\n",
    "else:\n",
    "    print(\"Decision\\t= Fail to reject the null hypothesis that 2 variabels are independent\")\n",
    "print(f\"Odds Ratio\\t= {odds_ratio_employment}\") "
   ]
  },
  {
   "cell_type": "markdown",
   "id": "7e07ed72-7116-427c-a40c-cf3fdc1b1020",
   "metadata": {},
   "source": [
    "**Note :** From the test above, we got a result that we fail to reject the null hypothesis that 2 variabels are independent with alpha 0.05. In addition, we can see the odds ratio for a person who is self-employment againts a person who is not self-imployment is near to 1 which means that the tendency to be accepted for loan is almost same. In conclusion, we can say that loan status is not dependent to self-employment statistically."
   ]
  },
  {
   "cell_type": "code",
   "execution_count": null,
   "id": "8fa4f0c0-a787-4602-bada-39b6432393eb",
   "metadata": {},
   "outputs": [],
   "source": [
    "# Chi-Square test for Credit History vs Loan Status.\n",
    "credit_loan = data_without.groupby(['Credit_History','Loan_Status'])['Loan_Status'].count().unstack()\n",
    "credit_results = chi2_contingency(credit_loan.values)\n",
    "odds_ratio_credit = (credit_loan['Y']/credit_loan['N']).loc[1]/(credit_loan['Y']/credit_loan['N']).loc[0]\n",
    "print(\"Chi-Square test result :\")\n",
    "print(f\"Statistic\\t= {credit_results[0]}\")\n",
    "print(f\"P-val\\t\\t= {credit_results[1]}\")\n",
    "if credit_results[1] < 0.05:\n",
    "    print(\"Decision\\t= Reject the null hypothesis that 2 variabels are independent\")\n",
    "else:\n",
    "    print(\"Decision\\t= Fail to reject the null hypothesis that 2 variabels are independent\")\n",
    "print(f\"Odds Ratio\\t= {odds_ratio_credit}\") "
   ]
  },
  {
   "cell_type": "markdown",
   "id": "2bd8e02b-c451-4088-b242-79ed6866f4f9",
   "metadata": {},
   "source": [
    "**Note :** From the test above, we got a result that we reject the null hypothesis that 2 variabels are independent with alpha 0.05. This means that a person who has a good credit history is likely to be accepted for loan than a person who doesn't have a good credit history.In addition, we can see the odds ratio of a person who has a good credit history againts a person who doesn't. In conclusion, we can say that loan status is dependent to credit history statistically."
   ]
  },
  {
   "cell_type": "code",
   "execution_count": null,
   "id": "10253e84-59bc-488a-a734-974db2c9b5b4",
   "metadata": {},
   "outputs": [],
   "source": [
    "# Chi-Square test for Property Area vs Loan Status.\n",
    "property_loan = data_without.groupby(['Property_Area','Loan_Status'])['Loan_Status'].count().unstack()\n",
    "property_results = chi2_contingency(property_loan.values)\n",
    "odds_ratio_property_semiurban_urban = (property_loan.loc[['Urban','Semiurban'],'Y']/property_loan.loc[['Urban','Semiurban'],'N']).loc['Semiurban']/( \\\n",
    "    property_loan.loc[['Urban','Semiurban'],'Y']/property_loan.loc[['Urban','Semiurban'],'N']).loc['Urban']\n",
    "odds_ratio_property_semiurban_rural = (property_loan.loc[['Rural','Semiurban'],'Y']/property_loan.loc[['Rural','Semiurban'],'N']).loc['Semiurban']/( \\\n",
    "    property_loan.loc[['Rural','Semiurban'],'Y']/property_loan.loc[['Rural','Semiurban'],'N']).loc['Rural']\n",
    "print(\"Chi-Square test result :\")\n",
    "print(f\"Statistic\\t= {property_results[0]}\")\n",
    "print(f\"P-val\\t\\t= {property_results[1]}\")\n",
    "if property_results[1] < 0.05:\n",
    "    print(\"Decision\\t= Reject the null hypothesis that 2 variabels are independent\")\n",
    "else:\n",
    "    print(\"Decision\\t= Fail to reject the null hypothesis that 2 variabels are independent\")\n",
    "print(f\"Odds Ratio for urban vs semi-urban\\t= {odds_ratio_property_semiurban_urban}\") \n",
    "print(f\"Odds Ratio for rural vs semi-urban\\t= {odds_ratio_property_semiurban_rural}\")"
   ]
  },
  {
   "cell_type": "markdown",
   "id": "5e50479f-5d63-4384-9b3f-5ac7a6efa1e1",
   "metadata": {},
   "source": [
    "**Note :** From the test above, we got a result that we reject the null hypothesis that 2 variabels are independent with alpha 0.05.In addition, we can see the odds ratio of a person who lives in semi-urban area is more likely to be accepted for loan than a person who lives in a urban or rural area. In conclusion, we can say that loan status is dependent to property area statistically. Next, We wiil take a deep look to analyze why a person who has 2 dependents is more likely to be accepted for loan than a person who has 1 & 3 dependents, whereas the lesser number of dependents is more likely to be accepted for loan."
   ]
  },
  {
   "cell_type": "code",
   "execution_count": null,
   "id": "7624f142-a795-41b7-9d52-c66262a138b0",
   "metadata": {},
   "outputs": [],
   "source": [
    "# we will add one significant features (credit history) to see if this variable affects the number of dependents feature.\n",
    "g = sns.FacetGrid(data_without, row = \"Credit_History\", height = 5, aspect = 1.5)\n",
    "g.map_dataframe(sns.countplot, x = 'Dependents')\n",
    "plt.show()"
   ]
  },
  {
   "cell_type": "markdown",
   "id": "de21be58-2b97-4028-b930-cab541563cf3",
   "metadata": {},
   "source": [
    "**Note :** From the visualization above, we can see that a person whose number of depedendents is 2 has more good credit score counts than a person whose number of dependents are 1 & 3. Furthermore, a person whose number of dependents are 1 has more bad credit score count than a person whose number of depedents are 0, 2, and 3. From those 2 informations and the previous statistical test on credit history feature, credit history feature has an effect on number of dependents feature that will make a person whose number of dependents is 2 who is more likely to be accepted for loan than a person who has 1 & 3 dependents. In conclusion, we already found what caused the effect on why a person who has 2 dependents is more likely to be accepted for loan than a person who has 1 & 3 dependents, whereas the lesser number of dependents is more likely to be accepted for loan. However, we will take a deep look to another significant feature that is property are whether this features also has a same effect to number of dependents feature."
   ]
  },
  {
   "cell_type": "code",
   "execution_count": null,
   "id": "70c6a1c1-6243-4df3-9832-98fda47ad6ec",
   "metadata": {},
   "outputs": [],
   "source": [
    "# we will add one significant features (credit history) to see if this variable affects the number of dependents feature.\n",
    "g = sns.FacetGrid(data_without, row = \"Property_Area\", height = 5, aspect = 1.5)\n",
    "g.map_dataframe(sns.countplot, x = 'Dependents', order = ['0','1','2','3+'])\n",
    "plt.show()"
   ]
  },
  {
   "cell_type": "markdown",
   "id": "4f0a0837-9a7e-49bb-b07b-be47cdcf75fe",
   "metadata": {},
   "source": [
    "**Note :** From the visualization above, we can see that a person whose number of depedendents is 2 has more counts living in semi-urban area than a person whose number of dependents are 1 & 3. From that information and the previous statistical test on property area feature, property area feature may has a small effect on number of dependents feature that will make a person whose number of dependents is 2 who is more likely to be accepted for loan than a person who has 1 & 3 dependents. In conclusion, credit history and property area features has an effect on number of dependents feature why a person who has 2 dependents is more likely to be accepted for loan than a person who has 1 & 3 dependents, whereas the lesser number of dependents is more likely to be accepted for loan."
   ]
  },
  {
   "cell_type": "markdown",
   "id": "dd75fe87-60dc-43bf-a29c-131ee9ce7fe6",
   "metadata": {
    "tags": []
   },
   "source": [
    "## Outliers Analysis.\n",
    "In this section we will analyze more on outliers data. Outlier is an extream data value that can be very small or very large or distinc to the rests. outlier is still a valid data and may have crucial information. First, we will look the statistics of the outliers, then we will do data exploration to gain any insights."
   ]
  },
  {
   "cell_type": "code",
   "execution_count": null,
   "id": "348c4fa8-eea3-4e7f-858a-11e49f8db433",
   "metadata": {},
   "outputs": [],
   "source": [
    "# data info and Common statistics.\n",
    "print(\"Data dimension :\")\n",
    "print(outliers.shape)\n",
    "print(\"=\"*25)\n",
    "print(\"Data info :\")\n",
    "print(outliers.info())"
   ]
  },
  {
   "cell_type": "code",
   "execution_count": null,
   "id": "cb508c85-1acc-4357-a21f-fdc72be05029",
   "metadata": {},
   "outputs": [],
   "source": [
    "stats_outliers = outliers.describe().T\n",
    "display(stats_outliers)"
   ]
  },
  {
   "cell_type": "markdown",
   "id": "7379e588-ae73-4319-83d4-f406ab93e9a2",
   "metadata": {},
   "source": [
    "**Note :** From the table above, we already got one information that can gain an insight from the data. If we look at the credit history feauture, we can see that almost 85 % of people have a good credit history. from the previous section, we know that credit history is significant to tell whether a person can get a loan or not. So, the hypothesis is there will be more people who get a loan than people who dont. To verify our hypothesis, we need to explore the data more broadly."
   ]
  },
  {
   "cell_type": "code",
   "execution_count": null,
   "id": "a7b72c60-53ea-45c8-860a-d8047bf02bff",
   "metadata": {},
   "outputs": [],
   "source": [
    "outliers_copy = outliers.copy()"
   ]
  },
  {
   "cell_type": "code",
   "execution_count": null,
   "id": "7f03d084-bf7b-49da-902a-7032eee09ae2",
   "metadata": {},
   "outputs": [],
   "source": [
    "outliers_copy['Credit_History'] = outliers_copy['Credit_History'].astype(str)"
   ]
  },
  {
   "cell_type": "code",
   "execution_count": null,
   "id": "ad995a38-5be6-4d8d-a97f-66f6b663e1c1",
   "metadata": {},
   "outputs": [],
   "source": [
    "sns.pairplot(outliers_copy.loc[:,['ApplicantIncome','CoapplicantIncome','LoanAmount','Loan_Amount_Term','Loan_Status']], hue = 'Loan_Status', diag_kind = 'hist')\n",
    "plt.show()"
   ]
  },
  {
   "cell_type": "code",
   "execution_count": null,
   "id": "427c924e-2936-4ab4-b9ea-3fb4b48e7a66",
   "metadata": {},
   "outputs": [],
   "source": [
    "sns.pairplot(outliers_copy.loc[:,['ApplicantIncome','CoapplicantIncome','LoanAmount','Loan_Amount_Term','Credit_History']], hue = 'Credit_History', diag_kind = 'hist')\n",
    "plt.show()"
   ]
  },
  {
   "cell_type": "code",
   "execution_count": null,
   "id": "2fd51031-7135-4356-846d-d66e366fc340",
   "metadata": {},
   "outputs": [],
   "source": [
    "sns.pairplot(outliers_copy.loc[:,['ApplicantIncome','CoapplicantIncome','LoanAmount','Loan_Amount_Term','Property_Area']], hue = 'Property_Area', diag_kind = 'hist')\n",
    "plt.show()"
   ]
  },
  {
   "cell_type": "markdown",
   "id": "baab4839-3bdb-4962-a211-86edc1ff1f9e",
   "metadata": {},
   "source": [
    "**Note :** \n",
    "\n",
    "- plot 1 : there are still many outliers found on the numeric features. each of the histograms show the data is positive skewed.\n",
    "\n",
    "- plot 2 : we can't conclude that Loan Status has different value on each level based on 4 numeric features (Applicant Income, Coapplicant Income, Loan Amount Loan Term).\n",
    "\n",
    "- Plot 3 & 4 : We also can't conclude that each of 2 categorical features (Credit History, Property Area) has a different value based on 4 numeric features (Applicant Income, Coapplicant Income, Loan Amount, and Loan Term).\n",
    "\n",
    "But there is a unique data point that may become an interest. First, the biggest value for applicant income (80k) got no loan, bad credit history, lives on rural area, a year loan term, and +- 380 loan. if we see the applicant income, loan amount, and loan term of this person, we may say that this person should be accepted for loan. However, this person lives in rural area and has a bad credit card history. Because these 2 categorical features (property area & credit card status) have a significant effect whether a person gets a loan or not, this makes this person doesn't get loan.\n",
    "\n",
    "Conclusion : we can't conclude that Loan status is being influenced by the 4 numeric features (Applicant Income, Coapplicant Income, Loan Amount, and Loan term) because a person who get a loan permission and a person who dont have is almost simillar value based on the 4 numeric features. that being said, there is a unique data point who has these feautures : applicant income (80k) got no loan, bad credit history, lives on rural area, a year loan term, and +- 380 loan, but doesn't get a loan permission because this person lives in rural area and has a bad credit history. At the end, these 2 categorical features (Property Area and Credit History) are important to decide whether a person will get a permission to loan or not.\n",
    "\n",
    "\n",
    "\n",
    "\n"
   ]
  },
  {
   "cell_type": "markdown",
   "id": "92e5f37a-fb17-415c-80a0-54d20d23ad41",
   "metadata": {},
   "source": [
    "## Outliers Analysis On Categorical Features.\n",
    "In this section we will take a deeper look about the data with categorical features. We are hoping to find some insights after the analysis."
   ]
  },
  {
   "cell_type": "code",
   "execution_count": null,
   "id": "c843d642-51c7-4e64-a411-e5db6e68c239",
   "metadata": {},
   "outputs": [],
   "source": [
    "fig, ax = plt.subplots(2,2, figsize = (14,10))\n",
    "\n",
    "sns.countplot(x = 'Gender', hue = 'Loan_Status', data = outliers_copy, ax = ax[0,0])\n",
    "sns.countplot(x = 'Married', hue = 'Loan_Status', data = outliers_copy, ax = ax[0,1])\n",
    "sns.countplot(x = 'Dependents', hue = 'Loan_Status', data = outliers_copy, ax = ax[1,0])\n",
    "sns.countplot(x = 'Education', hue = 'Loan_Status', data = outliers_copy, ax = ax[1,1])\n",
    "\n",
    "ax[0,0].set_title('Gender vs Loan Status')\n",
    "ax[0,1].set_title('Married vs Loan Status')\n",
    "ax[1,0].set_title('Number of Dependents vs Loan Status')\n",
    "ax[1,1].set_title('Education')\n",
    "\n",
    "plt.tight_layout()\n",
    "plt.show()"
   ]
  },
  {
   "cell_type": "markdown",
   "id": "2087e156-aa8a-474d-ac1f-020156737292",
   "metadata": {},
   "source": [
    "**Note :** Based on visualizations above, we will try to intepret one by one.\n",
    "1. Gender vs Loan Status : From the visualization, we can see that male has a tendency to be accepted for loan than female. However, male also has a tendency not to be accepted for loan than female. This information raises a question : is loan status dependent to gender? or not?. To answer this question we will use statistical test called Chi-Square test to see if 2 variabels are dependent or not. \n",
    "2. Married vs Loan Status : From the visualization, we can see that a married person has a tedency to be accepted for loan than a single person. However, a single person has a tencdency not to be accepted for a loan based on the counts of 'No' is higher than the counts of 'Yes'. This information raises a question : is loan status dependent to married? or not?.\n",
    "3. Dependents vs Loan Status : From the visualization, we can see that a person ho has 0 dependents has a tendency to be accepted for loan than the rest. However, a person who has 2 dependents is more likely to be accepted for loan than a person who has 1 & 3 dependents. This information raises 2 questions : First, is loan status dependent to number of depedents? or not ?. Second, What caused that a person who has 2 dependents is more likely to be accepted for loan than a person who has 1 & 3 dependents, whereas the lesser number of dependents is more likely to be accepted for loan.\n",
    "4. Education vs Loan Status : From the visualization, we can see that a person who is graduated has a tedency to be accepted for loan than a person who is not graduated person. However, a person who is graduated also has a tendency not to be accepted for loan than a person who is not graduated. This information raises a question : is loan status dependent to education? or not?."
   ]
  },
  {
   "cell_type": "code",
   "execution_count": null,
   "id": "9f11490c-be20-40e3-826f-99191238b0a1",
   "metadata": {},
   "outputs": [],
   "source": [
    "fig, ax = plt.subplots(2,2, figsize = (14,10))\n",
    "\n",
    "sns.countplot(x = 'Self_Employed', hue = 'Loan_Status', data = outliers_copy, ax = ax[0,0])\n",
    "sns.countplot(x = 'Credit_History', hue = 'Loan_Status', data = outliers_copy, ax = ax[0,1])\n",
    "sns.countplot(x = 'Property_Area', hue = 'Loan_Status', data = outliers_copy, ax = ax[1,0])\n",
    "sns.countplot(x = 'Loan_Status', data = outliers_copy, ax = ax[1,1])\n",
    "\n",
    "ax[0,0].set_title('Self Employed vs Loan Status')\n",
    "ax[0,1].set_title('Credit History vs Loan Status')\n",
    "ax[1,0].set_title('Property Area vs Loan Status')\n",
    "ax[1,1].set_title('Loan Status')\n",
    "\n",
    "plt.tight_layout()\n",
    "plt.show()"
   ]
  },
  {
   "cell_type": "markdown",
   "id": "75588e58-50c6-425f-9825-c0bc9eda3228",
   "metadata": {},
   "source": [
    "**Note :** Based on visualizations above, we will try to intepret one by one.\n",
    "1. Self Employed vs Loan Status : From the visualization, we can see that a person who is not self-employed has a tendency to be accepted for loan than a person who is self-employed. However, a person who is not self-employed also has a tendency not to be accepted for loan than a person who is self-employed. This information raises a question : is loan status dependent to self-employment? or not?. To answer this question we will use statistical test called Chi-Square test to see if 2 variabels are dependent or not. \n",
    "2. Credit History vs Loan Status : From the visualization, we can see that a person who has a good (1) credit history has a tendency to be accepted for loan than a person who doeesn't. Furthermore, a person who has a bad credit history has tendency not to be accepted for loan. This information raises a question : is loan status dependent to credit history? or not?.\n",
    "3. Property Area vs Loan Status : From the visualization, we can see that a person who lives in semiurban arean has a tendency to be accepted for loan than the rest. Furthermore, a person whow lives in semiurban area 2 has a less tendency to not be accepted for loan than the rest. This information raises a question : is loan status dependent to property area? or not ?. \n",
    "4. Previously, we have a hypothesis that the counts of people who get a loan permission is higher than the number of people who doesn't(based on 85 % of people have a good credit score history). If we look at the fourth visualization, we can see that the number of people who get a loan permission is higher than the number of people who doesn't. So, we can verify that our hypothesis is true."
   ]
  },
  {
   "cell_type": "markdown",
   "id": "3643f6ae-eedf-452b-b17c-bb06c37de993",
   "metadata": {},
   "source": [
    "Noted that we will no do statistical test on every pair of features because the result of visualizations have a similar pattern. However, we will do a statistical test on loan status and married feautures because it has a different pattern than the previous visualization about loan status and married."
   ]
  },
  {
   "cell_type": "code",
   "execution_count": null,
   "id": "284024fc-657b-4af2-b1a8-9d098153b338",
   "metadata": {},
   "outputs": [],
   "source": [
    "# Chi-Square test for Married vs Loan Status.\n",
    "married_loan_outlier= outliers_copy.groupby(['Married','Loan_Status'])['Loan_Status'].count().unstack()\n",
    "married_results_outlier= chi2_contingency(married_loan_outlier.values)\n",
    "odds_ratio_married_outlier = (married_loan_outlier['Y']/married_loan_outlier['N']).loc['Yes']/(married_loan_outlier['Y']/married_loan_outlier['N']).loc['No']\n",
    "print(\"Chi-Square test result :\")\n",
    "print(f\"Statistic\\t= {married_results_outlier[0]}\")\n",
    "print(f\"P-val\\t\\t= {married_results_outlier[1]}\")\n",
    "if married_results_outlier[1] < 0.05:\n",
    "    print(\"Decision\\t= Reject the null hypothesis that 2 variabels are independent\")\n",
    "else:\n",
    "    print(\"Decision\\t= Fail to reject the null hypothesis that 2 variabels are independent\")\n",
    "print(f\"Odds Ratio\\t= {odds_ratio_married_outlier}\") "
   ]
  },
  {
   "cell_type": "markdown",
   "id": "5bb4c005-b34f-4bc4-b5c3-a9359fe5a59d",
   "metadata": {},
   "source": [
    "**Note :** From the test above, we reject the null hypothesis that 2 variables are independent with alpha 0.05. However, the previous test is fail to reject the null hypothesis that 2 variables are independent. it brings a question that why this is happening? to answer this quesiton , it may happen because of outliers removal process from the beginning of EDA section. Because we chose the alpha = 0.05, it might not capture most of the outliers. Hence, it caused the counts of single people with 'Yes' loan status is lower than the 'No' loan status. "
   ]
  },
  {
   "cell_type": "markdown",
   "id": "b68b4405-8220-4a39-a7d7-d5adb665643b",
   "metadata": {},
   "source": [
    "## The conclusion.\n",
    "From the exploratory and explanatory process that we have done, we can conclude 3 main insights. First, there is no significant effect of all numeric features (applicant income, coapplicant income, loan amount, loan term) on loan status feature. Second, credit history and  property area are the two significant features that are best to describe whether a person gets a loan permission or not. Last but not least, from outlier analysis we can conclude that almost all features have the same effect to the data without outlier, but there is a unique data point who has these feautures : applicant income (80k) got no loan, bad credit history, lives on rural area, a year loan term, and +- 380 loan, but doesn't get a loan permission because this person lives in rural area and has a bad credit history."
   ]
  },
  {
   "cell_type": "markdown",
   "id": "3a5279ae-ecb8-4f82-858f-dac46a200e03",
   "metadata": {
    "tags": []
   },
   "source": [
    "# Class Balancing (Undersampling, Oversampling With SMOTENC, Undersampling & Oversampling WITH SMOTENC)\n",
    "In this section, we will try to explore about class balancing technique to address imbalance class distribution in our dataset. We will try to do 3 option and compare the prediction result at the end."
   ]
  },
  {
   "cell_type": "code",
   "execution_count": 28,
   "id": "2c928e23-2445-4e5c-bb98-1927b970b1b3",
   "metadata": {},
   "outputs": [],
   "source": [
    "from imblearn.over_sampling import SMOTENC\n",
    "from imblearn.under_sampling import RandomUnderSampler\n",
    "from sklearn.model_selection import train_test_split, cross_val_score\n",
    "from sklearn.preprocessing  import StandardScaler\n",
    "from sklearn.metrics import classification_report, roc_auc_score, precision_score, recall_score, accuracy_score, f1_score\n",
    "from sklearn.tree import DecisionTreeClassifier\n",
    "from sklearn.ensemble import RandomForestClassifier, AdaBoostClassifier\n",
    "from sklearn.linear_model import LogisticRegression\n",
    "from sklearn.neighbors import KNeighborsClassifier\n",
    "from sklearn.svm import SVC\n",
    "from sklearn.pipeline import Pipeline\n",
    "from sklearn.compose import ColumnTransformer\n",
    "from sklearn.preprocessing import OneHotEncoder, LabelEncoder\n",
    "from sklearn.model_selection import GridSearchCV, RandomizedSearchCV\n",
    "import xgboost as xgb\n",
    "import sklearn"
   ]
  },
  {
   "cell_type": "code",
   "execution_count": null,
   "id": "42e94c95-f00b-4a04-9ccb-0e9f5daaef05",
   "metadata": {},
   "outputs": [],
   "source": [
    "print(\"Class proportion in the data :\")\n",
    "print(data_without['Loan_Status'].value_counts())"
   ]
  },
  {
   "cell_type": "code",
   "execution_count": null,
   "id": "3711b9b9-d182-47a0-8db2-9f149dd0c49d",
   "metadata": {},
   "outputs": [],
   "source": [
    "X = data_without.copy().drop(['Loan_Status','Loan_ID'],axis = 1)\n",
    "Y = data_without.copy()[['Loan_Status']]\n",
    "print(\"Data Info\\t:\")\n",
    "print(X.info())"
   ]
  },
  {
   "cell_type": "markdown",
   "id": "526e029f-d541-4057-b8ee-a8faad108d6f",
   "metadata": {
    "jp-MarkdownHeadingCollapsed": true,
    "tags": []
   },
   "source": [
    "## Preprocessing."
   ]
  },
  {
   "cell_type": "code",
   "execution_count": null,
   "id": "f934e9fd-7a92-4d62-9890-e74798a50c8f",
   "metadata": {},
   "outputs": [],
   "source": [
    "X['Credit_History'] = X['Credit_History'].astype(str)\n",
    "Y['Loan_Status'] = Y['Loan_Status'].replace({\"Y\" : 1, \"N\" : 0})"
   ]
  },
  {
   "cell_type": "code",
   "execution_count": null,
   "id": "7a2073c1-7c6f-43c7-a40c-3ee3fc0d8039",
   "metadata": {},
   "outputs": [],
   "source": [
    "print(X.info())"
   ]
  },
  {
   "cell_type": "code",
   "execution_count": null,
   "id": "416a16b4-0c7f-4b88-b834-048844646c7e",
   "metadata": {},
   "outputs": [],
   "source": [
    "train_x, test_x, train_y, test_y = train_test_split(X, Y, test_size = 0.1, random_state = 32)\n",
    "print(\"Training data dimension\\t:\")\n",
    "print(f\"X = {train_x.shape}\")\n",
    "print(f\"Y = {train_y.shape}\")\n",
    "print(\"Testing data dimension\\t:\")\n",
    "print(f\"X = {test_x.shape}\")\n",
    "print(f\"Y = {test_y.shape}\")"
   ]
  },
  {
   "cell_type": "code",
   "execution_count": null,
   "id": "c418d1ac-c1c6-4790-a43c-b2a584df30ec",
   "metadata": {},
   "outputs": [],
   "source": [
    "# Undersampling the majority class.\n",
    "res_und = RandomUnderSampler(sampling_strategy = 0.95, random_state = 32)\n",
    "x_res_und, y_res_und = res_und.fit_resample(train_x,train_y)\n",
    "\n",
    "# Oversampling the minority class.\n",
    "res_over = SMOTENC(sampling_strategy = 1, categorical_features = [0,1,2,3,4,9,10], random_state = 32, k_neighbors = 5)\n",
    "x_res_over, y_res_over = res_over.fit_resample(train_x,train_y)\n",
    "\n",
    "# Oversampling the minority class.\n",
    "res_over_under_1 = SMOTENC(sampling_strategy = 0.9, categorical_features = [0,1,2,3,4,9,10], random_state = 32, k_neighbors = 5)\n",
    "x_res_over_under_1, y_res_over_under_1= res_over_under_1.fit_resample(train_x,train_y)\n",
    "\n",
    "res_over_under_2 = RandomUnderSampler(sampling_strategy = 0.9, random_state = 32)\n",
    "x_res_over_under_2, y_res_over_under_2= res_over_under_2.fit_resample(x_res_over_under_1,y_res_over_under_1)"
   ]
  },
  {
   "cell_type": "code",
   "execution_count": null,
   "id": "3dcb7dfc-29b3-40bf-af30-f5b12e3e7347",
   "metadata": {},
   "outputs": [],
   "source": [
    "# Class Proportion For Undersampling.\n",
    "print(\"Class proportion for undersampling :\")\n",
    "print(f\"No\\t= {y_res_und.value_counts().loc[0].values}\")\n",
    "print(f\"Yes\\t= {y_res_und.value_counts().loc[1].values}\") \n",
    "print(\"=\"*20)\n",
    "# Class Proportion For Oversampling.\n",
    "print(\"Class proportion for Oversampling :\")\n",
    "print(f\"No\\t= {y_res_over.value_counts().loc[0].values}\")\n",
    "print(f\"Yes\\t= {y_res_over.value_counts().loc[1].values}\") \n",
    "print(\"=\"*20)\n",
    "# Class Proportion For Oversampling and Undersampling.\n",
    "print(\"Class proportion for oversampling & undersampling :\")\n",
    "print(f\"No\\t= {y_res_over_under_2.value_counts().loc[0].values}\")\n",
    "print(f\"Yes\\t= {y_res_over_under_2.value_counts().loc[1].values}\") \n",
    "print(\"=\"*20)"
   ]
  },
  {
   "cell_type": "code",
   "execution_count": null,
   "id": "9f4eeb3a-87ae-4637-97e9-4d610e4c3814",
   "metadata": {},
   "outputs": [],
   "source": [
    "# Standardize the numerical data.\n",
    "sc_under = StandardScaler()\n",
    "sc_over  = StandardScaler()\n",
    "sc_over_under = StandardScaler()\n",
    "test_x_under, test_y_under = (test_x.copy(),test_y.copy())\n",
    "test_x_over, test_y_over = (test_x.copy(), test_y.copy())\n",
    "test_x_over_under, test_y_over_under = (test_x.copy(), test_y.copy())\n",
    "                                        \n",
    "# For undersampling.\n",
    "x_res_und.loc[:,['LoanAmount','Loan_Amount_Term','ApplicantIncome','CoapplicantIncome']] = sc_under.fit_transform(x_res_und.loc[:,['LoanAmount','Loan_Amount_Term','ApplicantIncome','CoapplicantIncome']])\n",
    "test_x_under.loc[:, ['LoanAmount', 'Loan_Amount_Term', 'ApplicantIncome', 'CoapplicantIncome']] = sc_under.transform(test_x_under.loc[:, ['LoanAmount', 'Loan_Amount_Term', 'ApplicantIncome', 'CoapplicantIncome']])\n",
    "\n",
    "# For oversampling.\n",
    "x_res_over.loc[:,['LoanAmount','Loan_Amount_Term','ApplicantIncome','CoapplicantIncome']]= sc_over.fit_transform(x_res_over.loc[:,['LoanAmount','Loan_Amount_Term','ApplicantIncome','CoapplicantIncome']])\n",
    "test_x_over.loc[:, ['LoanAmount', 'Loan_Amount_Term', 'ApplicantIncome', 'CoapplicantIncome']] = sc_over.transform(test_x_over.loc[:, ['LoanAmount', 'Loan_Amount_Term', 'ApplicantIncome', 'CoapplicantIncome']])\n",
    "\n",
    "\n",
    "# For oversampling and undersampling.\n",
    "x_res_over_under_2.loc[:,['LoanAmount','Loan_Amount_Term','ApplicantIncome','CoapplicantIncome']]= sc_over_under.fit_transform(x_res_over_under_2.loc[:,['LoanAmount','Loan_Amount_Term','ApplicantIncome','CoapplicantIncome']])\n",
    "test_x_over_under.loc[:, ['LoanAmount', 'Loan_Amount_Term', 'ApplicantIncome', 'CoapplicantIncome']] = sc_over_under.transform(test_x_over_under.loc[:, ['LoanAmount', 'Loan_Amount_Term', 'ApplicantIncome', 'CoapplicantIncome']])"
   ]
  },
  {
   "cell_type": "code",
   "execution_count": null,
   "id": "ba1ab2b4-d7e7-46ed-866d-5c83bc8994e8",
   "metadata": {},
   "outputs": [],
   "source": [
    "# data undersamplling\n",
    "display(x_res_und.head())"
   ]
  },
  {
   "cell_type": "code",
   "execution_count": null,
   "id": "79014e17-5fcf-46a8-ae4d-46c82653ed4d",
   "metadata": {},
   "outputs": [],
   "source": [
    "# data oversampling\n",
    "display(x_res_over.head())"
   ]
  },
  {
   "cell_type": "code",
   "execution_count": null,
   "id": "c12953f3-63f9-4a05-83ea-c16f36630020",
   "metadata": {},
   "outputs": [],
   "source": [
    "# data oversampling and undersampling\n",
    "display(x_res_over_under_2.head())"
   ]
  },
  {
   "cell_type": "code",
   "execution_count": null,
   "id": "01ba75c4-e7f5-411f-bddc-d5e776735f89",
   "metadata": {},
   "outputs": [],
   "source": [
    "# Data Preprocessing for every sampling techniques and testing data.\n",
    "\n",
    "# Undersampling.\n",
    "x_res_und['Gender'] = x_res_und['Gender'].replace({'Male' : 1, 'Female' : 0})\n",
    "x_res_und['Married'] = x_res_und['Married'].replace({'Yes' : 1, 'No' : 0})\n",
    "x_res_und['Dependents'] = x_res_und['Dependents'].replace({'0' : 0, '1' : 1, '2' : 2, '3+' : 3})\n",
    "x_res_und['Education'] = x_res_und['Education'].replace({'Graduate' : 1, 'Not Graduate' : 0})\n",
    "x_res_und['Self_Employed'] = x_res_und['Self_Employed'].replace({'Yes' : 1, 'No' : 0})\n",
    "x_res_und['Credit_History'] = x_res_und['Credit_History'].astype(int)\n",
    "\n",
    "test_x_under['Gender'] = test_x_under['Gender'].replace({'Male' : 1, 'Female' : 0})\n",
    "test_x_under['Married'] = test_x_under['Married'].replace({'Yes' : 1, 'No' : 0})\n",
    "test_x_under['Dependents'] = test_x_under['Dependents'].replace({'0' : 0, '1' : 1, '2' : 2, '3+' : 3})\n",
    "test_x_under['Education'] = test_x_under['Education'].replace({'Graduate' : 1, 'Not Graduate' : 0})\n",
    "test_x_under['Self_Employed'] = test_x_under['Self_Employed'].replace({'Yes' : 1, 'No' : 0})\n",
    "test_x_under['Credit_History'] = test_x_under['Credit_History'].astype(int)\n",
    "\n",
    "# oversampling.\n",
    "x_res_over['Gender'] = x_res_over['Gender'].replace({'Male' : 1, 'Female' : 0})\n",
    "x_res_over['Married'] = x_res_over['Married'].replace({'Yes' : 1, 'No' : 0})\n",
    "x_res_over['Dependents'] = x_res_over['Dependents'].replace({'0' : 0, '1' : 1, '2' : 2, '3+' : 3})\n",
    "x_res_over['Education'] = x_res_over['Education'].replace({'Graduate' : 1, 'Not Graduate' : 0})\n",
    "x_res_over['Self_Employed'] = x_res_over['Self_Employed'].replace({'Yes' : 1, 'No' : 0})\n",
    "x_res_over['Credit_History'] = x_res_over['Credit_History'].astype(int)\n",
    "test_x_over['Gender'] = test_x_over['Gender'].replace({'Male' : 1, 'Female' : 0})\n",
    "test_x_over['Married'] = test_x_over['Married'].replace({'Yes' : 1, 'No' : 0})\n",
    "test_x_over['Dependents'] = test_x_over['Dependents'].replace({'0' : 0, '1' : 1, '2' : 2, '3+' : 3})\n",
    "test_x_over['Education'] = test_x_over['Education'].replace({'Graduate' : 1, 'Not Graduate' : 0})\n",
    "test_x_over['Self_Employed'] = test_x_over['Self_Employed'].replace({'Yes' : 1, 'No' : 0})\n",
    "test_x_over['Credit_History'] = test_x_over['Credit_History'].astype(int)\n",
    "\n",
    "# oversampling.\n",
    "x_res_over_under_2['Gender'] = x_res_over_under_2['Gender'].replace({'Male' : 1, 'Female' : 0})\n",
    "x_res_over_under_2['Married'] = x_res_over_under_2['Married'].replace({'Yes' : 1, 'No' : 0})\n",
    "x_res_over_under_2['Dependents'] = x_res_over_under_2['Dependents'].replace({'0' : 0, '1' : 1, '2' : 2, '3+' : 3})\n",
    "x_res_over_under_2['Education'] = x_res_over_under_2['Education'].replace({'Graduate' : 1, 'Not Graduate' : 0})\n",
    "x_res_over_under_2['Self_Employed'] = x_res_over_under_2['Self_Employed'].replace({'Yes' : 1, 'No' : 0})\n",
    "x_res_over_under_2['Credit_History'] = x_res_over_under_2['Credit_History'].astype(int)\n",
    "test_x_over_under['Gender'] = test_x_over_under['Gender'].replace({'Male' : 1, 'Female' : 0})\n",
    "test_x_over_under['Married'] = test_x_over_under['Married'].replace({'Yes' : 1, 'No' : 0})\n",
    "test_x_over_under['Dependents'] = test_x_over_under['Dependents'].replace({'0' : 0, '1' : 1, '2' : 2, '3+' : 3})\n",
    "test_x_over_under['Education'] = test_x_over_under['Education'].replace({'Graduate' : 1, 'Not Graduate' : 0})\n",
    "test_x_over_under['Self_Employed'] = test_x_over_under['Self_Employed'].replace({'Yes' : 1, 'No' : 0})\n",
    "test_x_over_under['Credit_History'] = test_x_over_under['Credit_History'].astype(int)"
   ]
  },
  {
   "cell_type": "code",
   "execution_count": null,
   "id": "9f2f3cdb-8a3f-460c-bf32-4678805f0810",
   "metadata": {},
   "outputs": [],
   "source": [
    "# One-Hot Encoding  for the categorical features\n",
    "x_res_und  = pd.get_dummies(x_res_und, drop_first = True)\n",
    "x_res_over = pd.get_dummies(x_res_over, drop_first = True)\n",
    "x_res_over_under_2 = pd.get_dummies(x_res_over_under_2, drop_first = True)\n",
    "test_x_under = pd.get_dummies(test_x_under, drop_first = True)\n",
    "test_x_over = pd.get_dummies(test_x_over, drop_first = True)\n",
    "test_x_over_under = pd.get_dummies(test_x_over_under, drop_first = True)"
   ]
  },
  {
   "cell_type": "code",
   "execution_count": null,
   "id": "e36554f3-a0f7-4e86-aea4-f502b914298e",
   "metadata": {},
   "outputs": [],
   "source": [
    "# Data info\n",
    "print(\"Data for undersampling :\")\n",
    "print(x_res_und.info())\n",
    "print(\"=\"*25)\n",
    "print(\"Data for oversampling :\")\n",
    "print(x_res_over.info())\n",
    "print(\"=\"*25)\n",
    "print(\"Data for oversampling and undersampling :\")\n",
    "print(x_res_over_under_2.info())\n",
    "print(\"=\"*25)"
   ]
  },
  {
   "cell_type": "markdown",
   "id": "229781c8-665d-4a96-a2fd-f561f18eee29",
   "metadata": {
    "jp-MarkdownHeadingCollapsed": true,
    "tags": []
   },
   "source": [
    "# Model Building"
   ]
  },
  {
   "cell_type": "code",
   "execution_count": null,
   "id": "202b44aa-67c5-404b-915e-73dd67ff85c5",
   "metadata": {},
   "outputs": [],
   "source": [
    "# Building models with defaut parameters and evaluate the classification report.\n",
    "dt = DecisionTreeClassifier(random_state = 32)\n",
    "rf = RandomForestClassifier(random_state = 32, n_jobs = -1)\n",
    "logreg = LogisticRegression()\n",
    "svc = SVC()"
   ]
  },
  {
   "cell_type": "markdown",
   "id": "8174e36f-2e4d-48aa-99dc-ee7352397de7",
   "metadata": {
    "tags": []
   },
   "source": [
    "## Classifier = Decision Tree"
   ]
  },
  {
   "cell_type": "code",
   "execution_count": null,
   "id": "a71eeae8-6a54-4107-a0c8-a07a6295e4d9",
   "metadata": {},
   "outputs": [],
   "source": [
    "# Model for undersampling.\n",
    "y_pred_train_under = dt.fit(x_res_und,y_res_und).predict(x_res_und)\n",
    "y_pred_test_under = dt.predict(test_x_under)\n",
    "clf_report_under = classification_report(y_res_und, y_pred_train_under)\n",
    "clf_report_under_test = classification_report(test_y_under, y_pred_test_under)\n",
    "roc_score_under = roc_auc_score(y_res_und,y_pred_train_under)\n",
    "roc_score_under_test = roc_auc_score(test_y_under, y_pred_test_under)\n",
    "cv_result_under = np.mean(cross_val_score(dt, X = x_res_und, y = y_res_und, cv = 5, n_jobs = -1, scoring = 'accuracy'))\n",
    "precision_dt_under = np.round(precision_score(test_y_under, y_pred_test_under), 2)\n",
    "recall_dt_under = np.round(recall_score(test_y_under, y_pred_test_under), 2)\n",
    "accuracy_dt_under = np.round(accuracy_score(test_y_under, y_pred_test_under), 2)\n",
    "\n",
    "\n",
    "# Model for oversampling.\n",
    "y_pred_train_over = dt.fit(x_res_over,y_res_over).predict(x_res_over)\n",
    "y_pred_test_over = dt.predict(test_x_over)\n",
    "clf_report_over = classification_report(y_res_over, y_pred_train_over)\n",
    "clf_report_over_test = classification_report(test_y_over, y_pred_test_over)\n",
    "roc_score_over = roc_auc_score(y_res_over,y_pred_train_over)\n",
    "roc_score_over_test = roc_auc_score(test_y_over, y_pred_test_over)\n",
    "cv_result_over = np.mean(cross_val_score(dt, X = x_res_over, y = y_res_over, cv = 5, n_jobs = -1, scoring = 'accuracy'))\n",
    "precision_dt_over = np.round(precision_score(test_y_over, y_pred_test_over), 2)\n",
    "recall_dt_over = np.round(recall_score(test_y_over, y_pred_test_over), 2)\n",
    "accuracy_dt_over = np.round(accuracy_score(test_y_over, y_pred_test_over), 2)\n",
    "\n",
    "# Model for oversampling & undersampling.\n",
    "y_pred_train_over_under = dt.fit(x_res_over_under_2,y_res_over_under_2).predict(x_res_over_under_2)\n",
    "y_pred_test_over_under = dt.predict(test_x_over_under)\n",
    "clf_report_over_under = classification_report(y_res_over_under_2, y_pred_train_over_under)\n",
    "clf_report_over_under_test = classification_report(test_y_over_under, y_pred_test_over_under)\n",
    "roc_score_over_under = roc_auc_score(y_res_over_under_2,y_pred_train_over_under)\n",
    "roc_score_over_under_test = roc_auc_score(test_y_over_under, y_pred_test_over_under)\n",
    "cv_result_over_under = np.mean(cross_val_score(dt, X = x_res_over_under_2, y = y_res_over_under_2, cv = 5, n_jobs = -1, scoring = 'accuracy'))\n",
    "precision_dt_over_under = np.round(precision_score(test_y_over_under, y_pred_test_over_under), 2)\n",
    "recall_dt_over_under = np.round(recall_score(test_y_over_under, y_pred_test_over_under), 2)\n",
    "accuracy_dt_over_under = np.round(accuracy_score(test_y_over_under, y_pred_test_over_under), 2)"
   ]
  },
  {
   "cell_type": "code",
   "execution_count": null,
   "id": "67715ff7-0e4f-4e2e-a390-3b499d467505",
   "metadata": {},
   "outputs": [],
   "source": [
    "print(\"Model Evaluation :\")\n",
    "print(\"~\"*25)\n",
    "print(\"Classification Report :\")\n",
    "print(clf_report_under)\n",
    "print(\"=\"*25)\n",
    "print(\"ROC AUC Score :\")\n",
    "print(roc_score_under)\n",
    "print(\"=\"*25)\n",
    "print(\"Cross validation result :\")\n",
    "print(cv_result_under)\n",
    "print(\"=\"*25)\n",
    "print(\"Classification Report for Testing Data :\")\n",
    "print(clf_report_under_test)\n",
    "print(\"=\"*25)\n",
    "print(\"ROC AUC Score for Testing Data :\")\n",
    "print(roc_score_under_test)"
   ]
  },
  {
   "cell_type": "code",
   "execution_count": null,
   "id": "2257d5d0-0f7e-4532-a893-dae3001bae35",
   "metadata": {},
   "outputs": [],
   "source": [
    "print(\"Model Evaluation :\")\n",
    "print(\"~\"*25)\n",
    "print(\"Classification Report :\")\n",
    "print(clf_report_over)\n",
    "print(\"=\"*25)\n",
    "print(\"ROC AUC Score :\")\n",
    "print(roc_score_over)\n",
    "print(\"=\"*25)\n",
    "print(\"Cross validation result :\")\n",
    "print(cv_result_over)\n",
    "print(\"=\"*25)\n",
    "print(\"Classification Report for Testing Data :\")\n",
    "print(clf_report_over_test)\n",
    "print(\"=\"*25)\n",
    "print(\"ROC AUC Score for Testing Data :\")\n",
    "print(roc_score_over_test)"
   ]
  },
  {
   "cell_type": "code",
   "execution_count": null,
   "id": "1f7e1b43-f295-41d2-9f01-c2756ef63502",
   "metadata": {},
   "outputs": [],
   "source": [
    "print(\"Model Evaluation :\")\n",
    "print(\"~\"*25)\n",
    "print(\"Classification Report :\")\n",
    "print(clf_report_over_under)\n",
    "print(\"=\"*25)\n",
    "print(\"ROC AUC Score :\")\n",
    "print(roc_score_over_under)\n",
    "print(\"=\"*25)\n",
    "print(\"Cross validation result :\")\n",
    "print(cv_result_over_under)\n",
    "print(\"=\"*25)\n",
    "print(\"Classification Report for Testing Data :\")\n",
    "print(clf_report_over_under_test)\n",
    "print(\"=\"*25)\n",
    "print(\"ROC AUC Score for Testing Data :\")\n",
    "print(roc_score_over_under_test)"
   ]
  },
  {
   "cell_type": "markdown",
   "id": "257000eb-546c-46e2-b984-5df95c4b7e54",
   "metadata": {},
   "source": [
    "## Classifier : Random Forest"
   ]
  },
  {
   "cell_type": "code",
   "execution_count": null,
   "id": "15ce7c57-de40-4275-be52-ed159c2ad22c",
   "metadata": {},
   "outputs": [],
   "source": [
    "# Model for undersampling.\n",
    "y_pred_train_under_rf = rf.fit(x_res_und,np.ravel(y_res_und)).predict(x_res_und)\n",
    "y_pred_test_under_rf = rf.predict(test_x_under)\n",
    "clf_report_under_rf = classification_report(y_res_und, y_pred_train_under_rf)\n",
    "clf_report_under_test_rf = classification_report(test_y_under, y_pred_test_under_rf)\n",
    "roc_score_under_rf = roc_auc_score(y_res_und,y_pred_train_under_rf)\n",
    "roc_score_under_test_rf = roc_auc_score(test_y_under, y_pred_test_under_rf)\n",
    "cv_result_under_rf = np.mean(cross_val_score(rf, X = x_res_und, y = y_res_und, cv = 5, n_jobs = -1, scoring = 'accuracy'))\n",
    "precision_rf_under = np.round(precision_score(test_y_under, y_pred_test_under_rf), 2)\n",
    "recall_rf_under = np.round(recall_score(test_y_under, y_pred_test_under_rf), 2)\n",
    "accuracy_rf_under = np.round(accuracy_score(test_y_under, y_pred_test_under_rf), 2)\n",
    "\n",
    "\n",
    "# Model for oversampling.\n",
    "y_pred_train_over_rf = rf.fit(x_res_over,np.ravel(y_res_over)).predict(x_res_over)\n",
    "y_pred_test_over_rf = rf.predict(test_x_over)\n",
    "clf_report_over_rf = classification_report(y_res_over, y_pred_train_over_rf)\n",
    "clf_report_over_test_rf = classification_report(test_y_over, y_pred_test_over_rf)\n",
    "roc_score_over_rf = roc_auc_score(y_res_over,y_pred_train_over_rf)\n",
    "roc_score_over_test_rf = roc_auc_score(test_y_over, y_pred_test_over)\n",
    "cv_result_over_rf = np.mean(cross_val_score(rf, X = x_res_over, y = y_res_over, cv = 5, n_jobs = -1, scoring = 'accuracy'))\n",
    "precision_rf_over = np.round(precision_score(test_y_over, y_pred_test_over_rf), 2)\n",
    "recall_rf_over = np.round(recall_score(test_y_over, y_pred_test_over_rf), 2)\n",
    "accuracy_rf_over = np.round(accuracy_score(test_y_over, y_pred_test_over_rf), 2)\n",
    "\n",
    "# Model for oversampling & undersampling.\n",
    "y_pred_train_over_under_rf = rf.fit(x_res_over_under_2,np.ravel(y_res_over_under_2)).predict(x_res_over_under_2)\n",
    "y_pred_test_over_under_rf = rf.predict(test_x_over_under)\n",
    "clf_report_over_under_rf = classification_report(y_res_over_under_2, y_pred_train_over_under_rf)\n",
    "clf_report_over_under_test_rf = classification_report(test_y_over_under, y_pred_test_over_under_rf)\n",
    "roc_score_over_under_rf = roc_auc_score(y_res_over_under_2,y_pred_train_over_under_rf)\n",
    "roc_score_over_under_test_rf = roc_auc_score(test_y_over_under, y_pred_test_over_under_rf)\n",
    "cv_result_over_under_rf = np.mean(cross_val_score(rf, X = x_res_over_under_2, y = y_res_over_under_2, cv = 5, n_jobs = -1, scoring = 'accuracy'))\n",
    "precision_rf_over_under = np.round(precision_score(test_y_over_under, y_pred_test_over_under_rf), 2)\n",
    "recall_rf_over_under = np.round(recall_score(test_y_over_under, y_pred_test_over_under_rf), 2)\n",
    "accuracy_rf_over_under = np.round(accuracy_score(test_y_over_under, y_pred_test_over_under_rf), 2)"
   ]
  },
  {
   "cell_type": "code",
   "execution_count": null,
   "id": "9e4b1528-ded6-4b5d-9c6c-ae427577283c",
   "metadata": {},
   "outputs": [],
   "source": [
    "print(\"Model Evaluation :\")\n",
    "print(\"~\"*25)\n",
    "print(\"Classification Report :\")\n",
    "print(clf_report_under_rf)\n",
    "print(\"=\"*25)\n",
    "print(\"ROC AUC Score :\")\n",
    "print(roc_score_under_rf)\n",
    "print(\"=\"*25)\n",
    "print(\"Cross validation result :\")\n",
    "print(cv_result_under_rf)\n",
    "print(\"=\"*25)\n",
    "print(\"Classification Report for Testing Data :\")\n",
    "print(clf_report_under_test_rf)\n",
    "print(\"=\"*25)\n",
    "print(\"ROC AUC Score for Testing Data :\")\n",
    "print(roc_score_under_test_rf)"
   ]
  },
  {
   "cell_type": "code",
   "execution_count": null,
   "id": "f49c7361-21ea-4f55-941c-fd8b45cce3bf",
   "metadata": {},
   "outputs": [],
   "source": [
    "print(\"Model Evaluation :\")\n",
    "print(\"~\"*25)\n",
    "print(\"Classification Report :\")\n",
    "print(clf_report_over_rf)\n",
    "print(\"=\"*25)\n",
    "print(\"ROC AUC Score :\")\n",
    "print(roc_score_over_rf)\n",
    "print(\"=\"*25)\n",
    "print(\"Cross validation result :\")\n",
    "print(cv_result_over_rf)\n",
    "print(\"=\"*25)\n",
    "print(\"Classification Report for Testing Data :\")\n",
    "print(clf_report_over_test_rf)\n",
    "print(\"=\"*25)\n",
    "print(\"ROC AUC Score for Testing Data :\")\n",
    "print(roc_score_over_test_rf)"
   ]
  },
  {
   "cell_type": "code",
   "execution_count": null,
   "id": "bcb6e997-c1be-475d-8ac7-9b9ff4367d47",
   "metadata": {},
   "outputs": [],
   "source": [
    "print(\"Model Evaluation :\")\n",
    "print(\"~\"*25)\n",
    "print(\"Classification Report :\")\n",
    "print(clf_report_over_under_rf)\n",
    "print(\"=\"*25)\n",
    "print(\"ROC AUC Score :\")\n",
    "print(roc_score_over_under_rf)\n",
    "print(\"=\"*25)\n",
    "print(\"Cross validation result :\")\n",
    "print(cv_result_over_under_rf)\n",
    "print(\"=\"*25)\n",
    "print(\"Classification Report for Testing Data :\")\n",
    "print(clf_report_over_under_test_rf)\n",
    "print(\"=\"*25)\n",
    "print(\"ROC AUC Score for Testing Data :\")\n",
    "print(roc_score_over_under_test_rf)"
   ]
  },
  {
   "cell_type": "markdown",
   "id": "891e9128-5c9c-4f7f-9def-3ca383d45b22",
   "metadata": {},
   "source": [
    "## Classifier : Logistic Regression"
   ]
  },
  {
   "cell_type": "code",
   "execution_count": null,
   "id": "0bbb0142-5231-4282-a566-7199e4c39878",
   "metadata": {},
   "outputs": [],
   "source": [
    "# Model for undersampling.\n",
    "y_pred_train_under_logreg = logreg.fit(x_res_und,np.ravel(y_res_und)).predict(x_res_und)\n",
    "y_pred_test_under_logreg = logreg.predict(test_x_under)\n",
    "clf_report_under_logreg = classification_report(y_res_und, y_pred_train_under_logreg)\n",
    "clf_report_under_test_logreg = classification_report(test_y_under, y_pred_test_under_logreg)\n",
    "roc_score_under_logreg = roc_auc_score(y_res_und,y_pred_train_under_logreg)\n",
    "roc_score_under_test_logreg = roc_auc_score(test_y_under, y_pred_test_under_logreg)\n",
    "cv_result_under_logreg = np.mean(cross_val_score(logreg, X = x_res_und, y = y_res_und, cv = 5, n_jobs = -1, scoring = 'accuracy'))\n",
    "precision_logreg_under = np.round(precision_score(test_y_under, y_pred_test_under_logreg), 2)\n",
    "recall_logreg_under = np.round(recall_score(test_y_under, y_pred_test_under_logreg), 2)\n",
    "accuracy_logreg_under = np.round(accuracy_score(test_y_under, y_pred_test_under_logreg), 2)\n",
    "\n",
    "\n",
    "# Model for oversampling.\n",
    "y_pred_train_over_logreg = logreg.fit(x_res_over,np.ravel(y_res_over)).predict(x_res_over)\n",
    "y_pred_test_over_logreg = logreg.predict(test_x_over)\n",
    "clf_report_over_logreg = classification_report(y_res_over, y_pred_train_over_logreg)\n",
    "clf_report_over_test_logreg = classification_report(test_y_over, y_pred_test_over_logreg)\n",
    "roc_score_over_logreg = roc_auc_score(y_res_over,y_pred_train_over_logreg)\n",
    "roc_score_over_test_logreg = roc_auc_score(test_y_over, y_pred_test_over_logreg)\n",
    "cv_result_over_logreg = np.mean(cross_val_score(logreg, X = x_res_over, y = y_res_over, cv = 5, n_jobs = -1, scoring = 'accuracy'))\n",
    "precision_logreg_over = np.round(precision_score(test_y_over, y_pred_test_over_logreg), 2)\n",
    "recall_logreg_over = np.round(recall_score(test_y_over, y_pred_test_over_logreg), 2)\n",
    "accuracy_logreg_over = np.round(accuracy_score(test_y_over, y_pred_test_over_logreg), 2)\n",
    "\n",
    "# Model for oversampling & undersampling.\n",
    "y_pred_train_over_under_logreg = logreg.fit(x_res_over_under_2,np.ravel(y_res_over_under_2)).predict(x_res_over_under_2)\n",
    "y_pred_test_over_under_logreg = logreg.predict(test_x_over_under)\n",
    "clf_report_over_under_logreg = classification_report(y_res_over_under_2, y_pred_train_over_under_logreg)\n",
    "clf_report_over_under_test_logreg = classification_report(test_y_over_under, y_pred_test_over_under_logreg)\n",
    "roc_score_over_under_logreg = roc_auc_score(y_res_over_under_2,y_pred_train_over_under_logreg)\n",
    "roc_score_over_under_test_logreg = roc_auc_score(test_y_over_under, y_pred_test_over_under_logreg)\n",
    "cv_result_over_under_logreg = np.mean(cross_val_score(logreg, X = x_res_over_under_2, y = y_res_over_under_2, cv = 5, n_jobs = -1, scoring = 'accuracy'))\n",
    "precision_logreg_over_under = np.round(precision_score(test_y_over_under, y_pred_test_over_under_logreg), 2)\n",
    "recall_logreg_over_under = np.round(recall_score(test_y_over_under, y_pred_test_over_under_logreg), 2)\n",
    "accuracy_logreg_over_under = np.round(accuracy_score(test_y_over_under, y_pred_test_over_under_logreg), 2)"
   ]
  },
  {
   "cell_type": "code",
   "execution_count": null,
   "id": "78f61ffa-27b1-4a58-afb8-9012c257922f",
   "metadata": {},
   "outputs": [],
   "source": [
    "print(\"Model Evaluation :\")\n",
    "print(\"~\"*25)\n",
    "print(\"Classification Report :\")\n",
    "print(clf_report_under_logreg)\n",
    "print(\"=\"*25)\n",
    "print(\"ROC AUC Score :\")\n",
    "print(roc_score_under_logreg)\n",
    "print(\"=\"*25)\n",
    "print(\"Cross validation result :\")\n",
    "print(cv_result_under_logreg)\n",
    "print(\"=\"*25)\n",
    "print(\"Classification Report for Testing Data :\")\n",
    "print(clf_report_under_test_logreg)\n",
    "print(\"=\"*25)\n",
    "print(\"ROC AUC Score for Testing Data :\")\n",
    "print(roc_score_under_test_logreg)"
   ]
  },
  {
   "cell_type": "code",
   "execution_count": null,
   "id": "623bf7a5-863a-4a1b-bfab-c94ff1958955",
   "metadata": {},
   "outputs": [],
   "source": [
    "print(\"Model Evaluation :\")\n",
    "print(\"~\"*25)\n",
    "print(\"Classification Report :\")\n",
    "print(clf_report_over_logreg)\n",
    "print(\"=\"*25)\n",
    "print(\"ROC AUC Score :\")\n",
    "print(roc_score_over_logreg)\n",
    "print(\"=\"*25)\n",
    "print(\"Cross validation result :\")\n",
    "print(cv_result_over_logreg)\n",
    "print(\"=\"*25)\n",
    "print(\"Classification Report for Testing Data :\")\n",
    "print(clf_report_over_test_logreg)\n",
    "print(\"=\"*25)\n",
    "print(\"ROC AUC Score for Testing Data :\")\n",
    "print(roc_score_over_test_logreg)"
   ]
  },
  {
   "cell_type": "code",
   "execution_count": null,
   "id": "325622b1-ac3e-4c97-8621-20f013e2f307",
   "metadata": {},
   "outputs": [],
   "source": [
    "print(\"Model Evaluation :\")\n",
    "print(\"~\"*25)\n",
    "print(\"Classification Report :\")\n",
    "print(clf_report_over_under_logreg)\n",
    "print(\"=\"*25)\n",
    "print(\"ROC AUC Score :\")\n",
    "print(roc_score_over_under_logreg)\n",
    "print(\"=\"*25)\n",
    "print(\"Cross validation result :\")\n",
    "print(cv_result_over_under_logreg)\n",
    "print(\"=\"*25)\n",
    "print(\"Classification Report for Testing Data :\")\n",
    "print(clf_report_over_under_test_logreg)\n",
    "print(\"=\"*25)\n",
    "print(\"ROC AUC Score for Testing Data :\")\n",
    "print(roc_score_over_under_test_logreg)"
   ]
  },
  {
   "cell_type": "markdown",
   "id": "dfa52072-80c8-4884-95b2-87f9685072ed",
   "metadata": {},
   "source": [
    "## Classifier : Support Vector Classifier"
   ]
  },
  {
   "cell_type": "code",
   "execution_count": null,
   "id": "1d37fa7f-a0f4-4716-a66f-65bff1497a65",
   "metadata": {},
   "outputs": [],
   "source": [
    "# Model for undersampling.\n",
    "y_pred_train_under_svc = svc.fit(x_res_und,np.ravel(y_res_und)).predict(x_res_und)\n",
    "y_pred_test_under_svc = svc.predict(test_x_under)\n",
    "clf_report_under_svc = classification_report(y_res_und, y_pred_train_under_svc)\n",
    "clf_report_under_test_svc = classification_report(test_y_under, y_pred_test_under_svc)\n",
    "roc_score_under_svc = roc_auc_score(y_res_und,y_pred_train_under_svc)\n",
    "roc_score_under_test_svc = roc_auc_score(test_y_under, y_pred_test_under_svc)\n",
    "cv_result_under_svc = np.mean(cross_val_score(svc, X = x_res_und, y = y_res_und, cv = 5, n_jobs = -1, scoring = 'accuracy'))\n",
    "precision_svc_under = np.round(precision_score(test_y_under, y_pred_test_under_svc), 2)\n",
    "recall_svc_under = np.round(recall_score(test_y_under, y_pred_test_under_svc), 2)\n",
    "accuracy_svc_under = np.round(accuracy_score(test_y_under, y_pred_test_under_svc), 2)\n",
    "\n",
    "\n",
    "# Model for oversampling.\n",
    "y_pred_train_over_svc = svc.fit(x_res_over,np.ravel(y_res_over)).predict(x_res_over)\n",
    "y_pred_test_over_svc = svc.predict(test_x_over)\n",
    "clf_report_over_svc = classification_report(y_res_over, y_pred_train_over_svc)\n",
    "clf_report_over_test_svc = classification_report(test_y_over, y_pred_test_over_svc)\n",
    "roc_score_over_svc = roc_auc_score(y_res_over,y_pred_train_over_svc)\n",
    "roc_score_over_test_svc = roc_auc_score(test_y_over, y_pred_test_over_svc)\n",
    "cv_result_over_svc = np.mean(cross_val_score(svc, X = x_res_over, y = y_res_over, cv = 5, n_jobs = -1, scoring = 'accuracy'))\n",
    "precision_svc_over = np.round(precision_score(test_y_over, y_pred_test_over_svc), 2)\n",
    "recall_svc_over = np.round(recall_score(test_y_over, y_pred_test_over_svc), 2)\n",
    "accuracy_svc_over = np.round(accuracy_score(test_y_over, y_pred_test_over_svc), 2)\n",
    "\n",
    "# Model for oversampling & undersampling.\n",
    "y_pred_train_over_under_svc = svc.fit(x_res_over_under_2,np.ravel(y_res_over_under_2)).predict(x_res_over_under_2)\n",
    "y_pred_test_over_under_svc = svc.predict(test_x_over_under)\n",
    "clf_report_over_under_svc = classification_report(y_res_over_under_2, y_pred_train_over_under_svc)\n",
    "clf_report_over_under_test_svc = classification_report(test_y_over_under, y_pred_test_over_under_svc)\n",
    "roc_score_over_under_svc = roc_auc_score(y_res_over_under_2,y_pred_train_over_under_svc)\n",
    "roc_score_over_under_test_svc = roc_auc_score(test_y_over_under, y_pred_test_over_under_svc)\n",
    "cv_result_over_under_svc = np.mean(cross_val_score(svc, X = x_res_over_under_2, y = y_res_over_under_2, cv = 5, n_jobs = -1, scoring = 'accuracy'))\n",
    "precision_svc_over_under = np.round(precision_score(test_y_over_under, y_pred_test_over_under_svc), 2)\n",
    "recall_svc_over_under = np.round(recall_score(test_y_over_under, y_pred_test_over_under_svc), 2)\n",
    "accuracy_svc_over_under = np.round(accuracy_score(test_y_over_under, y_pred_test_over_under_svc), 2)"
   ]
  },
  {
   "cell_type": "code",
   "execution_count": null,
   "id": "aa0a1e07-2c42-46b7-910e-30391e9162ff",
   "metadata": {},
   "outputs": [],
   "source": [
    "print(\"Model Evaluation :\")\n",
    "print(\"~\"*25)\n",
    "print(\"Classification Report :\")\n",
    "print(clf_report_under_svc)\n",
    "print(\"=\"*25)\n",
    "print(\"ROC AUC Score :\")\n",
    "print(roc_score_under_svc)\n",
    "print(\"=\"*25)\n",
    "print(\"Cross validation result :\")\n",
    "print(cv_result_under_svc)\n",
    "print(\"=\"*25)\n",
    "print(\"Classification Report for Testing Data :\")\n",
    "print(clf_report_under_test_svc)\n",
    "print(\"=\"*25)\n",
    "print(\"ROC AUC Score for Testing Data :\")\n",
    "print(roc_score_under_test_svc)"
   ]
  },
  {
   "cell_type": "code",
   "execution_count": null,
   "id": "3d61bb9e-d5aa-404f-a4d2-0fc9d6219a22",
   "metadata": {},
   "outputs": [],
   "source": [
    "print(\"Model Evaluation :\")\n",
    "print(\"~\"*25)\n",
    "print(\"Classification Report :\")\n",
    "print(clf_report_over_svc)\n",
    "print(\"=\"*25)\n",
    "print(\"ROC AUC Score :\")\n",
    "print(roc_score_over_svc)\n",
    "print(\"=\"*25)\n",
    "print(\"Cross validation result :\")\n",
    "print(cv_result_over_svc)\n",
    "print(\"=\"*25)\n",
    "print(\"Classification Report for Testing Data :\")\n",
    "print(clf_report_over_test_svc)\n",
    "print(\"=\"*25)\n",
    "print(\"ROC AUC Score for Testing Data :\")\n",
    "print(roc_score_over_test_svc)"
   ]
  },
  {
   "cell_type": "code",
   "execution_count": null,
   "id": "11f2df92-8b7c-4511-bd37-d6211c15ff78",
   "metadata": {},
   "outputs": [],
   "source": [
    "print(\"Model Evaluation :\")\n",
    "print(\"~\"*25)\n",
    "print(\"Classification Report :\")\n",
    "print(clf_report_over_under_svc)\n",
    "print(\"=\"*25)\n",
    "print(\"ROC AUC Score :\")\n",
    "print(roc_score_over_under_svc)\n",
    "print(\"=\"*25)\n",
    "print(\"Cross validation result :\")\n",
    "print(cv_result_over_under_svc)\n",
    "print(\"=\"*25)\n",
    "print(\"Classification Report for Testing Data :\")\n",
    "print(clf_report_over_under_test_svc)\n",
    "print(\"=\"*25)\n",
    "print(\"ROC AUC Score for Testing Data :\")\n",
    "print(roc_score_over_under_test_svc)"
   ]
  },
  {
   "cell_type": "code",
   "execution_count": null,
   "id": "d2e9fd3f-9afa-4ee9-868a-0a82d05cd8bc",
   "metadata": {},
   "outputs": [],
   "source": [
    "report_evaluation = {'Model'           : ['Decision Tree','Decision Tree','Decision Tree','Random Forest','Random Forest','Random Forest','Logistic Regression','Logistic Regression','Logistic Regression','SVC','SVC','SVC'],\n",
    "                     'Sampling Method' : ['Under','Over','Over & Under','Under','Over','Over & Under','Under','Over','Over & Under','Under','Over','Over & Under'],\n",
    "                     'Precision Score' : [precision_dt_under,precision_dt_over,precision_dt_over_under,precision_rf_under,precision_rf_over, precision_rf_over_under, precision_logreg_under, precision_logreg_over,\n",
    "                                           precision_logreg_over_under, precision_svc_under, precision_svc_over, precision_svc_over_under],\n",
    "                     'Recall Score'    : [recall_dt_under,recall_dt_over,recall_dt_over_under,recall_rf_under,recall_rf_over, recall_rf_over_under, recall_logreg_under, recall_logreg_over,\n",
    "                                           recall_logreg_over_under, recall_svc_under, recall_svc_over, recall_svc_over_under],\n",
    "                     'Accuracy Score'  : [accuracy_dt_under, accuracy_dt_over, accuracy_dt_over_under, accuracy_rf_under, accuracy_rf_over, accuracy_rf_over_under, accuracy_logreg_under, accuracy_logreg_over,\n",
    "                                           accuracy_logreg_over_under, accuracy_svc_under, accuracy_svc_over, accuracy_svc_over_under]}"
   ]
  },
  {
   "cell_type": "code",
   "execution_count": null,
   "id": "22105765-f6cd-4f1f-a900-7025b9d2d2f6",
   "metadata": {},
   "outputs": [],
   "source": [
    "df_report = pd.DataFrame(report_evaluation)\n",
    "df_report.set_index(['Model','Sampling Method'], inplace = True)\n",
    "df_report.T"
   ]
  },
  {
   "cell_type": "code",
   "execution_count": null,
   "id": "cdcc72fb-96f7-49c0-9951-85d0cf58468f",
   "metadata": {},
   "outputs": [],
   "source": [
    "print(df_report.T.mean(axis = 0))"
   ]
  },
  {
   "cell_type": "markdown",
   "id": "a9725100-d8ce-4572-835d-6074f71c1743",
   "metadata": {},
   "source": [
    "**Note :** From the report above, we can see that sampling method with under and over has a tedency to have better evaluation scores. So, we'll use this sampling technique for our model. Next, we will do feature selection and feature engineering based on feature importance from random forest."
   ]
  },
  {
   "cell_type": "code",
   "execution_count": null,
   "id": "16c8889f-e831-4325-bb73-9264ee9fa616",
   "metadata": {},
   "outputs": [],
   "source": [
    "# Display Feature Importance with random Forest.\n",
    "\n",
    "features_name = rf.feature_names_in_\n",
    "features_importance = rf.feature_importances_\n",
    "\n",
    "print(features_name)\n",
    "print(features_importance)"
   ]
  },
  {
   "cell_type": "code",
   "execution_count": null,
   "id": "f18c98da-c812-4625-9307-1433c343e037",
   "metadata": {},
   "outputs": [],
   "source": [
    "features_importance_sorted = np.sort(features_importance)\n",
    "features_name_sorted = features_name[np.argsort(features_importance)]"
   ]
  },
  {
   "cell_type": "code",
   "execution_count": null,
   "id": "7f5c9dd1-4a4c-440e-aa87-29f8a1eab8ce",
   "metadata": {},
   "outputs": [],
   "source": [
    "fig, ax = plt.subplots(figsize = (5,10))\n",
    "ax.barh(y = np.arange(len(features_name)), width = features_importance_sorted)\n",
    "ax.set_yticks(np.arange(len(features_name)))\n",
    "ax.set_yticklabels(features_name_sorted)\n",
    "ax.set_title('Feature Importance')\n",
    "plt.show()"
   ]
  },
  {
   "cell_type": "markdown",
   "id": "48cd0917-e116-4f19-b5e2-4ef9b63c9f9c",
   "metadata": {},
   "source": [
    "**Note :** From the visualization of feature importance above, we can see that Applicant Income, Credit History, Loan Amount, and Coapplicants Income have more importance score than the rest. This meeans that these four features are better to describe Loan Status than other features. Moreover, we can see that Loan Amount Term has 0 importance score which means this features is not good enough to describe Loan Status. From those information, we can do feauture engineering (Combining 2 features or more to create new feature or delete some features that may not be useful)  to tweak our model for better performance. Next, we want to apply this feature engineering method on our model."
   ]
  },
  {
   "cell_type": "code",
   "execution_count": null,
   "id": "051cb4e5-c6aa-4510-bc1b-d13c687e62de",
   "metadata": {},
   "outputs": [],
   "source": [
    "# Lets take out Loan Term and combine Applicant and Coapplicant Income for each sampling techniques.\n",
    "display(X.head())"
   ]
  },
  {
   "cell_type": "code",
   "execution_count": null,
   "id": "0002cded-52c1-436e-a9a6-a2ffffbfd24e",
   "metadata": {},
   "outputs": [],
   "source": [
    "X.drop(columns = 'Loan_Amount_Term', inplace = True)\n",
    "X['Income Combined'] = X['ApplicantIncome'] + X['CoapplicantIncome']\n",
    "X.drop(columns = ['ApplicantIncome','CoapplicantIncome'], inplace = True)\n",
    "display(X.head())"
   ]
  },
  {
   "cell_type": "code",
   "execution_count": null,
   "id": "7b261300-59f5-4b64-a821-6fa11473b11a",
   "metadata": {},
   "outputs": [],
   "source": [
    "print(X.info())"
   ]
  },
  {
   "cell_type": "code",
   "execution_count": null,
   "id": "8d4daa05-54da-4f07-8469-2a275e76662b",
   "metadata": {},
   "outputs": [],
   "source": [
    "train_x, test_x, train_y, test_y = train_test_split(X, Y, test_size = 0.1, random_state = 32)\n",
    "print(\"Training data dimension\\t:\")\n",
    "print(f\"X = {train_x.shape}\")\n",
    "print(f\"Y = {train_y.shape}\")\n",
    "print(\"Testing data dimension\\t:\")\n",
    "print(f\"X = {test_x.shape}\")\n",
    "print(f\"Y = {test_y.shape}\")"
   ]
  },
  {
   "cell_type": "code",
   "execution_count": null,
   "id": "73134d52-255a-437a-a44c-2ea9fb94f848",
   "metadata": {},
   "outputs": [],
   "source": [
    "# Oversampling the minority class and undersampling the majority class.\n",
    "res_over_under_1 = SMOTENC(sampling_strategy = 0.9, categorical_features = [0,1,2,3,4,6,7], random_state = 32, k_neighbors = 5)\n",
    "x_res_over_under_1, y_res_over_under_1= res_over_under_1.fit_resample(train_x,train_y)\n",
    "\n",
    "res_over_under_2 = RandomUnderSampler(sampling_strategy = 0.9, random_state = 32)\n",
    "x_res_over_under_2, y_res_over_under_2= res_over_under_2.fit_resample(x_res_over_under_1,y_res_over_under_1)"
   ]
  },
  {
   "cell_type": "code",
   "execution_count": null,
   "id": "8e6a9799-f3b6-4ccc-b3ef-a9822416460d",
   "metadata": {},
   "outputs": [],
   "source": [
    "# Class Proportion For Oversampling and Undersampling.\n",
    "print(\"Class proportion for oversampling & undersampling :\")\n",
    "print(f\"No\\t= {y_res_over_under_2.value_counts().loc[0].values}\")\n",
    "print(f\"Yes\\t= {y_res_over_under_2.value_counts().loc[1].values}\") \n",
    "print(\"=\"*20)"
   ]
  },
  {
   "cell_type": "code",
   "execution_count": null,
   "id": "4c63bf24-655e-4c75-a5a1-394b1b985f1b",
   "metadata": {},
   "outputs": [],
   "source": [
    "sc_over_under = StandardScaler()\n",
    "# For oversampling and undersampling.\n",
    "x_res_over_under_2.loc[:,['LoanAmount','Income Combined']]= sc_over_under.fit_transform(x_res_over_under_2.loc[:,['LoanAmount','Income Combined']])\n",
    "test_x.loc[:, ['LoanAmount', 'Income Combined']] = sc_over_under.transform(test_x.loc[:, ['LoanAmount', 'Income Combined']])"
   ]
  },
  {
   "cell_type": "code",
   "execution_count": null,
   "id": "2a27f8f4-ea23-466f-b080-47dbdf45b8b2",
   "metadata": {},
   "outputs": [],
   "source": [
    "display(x_res_over_under_2.head())"
   ]
  },
  {
   "cell_type": "code",
   "execution_count": null,
   "id": "6bd7e22f-8ebc-4f1e-af29-47c88ec183ce",
   "metadata": {},
   "outputs": [],
   "source": [
    "# oversampling and undersampling.\n",
    "x_res_over_under_2['Gender'] = x_res_over_under_2['Gender'].replace({'Male' : 1, 'Female' : 0})\n",
    "x_res_over_under_2['Married'] = x_res_over_under_2['Married'].replace({'Yes' : 1, 'No' : 0})\n",
    "x_res_over_under_2['Dependents'] = x_res_over_under_2['Dependents'].replace({'0' : 0, '1' : 1, '2' : 2, '3+' : 3})\n",
    "x_res_over_under_2['Education'] = x_res_over_under_2['Education'].replace({'Graduate' : 1, 'Not Graduate' : 0})\n",
    "x_res_over_under_2['Self_Employed'] = x_res_over_under_2['Self_Employed'].replace({'Yes' : 1, 'No' : 0})\n",
    "x_res_over_under_2['Credit_History'] = x_res_over_under_2['Credit_History'].astype(int)\n",
    "test_x['Gender'] = test_x['Gender'].replace({'Male' : 1, 'Female' : 0})\n",
    "test_x['Married'] = test_x['Married'].replace({'Yes' : 1, 'No' : 0})\n",
    "test_x['Dependents'] = test_x['Dependents'].replace({'0' : 0, '1' : 1, '2' : 2, '3+' : 3})\n",
    "test_x['Education'] = test_x['Education'].replace({'Graduate' : 1, 'Not Graduate' : 0})\n",
    "test_x['Self_Employed'] = test_x['Self_Employed'].replace({'Yes' : 1, 'No' : 0})\n",
    "test_x['Credit_History'] = test_x['Credit_History'].astype(int)"
   ]
  },
  {
   "cell_type": "code",
   "execution_count": null,
   "id": "3192cd68-b8e9-4ab1-aa9f-8a295afd728f",
   "metadata": {},
   "outputs": [],
   "source": [
    "# One-Hot Encoding  for the categorical features\n",
    "x_res_over_under_2 = pd.get_dummies(x_res_over_under_2, drop_first = True)\n",
    "test_x = pd.get_dummies(test_x, drop_first = True)"
   ]
  },
  {
   "cell_type": "code",
   "execution_count": null,
   "id": "5f7e70bb-6bf5-4460-82f8-8b055e9d1e53",
   "metadata": {},
   "outputs": [],
   "source": [
    "display(x_res_over_under_2.head())"
   ]
  },
  {
   "cell_type": "code",
   "execution_count": null,
   "id": "24361c58-8949-432c-8168-6a8204f777f6",
   "metadata": {},
   "outputs": [],
   "source": [
    "display(test_x.head())"
   ]
  },
  {
   "cell_type": "code",
   "execution_count": null,
   "id": "fdef5319-a90d-47d5-ac7e-01d7f1529a75",
   "metadata": {},
   "outputs": [],
   "source": [
    "dt = DecisionTreeClassifier()\n",
    "rf = RandomForestClassifier(random_state = 32)\n",
    "logreg = LogisticRegression()\n",
    "svc = SVC()"
   ]
  },
  {
   "cell_type": "markdown",
   "id": "c7a73db6-efa6-48c2-b579-c3c0982a5cc5",
   "metadata": {
    "tags": []
   },
   "source": [
    "## Classifier : Decision Tree"
   ]
  },
  {
   "cell_type": "code",
   "execution_count": null,
   "id": "b89ea901-8805-4065-ace5-5596d5dc4dec",
   "metadata": {},
   "outputs": [],
   "source": [
    "y_train_pred_dt = dt.fit(x_res_over_under_2,y_res_over_under_2).predict(x_res_over_under_2)\n",
    "y_test_pred_dt  = dt.predict(test_x)\n",
    "clf_report_train_dt= classification_report(y_res_over_under_2, y_train_pred_dt)\n",
    "clf_report_test_dt = classification_report(test_y, y_test_pred_dt)\n",
    "roc_score_train_dt = roc_auc_score(y_res_over_under_2,y_train_pred_dt)\n",
    "roc_score_test_dt = roc_auc_score(test_y, y_test_pred_dt)\n",
    "cv_result_dt = np.mean(cross_val_score(dt, X = x_res_over_under_2, y = y_res_over_under_2, cv = 5, n_jobs = -1, scoring = 'accuracy'))\n",
    "precision_dt = np.round(precision_score(test_y, y_test_pred_dt), 2)\n",
    "recall_dt = np.round(recall_score(test_y, y_test_pred_dt), 2)\n",
    "accuracy_dt = np.round(accuracy_score(test_y, y_test_pred_dt), 2)"
   ]
  },
  {
   "cell_type": "code",
   "execution_count": null,
   "id": "1559cdf6-1566-436e-8a61-48a9297362f3",
   "metadata": {},
   "outputs": [],
   "source": [
    "print(\"Model Evaluation :\")\n",
    "print(\"~\"*25)\n",
    "print(\"Classification Report Training :\")\n",
    "print(clf_report_train_dt)\n",
    "print(\"=\"*25)\n",
    "print(\"ROC AUC Score for Training Data:\")\n",
    "print(roc_score_train_dt)\n",
    "print(\"=\"*25)\n",
    "print(\"Cross validation result :\")\n",
    "print(cv_result_dt)\n",
    "print(\"=\"*25)\n",
    "print(\"Classification Report for Testing Data :\")\n",
    "print(clf_report_test_dt)\n",
    "print(\"=\"*25)\n",
    "print(\"ROC AUC Score for Testing Data :\")\n",
    "print(roc_score_test_dt)"
   ]
  },
  {
   "cell_type": "code",
   "execution_count": null,
   "id": "cfd75be4-331e-4921-a67a-a4727d6f9e8c",
   "metadata": {},
   "outputs": [],
   "source": [
    "print(precision_dt)\n",
    "print(recall_dt)"
   ]
  },
  {
   "cell_type": "markdown",
   "id": "3efbd58e-70ad-41c9-8d58-701e15a79417",
   "metadata": {},
   "source": [
    "## Classifier : Random Forest"
   ]
  },
  {
   "cell_type": "code",
   "execution_count": null,
   "id": "5e2a5b3a-eb19-4577-8e52-961fc0c83df5",
   "metadata": {},
   "outputs": [],
   "source": [
    "y_train_pred_rf = rf.fit(x_res_over_under_2,np.ravel(y_res_over_under_2)).predict(x_res_over_under_2)\n",
    "y_test_pred_rf  = rf.predict(test_x)\n",
    "clf_report_train_rf= classification_report(y_res_over_under_2, y_train_pred_rf)\n",
    "clf_report_test_rf = classification_report(test_y, y_test_pred_rf)\n",
    "roc_score_train_rf = roc_auc_score(y_res_over_under_2,y_train_pred_rf)\n",
    "roc_score_test_rf = roc_auc_score(test_y, y_test_pred_rf)\n",
    "cv_result_rf = np.mean(cross_val_score(rf, X = x_res_over_under_2, y = y_res_over_under_2, cv = 5, n_jobs = -1, scoring = 'accuracy'))\n",
    "precision_rf = np.round(precision_score(test_y, y_test_pred_rf), 2)\n",
    "recall_rf = np.round(recall_score(test_y, y_test_pred_rf), 2)\n",
    "accuracy_rf = np.round(accuracy_score(test_y, y_test_pred_rf), 2)"
   ]
  },
  {
   "cell_type": "code",
   "execution_count": null,
   "id": "05cd4be5-e49e-43a2-8276-296e54f84148",
   "metadata": {},
   "outputs": [],
   "source": [
    "print(\"Model Evaluation :\")\n",
    "print(\"~\"*25)\n",
    "print(\"Classification Report Training :\")\n",
    "print(clf_report_train_rf)\n",
    "print(\"=\"*25)\n",
    "print(\"ROC AUC Score for Training Data:\")\n",
    "print(roc_score_train_rf)\n",
    "print(\"=\"*25)\n",
    "print(\"Cross validation result :\")\n",
    "print(cv_result_rf)\n",
    "print(\"=\"*25)\n",
    "print(\"Classification Report for Testing Data :\")\n",
    "print(clf_report_test_rf)\n",
    "print(\"=\"*25)\n",
    "print(\"ROC AUC Score for Testing Data :\")\n",
    "print(roc_score_test_rf)"
   ]
  },
  {
   "cell_type": "markdown",
   "id": "691d57a7-eaae-466d-9240-7c7997eeeb86",
   "metadata": {},
   "source": [
    "## Classifier : Logistic Regression"
   ]
  },
  {
   "cell_type": "code",
   "execution_count": null,
   "id": "7ca69754-2ef5-4285-8978-f47c0dc1985c",
   "metadata": {},
   "outputs": [],
   "source": [
    "y_train_pred_logreg = logreg.fit(x_res_over_under_2,np.ravel(y_res_over_under_2)).predict(x_res_over_under_2)\n",
    "y_test_pred_logreg  = logreg.predict(test_x)\n",
    "clf_report_train_logreg = classification_report(y_res_over_under_2, y_train_pred_logreg)\n",
    "clf_report_test_logreg = classification_report(test_y, y_test_pred_logreg)\n",
    "roc_score_train_logreg = roc_auc_score(y_res_over_under_2,y_train_pred_logreg)\n",
    "roc_score_test_logreg = roc_auc_score(test_y, y_test_pred_logreg)\n",
    "cv_result_logreg = np.mean(cross_val_score(logreg, X = x_res_over_under_2, y = y_res_over_under_2, cv = 5, n_jobs = -1, scoring = 'accuracy'))\n",
    "precision_logreg = np.round(precision_score(test_y, y_test_pred_logreg), 2)\n",
    "recall_logreg = np.round(recall_score(test_y, y_test_pred_logreg), 2)\n",
    "accuracy_logreg = np.round(accuracy_score(test_y, y_test_pred_logreg), 2)"
   ]
  },
  {
   "cell_type": "code",
   "execution_count": null,
   "id": "647e965e-6ac8-4363-8a4d-0d9f2df862f2",
   "metadata": {},
   "outputs": [],
   "source": [
    "print(\"Model Evaluation :\")\n",
    "print(\"~\"*25)\n",
    "print(\"Classification Report Training :\")\n",
    "print(clf_report_train_logreg)\n",
    "print(\"=\"*25)\n",
    "print(\"ROC AUC Score for Training Data:\")\n",
    "print(roc_score_train_logreg)\n",
    "print(\"=\"*25)\n",
    "print(\"Cross validation result :\")\n",
    "print(cv_result_logreg)\n",
    "print(\"=\"*25)\n",
    "print(\"Classification Report for Testing Data :\")\n",
    "print(clf_report_test_logreg)\n",
    "print(\"=\"*25)\n",
    "print(\"ROC AUC Score for Testing Data :\")\n",
    "print(roc_score_test_logreg)"
   ]
  },
  {
   "cell_type": "markdown",
   "id": "82f81fa1-0ff7-4200-b29c-7e61c717df58",
   "metadata": {},
   "source": [
    "## Classifier : SVC"
   ]
  },
  {
   "cell_type": "code",
   "execution_count": null,
   "id": "82bdd2e7-c378-4825-a212-e9d8ce2886be",
   "metadata": {},
   "outputs": [],
   "source": [
    "y_train_pred_svc = svc.fit(x_res_over_under_2,np.ravel(y_res_over_under_2)).predict(x_res_over_under_2)\n",
    "y_test_pred_svc  = svc.predict(test_x)\n",
    "clf_report_train_svc = classification_report(y_res_over_under_2, y_train_pred_svc)\n",
    "clf_report_test_svc = classification_report(test_y, y_test_pred_svc)\n",
    "roc_score_train_svc = roc_auc_score(y_res_over_under_2,y_train_pred_svc)\n",
    "roc_score_test_svc = roc_auc_score(test_y, y_test_pred_svc)\n",
    "cv_result_svc = np.mean(cross_val_score(svc, X = x_res_over_under_2, y = y_res_over_under_2, cv = 5, n_jobs = -1, scoring = 'accuracy'))\n",
    "precision_svc = np.round(precision_score(test_y, y_test_pred_svc), 2)\n",
    "recall_svc = np.round(recall_score(test_y, y_test_pred_svc), 2)\n",
    "accuracy_svc = np.round(accuracy_score(test_y, y_test_pred_svc), 2)"
   ]
  },
  {
   "cell_type": "code",
   "execution_count": null,
   "id": "2bd9fc0a-369b-40b4-a29c-ecef046c7976",
   "metadata": {},
   "outputs": [],
   "source": [
    "print(\"Model Evaluation :\")\n",
    "print(\"~\"*25)\n",
    "print(\"Classification Report Training :\")\n",
    "print(clf_report_train_svc)\n",
    "print(\"=\"*25)\n",
    "print(\"ROC AUC Score for Training Data:\")\n",
    "print(roc_score_train_svc)\n",
    "print(\"=\"*25)\n",
    "print(\"Cross validation result :\")\n",
    "print(cv_result_svc)\n",
    "print(\"=\"*25)\n",
    "print(\"Classification Report for Testing Data :\")\n",
    "print(clf_report_test_svc)\n",
    "print(\"=\"*25)\n",
    "print(\"ROC AUC Score for Testing Data :\")\n",
    "print(roc_score_test_svc)"
   ]
  },
  {
   "cell_type": "code",
   "execution_count": null,
   "id": "35dd0fdb-d3c8-4bb5-b054-08fbe390e04d",
   "metadata": {},
   "outputs": [],
   "source": [
    "report_evaluation = {'Model'           : ['Decision Tree','Random Forest','Logistic Regression','SVC'],\n",
    "                     'Precision Score' : [precision_dt, precision_rf, precision_logreg, precision_svc],\n",
    "                     'Recall Score'    : [recall_dt, recall_rf, recall_logreg, recall_svc],\n",
    "                     'Accuracy Score'  : [accuracy_dt, accuracy_rf, accuracy_logreg, accuracy_svc]}\n",
    "df_report = pd.DataFrame(report_evaluation)\n",
    "display(df_report)"
   ]
  },
  {
   "cell_type": "markdown",
   "id": "a3d76bb8-83ae-4680-850a-766bfb2b4fc3",
   "metadata": {},
   "source": [
    "**Note :** From the report above, we can see that feature engineering & feature selection made the performance of the model is better than the previous one. we'll proceed to improve our model's performance by tweaking its parameters. Tweakin parameters of the model is commonly called Hyperparameter Tuning. We'll try to tuning every models that we have in the next section."
   ]
  },
  {
   "cell_type": "markdown",
   "id": "34f9f7ef-fa3e-417e-9465-3778bad54366",
   "metadata": {
    "jp-MarkdownHeadingCollapsed": true,
    "tags": []
   },
   "source": [
    "# Hyperparameter Tuning"
   ]
  },
  {
   "cell_type": "code",
   "execution_count": null,
   "id": "6c59ba41-46e7-49ad-a6f0-791cf7396806",
   "metadata": {},
   "outputs": [],
   "source": [
    "# Hyperparameter tuning.\n",
    "from sklearn.model_selection import GridSearchCV, RandomizedSearchCV"
   ]
  },
  {
   "cell_type": "markdown",
   "id": "0c9b491a-30a1-4443-bd88-5dbcb5349202",
   "metadata": {
    "jp-MarkdownHeadingCollapsed": true,
    "tags": []
   },
   "source": [
    "## Classifier : Decision Tree"
   ]
  },
  {
   "cell_type": "code",
   "execution_count": null,
   "id": "9ae254c8-b751-44ce-a592-755a66e2ef5a",
   "metadata": {},
   "outputs": [],
   "source": [
    "parameter_dt = {'criterion' : ['gini','entropy'],\n",
    "                'splitter'  : ['best','random'],\n",
    "                'min_samples_split' : [2,4,6,8],\n",
    "                'max_features' : [None, 'sqrt','log2']}\n",
    "dt = DecisionTreeClassifier(random_state = 32)\n",
    "dt_best = GridSearchCV(estimator = dt, param_grid = parameter_dt, cv = 5, scoring = ['accuracy','f1'], refit = 'accuracy', n_jobs = 5).fit(x_res_over_under_2,np.ravel(y_res_over_under_2))\n",
    "best_params = dt_best.best_params_\n",
    "best_scores = dt_best.best_score_\n",
    "y_pred_best = dt_best.predict(test_x)\n",
    "precision_best_dt = precision_score(test_y, y_pred_best)\n",
    "recall_best_dt = recall_score(test_y, y_pred_best)\n",
    "accuracy_best_dt = accuracy_score(test_y, y_pred_best)"
   ]
  },
  {
   "cell_type": "code",
   "execution_count": null,
   "id": "de0f6024-4e7d-4a05-a7a1-86d5f8af2faa",
   "metadata": {},
   "outputs": [],
   "source": [
    "print(\"Best Parameters :\")\n",
    "for key, value in best_params.items():\n",
    "    print(f\"{key} : {value}\")\n",
    "print(\"=\"*25)\n",
    "print(\"Model Evaluation :\")\n",
    "print(f\"Precision\\t= {precision_best_dt:.2}\")\n",
    "print(f\"Recall\\t\\t= {recall_best_dt:.2}\")\n",
    "print(f\"Accuracy\\t= {accuracy_best_dt:.2}\")"
   ]
  },
  {
   "cell_type": "markdown",
   "id": "3ccda90e-a380-41dc-aa32-35c4277e4ab8",
   "metadata": {
    "tags": []
   },
   "source": [
    "## Classifier : Random Forest"
   ]
  },
  {
   "cell_type": "code",
   "execution_count": null,
   "id": "4b5d33be-f8a5-45a3-9097-02dfb37f13d7",
   "metadata": {},
   "outputs": [],
   "source": [
    "parameter_rf = {'n_estimators' : [100,200,300,400,500,600],\n",
    "                'criterion' : ['gini','entropy'],\n",
    "                'min_samples_split' : [2,4,6,8],\n",
    "                'max_features' : [None,'sqrt','log2']}\n",
    "rf = RandomForestClassifier(random_state = 32)\n",
    "rf_best = GridSearchCV(estimator = rf, param_grid = parameter_rf, cv = 5, scoring = ['accuracy','f1'], refit = 'accuracy', n_jobs = 5).fit(x_res_over_under_2,np.ravel(y_res_over_under_2))\n",
    "best_params_rf = rf_best.best_params_\n",
    "best_scores_rf = rf_best.best_score_\n",
    "y_pred_best_rf = rf_best.predict(test_x)\n",
    "precision_best_rf = precision_score(test_y, y_pred_best_rf)\n",
    "recall_best_rf = recall_score(test_y, y_pred_best_rf)\n",
    "accuracy_best_rf = accuracy_score(test_y, y_pred_best_rf)"
   ]
  },
  {
   "cell_type": "code",
   "execution_count": null,
   "id": "405e92fe-97f1-4941-880b-9c2675975f07",
   "metadata": {},
   "outputs": [],
   "source": [
    "print(\"Best Parameters :\")\n",
    "for key, value in best_params_rf.items():\n",
    "    print(f\"{key} : {value}\")\n",
    "print(\"=\"*25)\n",
    "print(\"Model Evaluation :\")\n",
    "print(f\"Precision\\t= {precision_best_rf:.2}\")\n",
    "print(f\"Recall\\t\\t= {recall_best_rf:.2}\")\n",
    "print(f\"Accuracy\\t= {accuracy_best_rf:.2}\")"
   ]
  },
  {
   "cell_type": "markdown",
   "id": "f92d2e02-03d3-4773-9078-66660c14c701",
   "metadata": {},
   "source": [
    "## Classifier : Logistic Regression"
   ]
  },
  {
   "cell_type": "code",
   "execution_count": null,
   "id": "26058c44-6bdf-4844-b46c-7fe907ac4a66",
   "metadata": {},
   "outputs": [],
   "source": [
    "parameter_logreg = {'solver' : ['lbfgs', 'liblinear'],\n",
    "                'C' : np.arange(0.5,3.1, 0.25)}\n",
    "logreg = LogisticRegression(random_state = 32, n_jobs = 5)\n",
    "logreg_best = GridSearchCV(estimator = logreg, param_grid = parameter_logreg, cv = 5, scoring = ['accuracy','f1'], refit = 'accuracy', n_jobs = 5).fit(x_res_over_under_2,np.ravel(y_res_over_under_2))\n",
    "best_params_logreg = logreg_best.best_params_\n",
    "best_scores_logreg = logreg_best.best_score_\n",
    "y_pred_best_logreg = logreg_best.predict(test_x)\n",
    "precision_best_logreg = precision_score(test_y, y_pred_best_logreg)\n",
    "recall_best_logreg = recall_score(test_y, y_pred_best_logreg)\n",
    "accuracy_best_logreg = accuracy_score(test_y, y_pred_best_logreg)"
   ]
  },
  {
   "cell_type": "code",
   "execution_count": null,
   "id": "b441597d-f458-4043-b256-847139e6ab4c",
   "metadata": {},
   "outputs": [],
   "source": [
    "print(\"Best Parameters :\")\n",
    "for key, value in best_params_logreg.items():\n",
    "    print(f\"{key} : {value}\")\n",
    "print(\"=\"*25)\n",
    "print(\"Model Evaluation :\")\n",
    "print(f\"Precision\\t= {precision_best_logreg:.2}\")\n",
    "print(f\"Recall\\t\\t= {recall_best_logreg:.2}\")\n",
    "print(f\"Accuracy\\t= {accuracy_best_logreg:.2}\")"
   ]
  },
  {
   "cell_type": "code",
   "execution_count": null,
   "id": "957d005c-67d0-49e9-84f0-a679c46e0267",
   "metadata": {},
   "outputs": [],
   "source": [
    "parameter_svc = {'kernel' : ['linear','rbf','poly','sigmoid'],\n",
    "                'C' : np.arange(0.5,3.1, 0.25),\n",
    "                'gamma' : ['scale','auto']}\n",
    "svc = SVC(random_state = 32)\n",
    "svc_best = GridSearchCV(estimator = svc, param_grid = parameter_svc, cv = 5, scoring = ['accuracy','f1'], refit = 'accuracy', n_jobs = 5).fit(x_res_over_under_2,np.ravel(y_res_over_under_2))\n",
    "best_params_svc = svc_best.best_params_\n",
    "best_scores_svc = svc_best.best_score_\n",
    "y_pred_best_svc = svc_best.predict(test_x)\n",
    "precision_best_svc = precision_score(test_y, y_pred_best_svc)\n",
    "recall_best_svc = recall_score(test_y, y_pred_best_svc)\n",
    "accuracy_best_svc = accuracy_score(test_y, y_pred_best_svc)"
   ]
  },
  {
   "cell_type": "code",
   "execution_count": null,
   "id": "a7b0e84a-883a-46f3-b66c-0709cdbb75e3",
   "metadata": {},
   "outputs": [],
   "source": [
    "print(\"Best Parameters :\")\n",
    "for key, value in best_params_svc.items():\n",
    "    print(f\"{key} : {value}\")\n",
    "print(\"=\"*25)\n",
    "print(\"Model Evaluation :\")\n",
    "print(f\"Precision\\t= {precision_best_svc:.2}\")\n",
    "print(f\"Recall\\t\\t= {recall_best_svc:.2}\")\n",
    "print(f\"Accuracy\\t= {accuracy_best_svc:.2}\")"
   ]
  },
  {
   "cell_type": "markdown",
   "id": "f449a740-c51c-43d6-ae90-fe422f525e55",
   "metadata": {},
   "source": [
    "# Create a Pipeline\n",
    "Now lets create a pipeline for several steps from preprocessing until hyperparameter tuning. There will be 6 pipelines for every models."
   ]
  },
  {
   "cell_type": "code",
   "execution_count": null,
   "id": "d218e1fb-0d60-4c9a-baab-a7b5902d5804",
   "metadata": {},
   "outputs": [],
   "source": [
    "from sklearn.pipeline import Pipeline\n",
    "from sklearn.compose import ColumnTransformer\n",
    "from sklearn.preprocessing import OneHotEncoder, LabelEncoder\n",
    "from sklearn.metrics import f1_score\n",
    "import xgboost as xgb"
   ]
  },
  {
   "cell_type": "code",
   "execution_count": 29,
   "id": "1bf3053d-a878-4c9b-b2b5-1c440ce2e6ec",
   "metadata": {},
   "outputs": [
    {
     "name": "stdout",
     "output_type": "stream",
     "text": [
      "Data Info\t:\n",
      "<class 'pandas.core.frame.DataFrame'>\n",
      "Int64Index: 398 entries, 0 to 613\n",
      "Data columns (total 11 columns):\n",
      " #   Column             Non-Null Count  Dtype  \n",
      "---  ------             --------------  -----  \n",
      " 0   Gender             398 non-null    object \n",
      " 1   Married            398 non-null    object \n",
      " 2   Dependents         398 non-null    object \n",
      " 3   Education          398 non-null    object \n",
      " 4   Self_Employed      398 non-null    object \n",
      " 5   ApplicantIncome    398 non-null    int64  \n",
      " 6   CoapplicantIncome  398 non-null    float64\n",
      " 7   LoanAmount         398 non-null    float64\n",
      " 8   Loan_Amount_Term   398 non-null    float64\n",
      " 9   Credit_History     398 non-null    int32  \n",
      " 10  Property_Area      398 non-null    object \n",
      "dtypes: float64(3), int32(1), int64(1), object(6)\n",
      "memory usage: 35.8+ KB\n",
      "None\n"
     ]
    }
   ],
   "source": [
    "X = data_without.copy().drop(['Loan_Status','Loan_ID'],axis = 1)\n",
    "Y = data_without.copy()[['Loan_Status']]\n",
    "print(\"Data Info\\t:\")\n",
    "print(X.info())"
   ]
  },
  {
   "cell_type": "code",
   "execution_count": 30,
   "id": "e1ef2783-9391-45ee-9cfd-e22ef34cbad5",
   "metadata": {},
   "outputs": [
    {
     "data": {
      "text/html": [
       "<div>\n",
       "<style scoped>\n",
       "    .dataframe tbody tr th:only-of-type {\n",
       "        vertical-align: middle;\n",
       "    }\n",
       "\n",
       "    .dataframe tbody tr th {\n",
       "        vertical-align: top;\n",
       "    }\n",
       "\n",
       "    .dataframe thead th {\n",
       "        text-align: right;\n",
       "    }\n",
       "</style>\n",
       "<table border=\"1\" class=\"dataframe\">\n",
       "  <thead>\n",
       "    <tr style=\"text-align: right;\">\n",
       "      <th></th>\n",
       "      <th>Gender</th>\n",
       "      <th>Married</th>\n",
       "      <th>Dependents</th>\n",
       "      <th>Education</th>\n",
       "      <th>Self_Employed</th>\n",
       "      <th>LoanAmount</th>\n",
       "      <th>Credit_History</th>\n",
       "      <th>Property_Area</th>\n",
       "      <th>Income Combined</th>\n",
       "    </tr>\n",
       "  </thead>\n",
       "  <tbody>\n",
       "    <tr>\n",
       "      <th>0</th>\n",
       "      <td>Male</td>\n",
       "      <td>No</td>\n",
       "      <td>0</td>\n",
       "      <td>Graduate</td>\n",
       "      <td>No</td>\n",
       "      <td>128.0</td>\n",
       "      <td>1</td>\n",
       "      <td>Urban</td>\n",
       "      <td>5849.0</td>\n",
       "    </tr>\n",
       "    <tr>\n",
       "      <th>1</th>\n",
       "      <td>Male</td>\n",
       "      <td>Yes</td>\n",
       "      <td>1</td>\n",
       "      <td>Graduate</td>\n",
       "      <td>No</td>\n",
       "      <td>128.0</td>\n",
       "      <td>1</td>\n",
       "      <td>Rural</td>\n",
       "      <td>6091.0</td>\n",
       "    </tr>\n",
       "    <tr>\n",
       "      <th>2</th>\n",
       "      <td>Male</td>\n",
       "      <td>Yes</td>\n",
       "      <td>0</td>\n",
       "      <td>Graduate</td>\n",
       "      <td>Yes</td>\n",
       "      <td>66.0</td>\n",
       "      <td>1</td>\n",
       "      <td>Urban</td>\n",
       "      <td>3000.0</td>\n",
       "    </tr>\n",
       "    <tr>\n",
       "      <th>3</th>\n",
       "      <td>Male</td>\n",
       "      <td>Yes</td>\n",
       "      <td>0</td>\n",
       "      <td>Not Graduate</td>\n",
       "      <td>No</td>\n",
       "      <td>120.0</td>\n",
       "      <td>1</td>\n",
       "      <td>Urban</td>\n",
       "      <td>4941.0</td>\n",
       "    </tr>\n",
       "    <tr>\n",
       "      <th>4</th>\n",
       "      <td>Male</td>\n",
       "      <td>No</td>\n",
       "      <td>0</td>\n",
       "      <td>Graduate</td>\n",
       "      <td>No</td>\n",
       "      <td>141.0</td>\n",
       "      <td>1</td>\n",
       "      <td>Urban</td>\n",
       "      <td>6000.0</td>\n",
       "    </tr>\n",
       "  </tbody>\n",
       "</table>\n",
       "</div>"
      ],
      "text/plain": [
       "  Gender Married Dependents     Education Self_Employed  LoanAmount  \\\n",
       "0   Male      No          0      Graduate            No       128.0   \n",
       "1   Male     Yes          1      Graduate            No       128.0   \n",
       "2   Male     Yes          0      Graduate           Yes        66.0   \n",
       "3   Male     Yes          0  Not Graduate            No       120.0   \n",
       "4   Male      No          0      Graduate            No       141.0   \n",
       "\n",
       "   Credit_History Property_Area  Income Combined  \n",
       "0               1         Urban           5849.0  \n",
       "1               1         Rural           6091.0  \n",
       "2               1         Urban           3000.0  \n",
       "3               1         Urban           4941.0  \n",
       "4               1         Urban           6000.0  "
      ]
     },
     "metadata": {},
     "output_type": "display_data"
    }
   ],
   "source": [
    "X.drop(columns = 'Loan_Amount_Term', inplace = True)\n",
    "X['Income Combined'] = X['ApplicantIncome'] + X['CoapplicantIncome']\n",
    "X.drop(columns = ['ApplicantIncome','CoapplicantIncome'], inplace = True)\n",
    "display(X.head())"
   ]
  },
  {
   "cell_type": "code",
   "execution_count": 31,
   "id": "dd20fcd2-2e6b-4d3c-a552-45a0c856ff5a",
   "metadata": {},
   "outputs": [],
   "source": [
    "X['Credit_History'] = X['Credit_History'].astype(str)\n",
    "Y['Loan_Status'] = Y['Loan_Status'].replace({\"Y\" : 1, \"N\" : 0})"
   ]
  },
  {
   "cell_type": "code",
   "execution_count": 32,
   "id": "004155de-d03b-4200-bccb-e2ed50938dc1",
   "metadata": {},
   "outputs": [
    {
     "name": "stdout",
     "output_type": "stream",
     "text": [
      "Training data dimension\t:\n",
      "X = (358, 9)\n",
      "Y = (358, 1)\n",
      "Testing data dimension\t:\n",
      "X = (40, 9)\n",
      "Y = (40, 1)\n"
     ]
    }
   ],
   "source": [
    "train_x, test_x, train_y, test_y = train_test_split(X, Y, test_size = 0.1, random_state = 32)\n",
    "print(\"Training data dimension\\t:\")\n",
    "print(f\"X = {train_x.shape}\")\n",
    "print(f\"Y = {train_y.shape}\")\n",
    "print(\"Testing data dimension\\t:\")\n",
    "print(f\"X = {test_x.shape}\")\n",
    "print(f\"Y = {test_y.shape}\")"
   ]
  },
  {
   "cell_type": "code",
   "execution_count": 33,
   "id": "39d5f727-e04f-466b-8280-b4296c3a7cb5",
   "metadata": {},
   "outputs": [],
   "source": [
    "# Oversampling the minority class and undersampling the majority class.\n",
    "res_over_under_1 = SMOTENC(sampling_strategy = 0.9, categorical_features = [0,1,2,3,4,6,7], random_state = 32, k_neighbors = 5)\n",
    "x_res_over_under_1, y_res_over_under_1= res_over_under_1.fit_resample(train_x,train_y)\n",
    "\n",
    "res_over_under_2 = RandomUnderSampler(sampling_strategy = 0.9, random_state = 32)\n",
    "x_res_over_under_2, y_res_over_under_2= res_over_under_2.fit_resample(x_res_over_under_1,y_res_over_under_1)"
   ]
  },
  {
   "cell_type": "code",
   "execution_count": 34,
   "id": "e86665dd-76f5-4c55-b10e-9f65b65744e5",
   "metadata": {},
   "outputs": [
    {
     "name": "stdout",
     "output_type": "stream",
     "text": [
      "Class proportion for oversampling & undersampling :\n",
      "No\t= [232]\n",
      "Yes\t= [257]\n",
      "====================\n"
     ]
    }
   ],
   "source": [
    "# Class Proportion For Oversampling and Undersampling.\n",
    "print(\"Class proportion for oversampling & undersampling :\")\n",
    "print(f\"No\\t= {y_res_over_under_2.value_counts().loc[0].values}\")\n",
    "print(f\"Yes\\t= {y_res_over_under_2.value_counts().loc[1].values}\") \n",
    "print(\"=\"*20)"
   ]
  },
  {
   "cell_type": "code",
   "execution_count": 35,
   "id": "420da9aa-dbaa-42ae-9cef-8d11c2e1be75",
   "metadata": {},
   "outputs": [],
   "source": [
    "pipe_standarscaler = Pipeline([('SC' , StandardScaler())])\n",
    "pipe_onehot = Pipeline([('OHE', OneHotEncoder(drop = 'first'))])\n",
    "ct_prep = ColumnTransformer(transformers = \n",
    "            [('Numeric process',pipe_standarscaler, ['LoanAmount','Income Combined']),\n",
    "             ('Category process', pipe_onehot, ['Gender','Married','Dependents','Education','Self_Employed','Credit_History','Property_Area'])]\n",
    "            )"
   ]
  },
  {
   "cell_type": "code",
   "execution_count": 36,
   "id": "19bbb799-6690-4f1c-b743-cbad2d1d05cf",
   "metadata": {},
   "outputs": [],
   "source": [
    "model, precision, recall, f1_scores, accuracy = [],[],[],[],[]"
   ]
  },
  {
   "cell_type": "markdown",
   "id": "65da63e1-4bb2-4970-b453-25f5ebeba405",
   "metadata": {},
   "source": [
    "## Classifier : Decision Tree"
   ]
  },
  {
   "cell_type": "code",
   "execution_count": 37,
   "id": "9c2bad79-ad4c-42b0-8022-5169e8ae3976",
   "metadata": {},
   "outputs": [],
   "source": [
    "parameter_dt = {'DT__criterion' : ['gini','entropy'],\n",
    "                'DT__splitter'  : ['best','random'],\n",
    "                'DT__min_samples_split' : [2,4,6,8],\n",
    "                'DT__max_features' : [None,'sqrt','log2']}\n",
    "\n",
    "pipeline_dt = Pipeline([\n",
    "            ('Preprocessing' , ct_prep),\n",
    "            ('DT' , DecisionTreeClassifier(random_state = 32))])\n",
    "\n",
    "dt_best = GridSearchCV(estimator = pipeline_dt, param_grid = parameter_dt, cv = 5, scoring = ['accuracy','f1'], refit = 'accuracy', n_jobs = 5).fit(x_res_over_under_2,y_res_over_under_2)"
   ]
  },
  {
   "cell_type": "code",
   "execution_count": 38,
   "id": "28fac332-0575-4f85-a9c3-3dc801015f4b",
   "metadata": {},
   "outputs": [],
   "source": [
    "dt_cv_score = dt_best.best_score_\n",
    "dt_best_params = dt_best.best_params_\n",
    "dt_y_pred = dt_best.predict(test_x)\n",
    "dt_precision = precision_score(test_y,dt_y_pred)\n",
    "dt_recall = recall_score(test_y,dt_y_pred)\n",
    "dt_f1 = f1_score(test_y, dt_y_pred)\n",
    "dt_accuracy = accuracy_score(test_y, dt_y_pred)"
   ]
  },
  {
   "cell_type": "code",
   "execution_count": 39,
   "id": "e5b143c7-7cde-4c5f-96e7-bbec24a479d5",
   "metadata": {},
   "outputs": [
    {
     "name": "stdout",
     "output_type": "stream",
     "text": [
      "Best parameters :\n",
      "{'DT__criterion': 'entropy', 'DT__max_features': 'sqrt', 'DT__min_samples_split': 2, 'DT__splitter': 'best'}\n",
      "Model evaluation :\n",
      "CV score = 0.78\n",
      "Precision = 88.89%\n",
      "Recall = 88.89%\n",
      "F1 score = 88.89%\n",
      "Accuracy = 85.00%\n"
     ]
    }
   ],
   "source": [
    "print(\"Best parameters :\")\n",
    "print(f\"{dt_best_params}\")\n",
    "print(\"Model evaluation :\")\n",
    "print(f\"CV score = {dt_cv_score:.2}\")\n",
    "print(f\"Precision = {dt_precision:.2%}\")\n",
    "print(f\"Recall = {dt_recall:.2%}\")\n",
    "print(f\"F1 score = {dt_f1:.2%}\")\n",
    "print(f\"Accuracy = {dt_accuracy:.2%}\")"
   ]
  },
  {
   "cell_type": "code",
   "execution_count": 40,
   "id": "a7a0c0db-3b39-410c-bfdb-4cffd3daa37b",
   "metadata": {},
   "outputs": [],
   "source": [
    "model.append(\"Decision Tree\")\n",
    "precision.append(f\"{dt_precision:.2%}\")\n",
    "recall.append(f\"{dt_recall:.2%}\")\n",
    "f1_scores.append(f\"{dt_f1:.2%}\")\n",
    "accuracy.append(f\"{dt_accuracy:.2%}\")"
   ]
  },
  {
   "cell_type": "markdown",
   "id": "107528c2-5856-46f2-91d5-bc8fbc6d0994",
   "metadata": {},
   "source": [
    "## Classifier : Random Forest"
   ]
  },
  {
   "cell_type": "code",
   "execution_count": 41,
   "id": "44a2bdc3-567e-4bbf-9d58-0ddeb9cf2679",
   "metadata": {},
   "outputs": [],
   "source": [
    "parameter_rf = {'RF__n_estimators' : [100,200,300,400,500,600],\n",
    "                'RF__criterion' : ['gini','entropy'],\n",
    "                'RF__min_samples_split' : [2,4,6,8],\n",
    "                'RF__max_features' : [None,'sqrt','log2']}\n",
    "\n",
    "pipeline_rf = Pipeline([\n",
    "            ('Preprocessing' , ct_prep),\n",
    "            ('RF' , RandomForestClassifier(random_state = 32, n_jobs = 5))])\n",
    "\n",
    "rf_best = GridSearchCV(estimator = pipeline_rf, param_grid = parameter_rf, cv = 5, scoring = ['accuracy','f1'], refit = 'accuracy', n_jobs = 5).fit(x_res_over_under_2,np.ravel(y_res_over_under_2))"
   ]
  },
  {
   "cell_type": "code",
   "execution_count": 42,
   "id": "41849192-7823-4144-94f9-66b34bd2a7cd",
   "metadata": {},
   "outputs": [],
   "source": [
    "rf_cv_score = rf_best.best_score_\n",
    "rf_best_params = rf_best.best_params_\n",
    "rf_y_pred = rf_best.predict(test_x)\n",
    "rf_precision = precision_score(test_y,rf_y_pred)\n",
    "rf_recall = recall_score(test_y,rf_y_pred)\n",
    "rf_f1 = f1_score(test_y, rf_y_pred)\n",
    "rf_accuracy = accuracy_score(test_y, rf_y_pred)"
   ]
  },
  {
   "cell_type": "code",
   "execution_count": 43,
   "id": "7f793efc-6ab7-4346-b8da-19303632cd9a",
   "metadata": {},
   "outputs": [
    {
     "name": "stdout",
     "output_type": "stream",
     "text": [
      "Best parameters :\n",
      "{'RF__criterion': 'gini', 'RF__max_features': None, 'RF__min_samples_split': 4, 'RF__n_estimators': 400}\n",
      "Model evaluation :\n",
      "CV score = 0.82\n",
      "Precision = 91.67%\n",
      "Recall = 81.48%\n",
      "F1 score = 86.27%\n",
      "Accuracy = 82.50%\n"
     ]
    }
   ],
   "source": [
    "print(\"Best parameters :\")\n",
    "print(f\"{rf_best_params}\")\n",
    "print(\"Model evaluation :\")\n",
    "print(f\"CV score = {rf_cv_score:.2}\")\n",
    "print(f\"Precision = {rf_precision:.2%}\")\n",
    "print(f\"Recall = {rf_recall:.2%}\")\n",
    "print(f\"F1 score = {rf_f1:.2%}\")\n",
    "print(f\"Accuracy = {rf_accuracy:.2%}\")"
   ]
  },
  {
   "cell_type": "code",
   "execution_count": 44,
   "id": "50dcb5e3-bcef-4c86-84c9-22a30902f9a9",
   "metadata": {},
   "outputs": [],
   "source": [
    "model.append(\"Random Forest\")\n",
    "precision.append(f\"{rf_precision:.2%}\")\n",
    "recall.append(f\"{rf_recall:.2%}\")\n",
    "f1_scores.append(f\"{rf_f1:.2%}\")\n",
    "accuracy.append(f\"{rf_accuracy:.2%}\")"
   ]
  },
  {
   "cell_type": "markdown",
   "id": "1038e27d-5e9f-4090-a15a-d6f228ec81ab",
   "metadata": {},
   "source": [
    "## Classifier : Logistic Regression"
   ]
  },
  {
   "cell_type": "code",
   "execution_count": 45,
   "id": "1bbd8678-3b69-4880-a0ed-04050872f298",
   "metadata": {},
   "outputs": [],
   "source": [
    "parameter_logreg = {'Logreg__solver' : ['lbfgs', 'liblinear'],\n",
    "                'Logreg__C' : np.arange(0.5,3.1, 0.25)}\n",
    "\n",
    "pipeline_logreg = Pipeline([\n",
    "            ('Preprocessing' , ct_prep),\n",
    "            ('Logreg' , LogisticRegression(random_state = 32, n_jobs = 5))])\n",
    "\n",
    "logreg_best = GridSearchCV(estimator = pipeline_logreg, param_grid = parameter_logreg, cv = 5, scoring = ['accuracy','f1'], refit = 'accuracy', n_jobs = 5).fit(x_res_over_under_2,np.ravel(y_res_over_under_2))"
   ]
  },
  {
   "cell_type": "code",
   "execution_count": 46,
   "id": "8a9a9ec0-b65b-4278-b059-2e2f244fac40",
   "metadata": {},
   "outputs": [],
   "source": [
    "logreg_cv_score = logreg_best.best_score_\n",
    "logreg_best_params = logreg_best.best_params_\n",
    "logreg_y_pred = logreg_best.predict(test_x)\n",
    "logreg_precision = precision_score(test_y,logreg_y_pred)\n",
    "logreg_recall = recall_score(test_y,logreg_y_pred)\n",
    "logreg_f1 = f1_score(test_y, logreg_y_pred)\n",
    "logreg_accuracy = accuracy_score(test_y, logreg_y_pred)"
   ]
  },
  {
   "cell_type": "code",
   "execution_count": 47,
   "id": "2b73f154-6055-4cd1-aa4c-a5d29ebfda20",
   "metadata": {},
   "outputs": [
    {
     "name": "stdout",
     "output_type": "stream",
     "text": [
      "Best parameters :\n",
      "{'Logreg__C': 0.5, 'Logreg__solver': 'lbfgs'}\n",
      "Model evaluation :\n",
      "CV score = 0.73\n",
      "Precision = 86.67%\n",
      "Recall = 96.30%\n",
      "F1 score = 91.23%\n",
      "Accuracy = 87.50%\n"
     ]
    }
   ],
   "source": [
    "print(\"Best parameters :\")\n",
    "print(f\"{logreg_best_params}\")\n",
    "print(\"Model evaluation :\")\n",
    "print(f\"CV score = {logreg_cv_score:.2}\")\n",
    "print(f\"Precision = {logreg_precision:.2%}\")\n",
    "print(f\"Recall = {logreg_recall:.2%}\")\n",
    "print(f\"F1 score = {logreg_f1:.2%}\")\n",
    "print(f\"Accuracy = {logreg_accuracy:.2%}\")"
   ]
  },
  {
   "cell_type": "code",
   "execution_count": 48,
   "id": "22d64a29-af14-40d4-8d8c-26af11a58252",
   "metadata": {},
   "outputs": [],
   "source": [
    "model.append(\"Logistic Regression\")\n",
    "precision.append(f\"{logreg_precision:.2%}\")\n",
    "recall.append(f\"{logreg_recall:.2%}\")\n",
    "f1_scores.append(f\"{logreg_f1:.2%}\")\n",
    "accuracy.append(f\"{logreg_accuracy:.2%}\")"
   ]
  },
  {
   "cell_type": "markdown",
   "id": "65e9c3fa-803b-4ce6-a7ca-aa792822345f",
   "metadata": {},
   "source": [
    "## Classifier : Support Vector Machine Classifier"
   ]
  },
  {
   "cell_type": "code",
   "execution_count": 49,
   "id": "4ffdfd84-1fd7-47fc-a4ec-734dbca7a48e",
   "metadata": {},
   "outputs": [],
   "source": [
    "parameter_svc = {'SVC__kernel' : ['linear','rbf','poly','sigmoid'],\n",
    "                'SVC__C' : np.arange(0.5,3.1, 0.25),\n",
    "                'SVC__gamma' : ['scale','auto']}\n",
    "\n",
    "pipeline_svc = Pipeline([\n",
    "            ('Preprocessing' , ct_prep),\n",
    "            ('SVC' , SVC(random_state = 32))])\n",
    "\n",
    "svc_best = GridSearchCV(estimator = pipeline_svc, param_grid = parameter_svc, cv = 5, scoring = ['accuracy','f1'], refit = 'accuracy', n_jobs = 5).fit(x_res_over_under_2,np.ravel(y_res_over_under_2))"
   ]
  },
  {
   "cell_type": "code",
   "execution_count": 50,
   "id": "d99aa1d7-4e0b-4bd8-8898-c2e687442850",
   "metadata": {},
   "outputs": [],
   "source": [
    "svc_cv_score = svc_best.best_score_\n",
    "svc_best_params = svc_best.best_params_\n",
    "svc_y_pred = svc_best.predict(test_x)\n",
    "svc_precision = precision_score(test_y,svc_y_pred)\n",
    "svc_recall = recall_score(test_y,svc_y_pred)\n",
    "svc_f1 = f1_score(test_y, svc_y_pred)\n",
    "svc_accuracy = accuracy_score(test_y, svc_y_pred)"
   ]
  },
  {
   "cell_type": "code",
   "execution_count": 51,
   "id": "ebc048b6-f945-475c-ad85-83f850f0f0fe",
   "metadata": {},
   "outputs": [
    {
     "name": "stdout",
     "output_type": "stream",
     "text": [
      "Best parameters :\n",
      "{'SVC__C': 1.25, 'SVC__gamma': 'scale', 'SVC__kernel': 'rbf'}\n",
      "Model evaluation :\n",
      "CV score = 0.78\n",
      "Precision = 90.00%\n",
      "Recall = 100.00%\n",
      "F1 score = 94.74%\n",
      "Accuracy = 92.50%\n"
     ]
    }
   ],
   "source": [
    "print(\"Best parameters :\")\n",
    "print(f\"{svc_best_params}\")\n",
    "print(\"Model evaluation :\")\n",
    "print(f\"CV score = {svc_cv_score:.2}\")\n",
    "print(f\"Precision = {svc_precision:.2%}\")\n",
    "print(f\"Recall = {svc_recall:.2%}\")\n",
    "print(f\"F1 score = {svc_f1:.2%}\")\n",
    "print(f\"Accuracy = {svc_accuracy:.2%}\")"
   ]
  },
  {
   "cell_type": "code",
   "execution_count": 52,
   "id": "fba977dc-f7ba-4510-862d-0f3ba47214e8",
   "metadata": {},
   "outputs": [],
   "source": [
    "model.append(\"SVC\")\n",
    "precision.append(f\"{svc_precision:.2%}\")\n",
    "recall.append(f\"{svc_recall:.2%}\")\n",
    "f1_scores.append(f\"{svc_f1:.2%}\")\n",
    "accuracy.append(f\"{svc_accuracy:.2%}\")"
   ]
  },
  {
   "cell_type": "markdown",
   "id": "86688599-edac-4449-8beb-fbb4df08e4b6",
   "metadata": {},
   "source": [
    "## Classfier : KNearestNeighbors"
   ]
  },
  {
   "cell_type": "code",
   "execution_count": 53,
   "id": "3b38c049-5366-4a03-9062-1add49370251",
   "metadata": {},
   "outputs": [],
   "source": [
    "parameter_knn = {'KNN__n_neighbors' : np.arange(1,11),\n",
    "                'KNN__weights' : ['uniform','distance'],\n",
    "                'KNN__algorithm' : ['auto', 'ball_tree', 'kd_tree', 'brute'],\n",
    "                'KNN__leaf_size' : np.arange(15,51,5)}\n",
    "pipeline_knn = Pipeline([\n",
    "            ('Preprocessing' , ct_prep),\n",
    "            ('KNN' , KNeighborsClassifier(n_jobs = 5))])\n",
    "\n",
    "knn_best = GridSearchCV(estimator = pipeline_knn, param_grid = parameter_knn, cv = 5, scoring = ['accuracy','f1'], refit = 'accuracy', n_jobs = 10).fit(x_res_over_under_2,np.ravel(y_res_over_under_2))"
   ]
  },
  {
   "cell_type": "code",
   "execution_count": 54,
   "id": "b34f31f4-ad05-4526-9a0b-a8476269f477",
   "metadata": {},
   "outputs": [],
   "source": [
    "knn_cv_score = knn_best.best_score_\n",
    "knn_best_params = knn_best.best_params_\n",
    "knn_y_pred = knn_best.predict(test_x)\n",
    "knn_precision = precision_score(test_y,knn_y_pred)\n",
    "knn_recall = recall_score(test_y,knn_y_pred)\n",
    "knn_f1 = f1_score(test_y, knn_y_pred)\n",
    "knn_accuracy = accuracy_score(test_y, knn_y_pred)"
   ]
  },
  {
   "cell_type": "code",
   "execution_count": 55,
   "id": "c874e412-0f88-41df-bbc4-dc45ed1ad8c6",
   "metadata": {},
   "outputs": [
    {
     "name": "stdout",
     "output_type": "stream",
     "text": [
      "Best parameters :\n",
      "{'KNN__algorithm': 'auto', 'KNN__leaf_size': 15, 'KNN__n_neighbors': 5, 'KNN__weights': 'distance'}\n",
      "Model evaluation :\n",
      "CV score = 0.79\n",
      "Precision = 81.48%\n",
      "Recall = 81.48%\n",
      "F1 score = 81.48%\n",
      "Accuracy = 75.00%\n"
     ]
    }
   ],
   "source": [
    "print(\"Best parameters :\")\n",
    "print(f\"{knn_best_params}\")\n",
    "print(\"Model evaluation :\")\n",
    "print(f\"CV score = {knn_cv_score:.2}\")\n",
    "print(f\"Precision = {knn_precision:.2%}\")\n",
    "print(f\"Recall = {knn_recall:.2%}\")\n",
    "print(f\"F1 score = {knn_f1:.2%}\")\n",
    "print(f\"Accuracy = {knn_accuracy:.2%}\")"
   ]
  },
  {
   "cell_type": "code",
   "execution_count": 56,
   "id": "2df570d3-2718-4fde-8306-f03614a759f2",
   "metadata": {},
   "outputs": [],
   "source": [
    "model.append(\"KNearestNeighbor\")\n",
    "precision.append(f\"{knn_precision:.2%}\")\n",
    "recall.append(f\"{knn_recall:.2%}\")\n",
    "f1_scores.append(f\"{knn_f1:.2%}\")\n",
    "accuracy.append(f\"{knn_accuracy:.2%}\")"
   ]
  },
  {
   "cell_type": "markdown",
   "id": "db2f665e-34bd-4b6d-adb3-35b90866f892",
   "metadata": {},
   "source": [
    "## Boosting Classifier : AdaBoost & XGboost"
   ]
  },
  {
   "cell_type": "code",
   "execution_count": 57,
   "id": "72c4bb77-3368-41be-a522-ad247a513b6b",
   "metadata": {},
   "outputs": [],
   "source": [
    "from sklearn.ensemble import AdaBoostClassifier,GradientBoostingClassifier"
   ]
  },
  {
   "cell_type": "code",
   "execution_count": 58,
   "id": "a41f9583-afb7-422b-b6c2-78309f0d45e7",
   "metadata": {},
   "outputs": [],
   "source": [
    "parameter_ada = {'Ada__estimator' : [DecisionTreeClassifier(max_depth = 1),DecisionTreeClassifier(max_depth = 2), DecisionTreeClassifier(max_depth = 3)],\n",
    "                'Ada__n_estimators' : [100,200,300,400,500,600,700],\n",
    "                'Ada__learning_rate' : [0.001,0.01,0.1]\n",
    "               }\n",
    "\n",
    "pipeline_ada = Pipeline([\n",
    "            ('Preprocessing' , ct_prep),\n",
    "            ('Ada' , AdaBoostClassifier(random_state = 32))])\n",
    "\n",
    "ada_best = GridSearchCV(estimator = pipeline_ada, param_grid = parameter_ada, cv = 5, scoring = ['accuracy','f1'], refit = 'accuracy', n_jobs = 15).fit(x_res_over_under_2,np.ravel(y_res_over_under_2))"
   ]
  },
  {
   "cell_type": "code",
   "execution_count": 59,
   "id": "aee56b0c-ea68-4684-af20-cb7441fe94ec",
   "metadata": {},
   "outputs": [],
   "source": [
    "ada_cv_score = ada_best.best_score_\n",
    "ada_best_params = ada_best.best_params_\n",
    "ada_y_pred = ada_best.predict(test_x)\n",
    "ada_precision = precision_score(test_y,ada_y_pred)\n",
    "ada_recall = recall_score(test_y,ada_y_pred)\n",
    "ada_f1 = f1_score(test_y, ada_y_pred)\n",
    "ada_accuracy = accuracy_score(test_y, ada_y_pred)"
   ]
  },
  {
   "cell_type": "code",
   "execution_count": 60,
   "id": "c7d5254e-9957-4329-a51a-ee4ffb818f1d",
   "metadata": {},
   "outputs": [
    {
     "name": "stdout",
     "output_type": "stream",
     "text": [
      "Best parameters :\n",
      "{'Ada__estimator': DecisionTreeClassifier(max_depth=2), 'Ada__learning_rate': 0.01, 'Ada__n_estimators': 700}\n",
      "Model evaluation :\n",
      "CV score = 0.8\n",
      "Precision = 92.31%\n",
      "Recall = 88.89%\n",
      "F1 score = 90.57%\n",
      "Accuracy = 87.50%\n"
     ]
    }
   ],
   "source": [
    "print(\"Best parameters :\")\n",
    "print(f\"{ada_best_params}\")\n",
    "print(\"Model evaluation :\")\n",
    "print(f\"CV score = {ada_cv_score:.2}\")\n",
    "print(f\"Precision = {ada_precision:.2%}\")\n",
    "print(f\"Recall = {ada_recall:.2%}\")\n",
    "print(f\"F1 score = {ada_f1:.2%}\")\n",
    "print(f\"Accuracy = {ada_accuracy:.2%}\")"
   ]
  },
  {
   "cell_type": "code",
   "execution_count": 61,
   "id": "79b0a81b-aee4-471b-82d8-0c8a616040a9",
   "metadata": {},
   "outputs": [],
   "source": [
    "model.append(\"AdaBoost\")\n",
    "precision.append(f\"{ada_precision:.2%}\")\n",
    "recall.append(f\"{ada_recall:.2%}\")\n",
    "f1_scores.append(f\"{ada_f1:.2%}\")\n",
    "accuracy.append(f\"{ada_accuracy:.2%}\")"
   ]
  },
  {
   "cell_type": "code",
   "execution_count": 62,
   "id": "4bdceae3-8d6f-48b7-b992-4419289e40cd",
   "metadata": {},
   "outputs": [],
   "source": [
    "xgboost_parameters = {'xgboost__max_depth' : np.arange(3,10),\n",
    "                      'xgboost__sampling_method' : ['uniform','gradient_based']}\n",
    "xgboost_pipeline = Pipeline([('Preprocessing', ct_prep),('xgboost', xgb.XGBClassifier(tree_method = 'gpu_hist'))])\n",
    "xgboost_best = GridSearchCV(estimator = xgboost_pipeline, param_grid = xgboost_parameters, cv = 5, scoring = ['accuracy','f1'], refit = 'accuracy', n_jobs = 15).fit(x_res_over_under_2,np.ravel(y_res_over_under_2))\n",
    "x_test_transformed = ct_prep.fit_transform(test_x)\n",
    "xgboost_y_pred = xgboost_best.predict(test_x)\n",
    "xgboost_cv_score = xgboost_best.best_score_\n",
    "xgboost_best_params = xgboost_best.best_params_\n",
    "xgboost_precision = precision_score(test_y,xgboost_y_pred)\n",
    "xgboost_recall = recall_score(test_y,xgboost_y_pred)\n",
    "xgboost_f1 = f1_score(test_y, xgboost_y_pred)\n",
    "xgboost_accuracy = accuracy_score(test_y, xgboost_y_pred)"
   ]
  },
  {
   "cell_type": "code",
   "execution_count": 63,
   "id": "fd219711-d6ec-4ed2-b0ed-db7238702953",
   "metadata": {},
   "outputs": [
    {
     "name": "stdout",
     "output_type": "stream",
     "text": [
      "Best parameters :\n",
      "{'xgboost__max_depth': 3, 'xgboost__sampling_method': 'uniform'}\n",
      "Model evaluation :\n",
      "CV score = 0.8\n",
      "Precision = 95.83%\n",
      "Recall = 85.19%\n",
      "F1 score = 90.20%\n",
      "Accuracy = 87.50%\n"
     ]
    }
   ],
   "source": [
    "print(\"Best parameters :\")\n",
    "print(f\"{xgboost_best_params}\")\n",
    "print(\"Model evaluation :\")\n",
    "print(f\"CV score = {xgboost_cv_score:.2}\")\n",
    "print(f\"Precision = {xgboost_precision:.2%}\")\n",
    "print(f\"Recall = {xgboost_recall:.2%}\")\n",
    "print(f\"F1 score = {xgboost_f1:.2%}\")\n",
    "print(f\"Accuracy = {xgboost_accuracy:.2%}\")"
   ]
  },
  {
   "cell_type": "code",
   "execution_count": 64,
   "id": "c680a198-61b7-48f5-adea-84edae4f1a7d",
   "metadata": {},
   "outputs": [],
   "source": [
    "model.append(\"XGBoost\")\n",
    "precision.append(f\"{xgboost_precision:.2%}\")\n",
    "recall.append(f\"{xgboost_recall:.2%}\")\n",
    "f1_scores.append(f\"{xgboost_f1:.2%}\")\n",
    "accuracy.append(f\"{xgboost_accuracy:.2%}\")"
   ]
  },
  {
   "cell_type": "code",
   "execution_count": 65,
   "id": "3af5080c-981f-45da-ae55-a576ac7c5a9c",
   "metadata": {},
   "outputs": [
    {
     "data": {
      "text/html": [
       "<div>\n",
       "<style scoped>\n",
       "    .dataframe tbody tr th:only-of-type {\n",
       "        vertical-align: middle;\n",
       "    }\n",
       "\n",
       "    .dataframe tbody tr th {\n",
       "        vertical-align: top;\n",
       "    }\n",
       "\n",
       "    .dataframe thead th {\n",
       "        text-align: right;\n",
       "    }\n",
       "</style>\n",
       "<table border=\"1\" class=\"dataframe\">\n",
       "  <thead>\n",
       "    <tr style=\"text-align: right;\">\n",
       "      <th></th>\n",
       "      <th>Model</th>\n",
       "      <th>Precision</th>\n",
       "      <th>Recall</th>\n",
       "      <th>F1 Score</th>\n",
       "      <th>Accuracy</th>\n",
       "    </tr>\n",
       "  </thead>\n",
       "  <tbody>\n",
       "    <tr>\n",
       "      <th>0</th>\n",
       "      <td>Decision Tree</td>\n",
       "      <td>88.89%</td>\n",
       "      <td>88.89%</td>\n",
       "      <td>88.89%</td>\n",
       "      <td>85.00%</td>\n",
       "    </tr>\n",
       "    <tr>\n",
       "      <th>1</th>\n",
       "      <td>Random Forest</td>\n",
       "      <td>91.67%</td>\n",
       "      <td>81.48%</td>\n",
       "      <td>86.27%</td>\n",
       "      <td>82.50%</td>\n",
       "    </tr>\n",
       "    <tr>\n",
       "      <th>2</th>\n",
       "      <td>Logistic Regression</td>\n",
       "      <td>86.67%</td>\n",
       "      <td>96.30%</td>\n",
       "      <td>91.23%</td>\n",
       "      <td>87.50%</td>\n",
       "    </tr>\n",
       "    <tr>\n",
       "      <th>3</th>\n",
       "      <td>SVC</td>\n",
       "      <td>90.00%</td>\n",
       "      <td>100.00%</td>\n",
       "      <td>94.74%</td>\n",
       "      <td>92.50%</td>\n",
       "    </tr>\n",
       "    <tr>\n",
       "      <th>4</th>\n",
       "      <td>KNearestNeighbor</td>\n",
       "      <td>81.48%</td>\n",
       "      <td>81.48%</td>\n",
       "      <td>81.48%</td>\n",
       "      <td>75.00%</td>\n",
       "    </tr>\n",
       "    <tr>\n",
       "      <th>5</th>\n",
       "      <td>AdaBoost</td>\n",
       "      <td>92.31%</td>\n",
       "      <td>88.89%</td>\n",
       "      <td>90.57%</td>\n",
       "      <td>87.50%</td>\n",
       "    </tr>\n",
       "    <tr>\n",
       "      <th>6</th>\n",
       "      <td>XGBoost</td>\n",
       "      <td>95.83%</td>\n",
       "      <td>85.19%</td>\n",
       "      <td>90.20%</td>\n",
       "      <td>87.50%</td>\n",
       "    </tr>\n",
       "  </tbody>\n",
       "</table>\n",
       "</div>"
      ],
      "text/plain": [
       "                 Model Precision   Recall F1 Score Accuracy\n",
       "0        Decision Tree    88.89%   88.89%   88.89%   85.00%\n",
       "1        Random Forest    91.67%   81.48%   86.27%   82.50%\n",
       "2  Logistic Regression    86.67%   96.30%   91.23%   87.50%\n",
       "3                  SVC    90.00%  100.00%   94.74%   92.50%\n",
       "4     KNearestNeighbor    81.48%   81.48%   81.48%   75.00%\n",
       "5             AdaBoost    92.31%   88.89%   90.57%   87.50%\n",
       "6              XGBoost    95.83%   85.19%   90.20%   87.50%"
      ]
     },
     "execution_count": 65,
     "metadata": {},
     "output_type": "execute_result"
    }
   ],
   "source": [
    "df_report = pd.DataFrame({\"Model\" : model, \"Precision\" : precision, \"Recall\" : recall, \"F1 Score\" : f1_scores, \"Accuracy\" : accuracy})\n",
    "df_report "
   ]
  },
  {
   "cell_type": "markdown",
   "id": "6fe89b08-d474-470e-96e4-a8091838354c",
   "metadata": {},
   "source": [
    "**Note :** Based on the table, we can select the best model that is Support Vector Classifier. However, if we want to get some information of which features that are important/best to explain target feature, we can select logistic regression, Decision Tree. Logistic regression can help to identify which explanatory features that are best to describe target feature by looking at the derived coefficients. Decision Tree can help to identify which explanatory features that are best to describe target feature by looking at the feature importance.\n",
    "\n",
    "**Conclusion :** We have reached at the end section and we have done data processing and analytics flow which are data wrangling, exploratory and explanatory data analysis, conducting statistical test for hypothesis testing, outlier analysis, data preprocessing, model building, hyperparameter tuning, and building a pipeline. From EDA section, we got some insighta that property area and credit history are two important features for describing on whether a person can get a loan or not. Moreover, that can be verified by looking at the result of statistical tests and feature importance. Last but not least, at the end we have a best model that we can utilize for predicting loan status for future data that is support vector classifier. Thank you and see you in the next project.\n",
    "\n"
   ]
  }
 ],
 "metadata": {
  "kernelspec": {
   "display_name": "Python 3 (ipykernel)",
   "language": "python",
   "name": "python3"
  },
  "language_info": {
   "codemirror_mode": {
    "name": "ipython",
    "version": 3
   },
   "file_extension": ".py",
   "mimetype": "text/x-python",
   "name": "python",
   "nbconvert_exporter": "python",
   "pygments_lexer": "ipython3",
   "version": "3.10.8"
  }
 },
 "nbformat": 4,
 "nbformat_minor": 5
}
