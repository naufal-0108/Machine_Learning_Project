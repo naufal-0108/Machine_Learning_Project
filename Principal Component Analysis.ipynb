{
 "cells": [
  {
   "cell_type": "code",
   "execution_count": 1,
   "id": "82359a28",
   "metadata": {},
   "outputs": [],
   "source": [
    "import numpy as np\n",
    "import pandas as pd"
   ]
  },
  {
   "cell_type": "code",
   "execution_count": null,
   "id": "9c28140e",
   "metadata": {},
   "outputs": [],
   "source": []
  },
  {
   "cell_type": "code",
   "execution_count": 34,
   "id": "34d61377",
   "metadata": {},
   "outputs": [],
   "source": [
    "def MCD(data):\n",
    "    \"\"\"for converting original data to mean corrected\"\"\"\n",
    "    new_arr = np.zeros_like(data)\n",
    "    for column in range(data.shape[1]):\n",
    "        for row in range(data.shape[0]):\n",
    "            new_arr[row,column] = data[row,column]-np.mean(data[:,column])\n",
    "    return new_arr\n",
    "def Mean(data):\n",
    "    \"\"\"for calculating mean of the data\"\"\"\n",
    "    mean = []\n",
    "    for column in range(data.shape[1]):\n",
    "        value = np.mean(data[:,column])\n",
    "        mean.append(value)\n",
    "    return mean\n",
    "def Covariance(data,mean):\n",
    "    \"\"\"for calculating covariance matrices\"\"\"\n",
    "    zeros_ = np.zeros((data.shape[1],data.shape[1]))\n",
    "    for row in range(zeros_.shape[0]):\n",
    "        for column in range(zeros_.shape[1]):\n",
    "            if row == column:\n",
    "                value = 0\n",
    "                for i in range(data.shape[0]):\n",
    "                    value += (data[i,column]-mean[column])**2\n",
    "                var = (1/(data.shape[0]-1))*value\n",
    "                zeros_[row,column] = var\n",
    "            else:\n",
    "                value = 0\n",
    "                for i in range(data.shape[0]):\n",
    "                    value += (data[i,row]-mean[row])*(data[i,column]-mean[column])\n",
    "                var = (1/(data.shape[0]-1))*value\n",
    "                zeros_[row,column] = var\n",
    "                \n",
    "    return zeros_\n",
    "\n",
    "def PCA(data):\n",
    "    \"\"\"For calculating pricipal component\"\"\"\n",
    "    mean_crtd = MCD(data)\n",
    "    mean_ = Mean(data)\n",
    "    cov_ = Covariance(data,mean_)\n",
    "    Eigenvalues,Eigenvectors = np.linalg.eig(cov_)\n",
    "    idx = Eigenvalues.argsort()[::-1]\n",
    "    new_eigval = Eigenvalues[idx]\n",
    "    new_eigvec = Eigenvectors[:,idx]\n",
    "    PC_ = np.dot(mean_crtd,new_eigvec)\n",
    "    return PC_,new_eigval,new_eigvec\n",
    "    \n",
    "def pearson_correlation(data):\n",
    "    \"\"\"For calculationg pearson correlation matrix\"\"\"\n",
    "    r = np.zeros((data.shape[1],data.shape[1]))\n",
    "    mean_ = Mean(data)\n",
    "    cov_ = Covariance(data,mean_)\n",
    "    for row in range(r.shape[0]):\n",
    "        for column in range(r.shape[1]):\n",
    "            val = 0\n",
    "            val = (cov_[row,column])/(np.sqrt(cov_[row,row])*np.sqrt(cov_[column,column]))\n",
    "            r[row,column] = val\n",
    "            \n",
    "    return r"
   ]
  },
  {
   "cell_type": "code",
   "execution_count": 33,
   "id": "f05b84d6",
   "metadata": {},
   "outputs": [
    {
     "name": "stdout",
     "output_type": "stream",
     "text": [
      "Masukkan data :[[16,8],[12,10],[13,6],[11,2],[10,8],[9,-1],[8,4],[7,6],[5,-3],[3,-1],[2,-3],[0,0]]\n",
      "Correlation matrix :\n",
      "[[1.        0.7456203]\n",
      " [0.7456203 1.       ]]\n",
      "-------------------------\n",
      "Eigenvalues :\n",
      "[38.57581328  5.6060049 ]\n",
      "-------------------------\n",
      "Eigenvectors :\n",
      "[[ 0.72823813 -0.68532417]\n",
      " [ 0.68532417  0.72823813]]\n",
      "-------------------------\n",
      "PCA Output\n",
      "[[ 9.25252593 -1.8414027 ]\n",
      " [ 7.71022174  2.35637025]\n",
      " [ 5.69716318 -1.24190646]\n",
      " [ 1.49939023 -2.78421065]\n",
      " [ 4.88309713  2.27054233]\n",
      " [-2.01305855 -3.59827671]\n",
      " [ 0.68532417  0.72823813]\n",
      " [ 1.32773438  2.87003857]\n",
      " [-6.29665943 -2.31345629]\n",
      " [-6.38248736  0.51366832]\n",
      " [-8.48137383 -0.25748377]\n",
      " [-7.88187759  3.29787897]]\n"
     ]
    }
   ],
   "source": [
    "data_ = np.array(eval(input('Masukkan data :')))\n",
    "pearson_ = pearson_correlation(data_)\n",
    "output,eigval,eigvec = PCA(data_)\n",
    "print('Correlation matrix :')\n",
    "print(pearson_)\n",
    "print(\"-\"*25)\n",
    "print('Eigenvalues :')\n",
    "print(eigval)\n",
    "print('-'*25)\n",
    "print('Eigenvectors :')\n",
    "print(eigvec)\n",
    "print('-'*25)\n",
    "print('PCA Output')\n",
    "print(output)"
   ]
  }
 ],
 "metadata": {
  "kernelspec": {
   "display_name": "Python 3 (ipykernel)",
   "language": "python",
   "name": "python3"
  },
  "language_info": {
   "codemirror_mode": {
    "name": "ipython",
    "version": 3
   },
   "file_extension": ".py",
   "mimetype": "text/x-python",
   "name": "python",
   "nbconvert_exporter": "python",
   "pygments_lexer": "ipython3",
   "version": "3.9.7"
  }
 },
 "nbformat": 4,
 "nbformat_minor": 5
}
