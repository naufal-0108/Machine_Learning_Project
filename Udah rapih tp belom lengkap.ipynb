{
 "cells": [
  {
   "cell_type": "code",
   "execution_count": 1,
   "id": "54670617-a5d0-4c58-939f-573faa976e55",
   "metadata": {},
   "outputs": [],
   "source": [
    "import warnings\n",
    "warnings.filterwarnings('ignore')"
   ]
  },
  {
   "cell_type": "code",
   "execution_count": 3,
   "id": "c0f6f752-780d-46ad-a1ac-c3942f18ad2c",
   "metadata": {},
   "outputs": [],
   "source": [
    "import snscrape.modules.twitter as sntwitter\n",
    "import itertools, re, nltk\n",
    "import time, numpy as np, matplotlib.pyplot as plt, pandas as pd, seaborn as sns, networkx as nx\n",
    "from matplotlib.colors import ListedColormap\n",
    "from textblob import TextBlob\n",
    "from Sastrawi.Stemmer.StemmerFactory import StemmerFactory\n",
    "from unidecode import unidecode\n",
    "from nltk.tag import CRFTagger\n",
    "from html import unescape\n",
    "from Sastrawi.StopWordRemover.StopWordRemoverFactory import StopWordRemoverFactory\n",
    "from tqdm import tqdm\n",
    "import spacy\n",
    "import pyLDAvis\n",
    "from spacy.lang.id import Indonesian\n",
    "import twint\n",
    "import nest_asyncio\n",
    "import urllib.request as rq\n",
    "import plotly\n",
    "import plotly.express as px\n",
    "from bs4 import BeautifulSoup\n",
    "from imp import reload\n",
    "import gensim\n",
    "from gensim.models.coherencemodel import CoherenceModel\n",
    "from gensim.models import Phrases\n",
    "from gensim.corpora.dictionary import Dictionary\n",
    "from gensim.models.ldamulticore import LdaMulticore\n",
    "import pyLDAvis\n",
    "import pyLDAvis.gensim_models\n",
    "stemmer = StemmerFactory().create_stemmer()"
   ]
  },
  {
   "cell_type": "markdown",
   "id": "78e48403",
   "metadata": {},
   "source": [
    "## Impor data dan melihat info data."
   ]
  },
  {
   "cell_type": "code",
   "execution_count": 4,
   "id": "6551f644-1d01-450f-92fa-275d9c658baa",
   "metadata": {},
   "outputs": [
    {
     "data": {
      "text/html": [
       "<div>\n",
       "<style scoped>\n",
       "    .dataframe tbody tr th:only-of-type {\n",
       "        vertical-align: middle;\n",
       "    }\n",
       "\n",
       "    .dataframe tbody tr th {\n",
       "        vertical-align: top;\n",
       "    }\n",
       "\n",
       "    .dataframe thead th {\n",
       "        text-align: right;\n",
       "    }\n",
       "</style>\n",
       "<table border=\"1\" class=\"dataframe\">\n",
       "  <thead>\n",
       "    <tr style=\"text-align: right;\">\n",
       "      <th></th>\n",
       "      <th>id</th>\n",
       "      <th>tweet</th>\n",
       "      <th>username</th>\n",
       "      <th>photos</th>\n",
       "      <th>video</th>\n",
       "      <th>name</th>\n",
       "      <th>date</th>\n",
       "      <th>nlikes</th>\n",
       "      <th>nreplies</th>\n",
       "      <th>nretweets</th>\n",
       "    </tr>\n",
       "  </thead>\n",
       "  <tbody>\n",
       "    <tr>\n",
       "      <th>0</th>\n",
       "      <td>1604989890772418560</td>\n",
       "      <td>Piala Dunia FIFA 2022 di Qatar paling banyak d...</td>\n",
       "      <td>medan_sib</td>\n",
       "      <td>['https://pbs.twimg.com/media/FkYRytMUAAETvvt....</td>\n",
       "      <td>1</td>\n",
       "      <td>Medan SIB</td>\n",
       "      <td>2022-12-20 06:59:43</td>\n",
       "      <td>1</td>\n",
       "      <td>0</td>\n",
       "      <td>0</td>\n",
       "    </tr>\n",
       "    <tr>\n",
       "      <th>1</th>\n",
       "      <td>1604989580071116800</td>\n",
       "      <td>Meski pernah merasakan gelar Piala Dunia pada ...</td>\n",
       "      <td>detikcom</td>\n",
       "      <td>[]</td>\n",
       "      <td>0</td>\n",
       "      <td>detikcom</td>\n",
       "      <td>2022-12-20 06:58:29</td>\n",
       "      <td>14</td>\n",
       "      <td>0</td>\n",
       "      <td>1</td>\n",
       "    </tr>\n",
       "    <tr>\n",
       "      <th>2</th>\n",
       "      <td>1604989149429510144</td>\n",
       "      <td>Piala Dunia 2026 Memakai Cara Berbeda dari Pia...</td>\n",
       "      <td>Jankisnihbos</td>\n",
       "      <td>[]</td>\n",
       "      <td>0</td>\n",
       "      <td>Jankisnihbos</td>\n",
       "      <td>2022-12-20 06:56:47</td>\n",
       "      <td>1</td>\n",
       "      <td>0</td>\n",
       "      <td>1</td>\n",
       "    </tr>\n",
       "    <tr>\n",
       "      <th>3</th>\n",
       "      <td>1604988946043514880</td>\n",
       "      <td>Piala Dunia 2026 Memakai Cara Berbeda dari Pia...</td>\n",
       "      <td>Jankisnihbos</td>\n",
       "      <td>[]</td>\n",
       "      <td>0</td>\n",
       "      <td>Jankisnihbos</td>\n",
       "      <td>2022-12-20 06:55:58</td>\n",
       "      <td>0</td>\n",
       "      <td>0</td>\n",
       "      <td>0</td>\n",
       "    </tr>\n",
       "    <tr>\n",
       "      <th>4</th>\n",
       "      <td>1604988858906447872</td>\n",
       "      <td>#news #berita #fakta #indonesia #viral #berita...</td>\n",
       "      <td>rikagami1</td>\n",
       "      <td>[]</td>\n",
       "      <td>0</td>\n",
       "      <td>rika gami</td>\n",
       "      <td>2022-12-20 06:55:37</td>\n",
       "      <td>0</td>\n",
       "      <td>0</td>\n",
       "      <td>0</td>\n",
       "    </tr>\n",
       "  </tbody>\n",
       "</table>\n",
       "</div>"
      ],
      "text/plain": [
       "                    id                                              tweet  \\\n",
       "0  1604989890772418560  Piala Dunia FIFA 2022 di Qatar paling banyak d...   \n",
       "1  1604989580071116800  Meski pernah merasakan gelar Piala Dunia pada ...   \n",
       "2  1604989149429510144  Piala Dunia 2026 Memakai Cara Berbeda dari Pia...   \n",
       "3  1604988946043514880  Piala Dunia 2026 Memakai Cara Berbeda dari Pia...   \n",
       "4  1604988858906447872  #news #berita #fakta #indonesia #viral #berita...   \n",
       "\n",
       "       username                                             photos  video  \\\n",
       "0     medan_sib  ['https://pbs.twimg.com/media/FkYRytMUAAETvvt....      1   \n",
       "1      detikcom                                                 []      0   \n",
       "2  Jankisnihbos                                                 []      0   \n",
       "3  Jankisnihbos                                                 []      0   \n",
       "4     rikagami1                                                 []      0   \n",
       "\n",
       "           name                 date  nlikes  nreplies  nretweets  \n",
       "0     Medan SIB  2022-12-20 06:59:43       1         0          0  \n",
       "1      detikcom  2022-12-20 06:58:29      14         0          1  \n",
       "2  Jankisnihbos  2022-12-20 06:56:47       1         0          1  \n",
       "3  Jankisnihbos  2022-12-20 06:55:58       0         0          0  \n",
       "4     rika gami  2022-12-20 06:55:37       0         0          0  "
      ]
     },
     "execution_count": 4,
     "metadata": {},
     "output_type": "execute_result"
    }
   ],
   "source": [
    "data_raw = pd.read_csv(\"Data Raw Piala Dunia 2022 Qatar.csv\")\n",
    "data_raw.drop(columns = 'Unnamed: 0', inplace = True)\n",
    "data_raw.head()"
   ]
  },
  {
   "cell_type": "code",
   "execution_count": 5,
   "id": "94b5b2ee-370d-4e0b-9c0c-349a1e9e1a5a",
   "metadata": {},
   "outputs": [
    {
     "name": "stdout",
     "output_type": "stream",
     "text": [
      "<class 'pandas.core.frame.DataFrame'>\n",
      "RangeIndex: 11003 entries, 0 to 11002\n",
      "Data columns (total 10 columns):\n",
      " #   Column     Non-Null Count  Dtype \n",
      "---  ------     --------------  ----- \n",
      " 0   id         11003 non-null  int64 \n",
      " 1   tweet      11003 non-null  object\n",
      " 2   username   11003 non-null  object\n",
      " 3   photos     11003 non-null  object\n",
      " 4   video      11003 non-null  int64 \n",
      " 5   name       11003 non-null  object\n",
      " 6   date       11003 non-null  object\n",
      " 7   nlikes     11003 non-null  int64 \n",
      " 8   nreplies   11003 non-null  int64 \n",
      " 9   nretweets  11003 non-null  int64 \n",
      "dtypes: int64(5), object(5)\n",
      "memory usage: 859.7+ KB\n",
      "None\n"
     ]
    }
   ],
   "source": [
    "print(data_raw.info())"
   ]
  },
  {
   "cell_type": "code",
   "execution_count": 6,
   "id": "8bfde215-5c45-4db9-ad3b-0cf397a16390",
   "metadata": {},
   "outputs": [
    {
     "name": "stdout",
     "output_type": "stream",
     "text": [
      "Jumlah data yang terduplikasi berdasarkan tweet dan username:\n",
      "62\n",
      "Duplicated data by tweet and username after removal :\n",
      "0\n"
     ]
    }
   ],
   "source": [
    "# Memcari dan menghilangkan data yang terduplikasi.\n",
    "print(\"Jumlah data yang terduplikasi berdasarkan tweet dan username:\")\n",
    "print(data_raw.duplicated(subset = ['tweet','username']).sum())\n",
    "data_raw.drop_duplicates(subset = ['tweet','username'], inplace = True)\n",
    "print(\"Duplicated data by tweet and username after removal :\")\n",
    "print(data_raw.duplicated(subset = ['tweet','username']).sum())"
   ]
  },
  {
   "cell_type": "code",
   "execution_count": 7,
   "id": "b09f484f-59dd-4beb-a1d5-a53e10c935dc",
   "metadata": {},
   "outputs": [],
   "source": [
    "# mengubah tipe data menjadi datetime.\n",
    "data_raw['date'] = pd.to_datetime(data_raw['date'],format='%Y-%m-%d %H:%M:%S', errors='coerce')"
   ]
  },
  {
   "cell_type": "code",
   "execution_count": 8,
   "id": "13a01609-6903-459d-8d52-223d187fea19",
   "metadata": {},
   "outputs": [
    {
     "name": "stdout",
     "output_type": "stream",
     "text": [
      "<class 'pandas.core.frame.DataFrame'>\n",
      "Int64Index: 10941 entries, 0 to 11002\n",
      "Data columns (total 10 columns):\n",
      " #   Column     Non-Null Count  Dtype         \n",
      "---  ------     --------------  -----         \n",
      " 0   id         10941 non-null  int64         \n",
      " 1   tweet      10941 non-null  object        \n",
      " 2   username   10941 non-null  object        \n",
      " 3   photos     10941 non-null  object        \n",
      " 4   video      10941 non-null  int64         \n",
      " 5   name       10941 non-null  object        \n",
      " 6   date       10941 non-null  datetime64[ns]\n",
      " 7   nlikes     10941 non-null  int64         \n",
      " 8   nreplies   10941 non-null  int64         \n",
      " 9   nretweets  10941 non-null  int64         \n",
      "dtypes: datetime64[ns](1), int64(5), object(4)\n",
      "memory usage: 940.2+ KB\n",
      "None\n"
     ]
    }
   ],
   "source": [
    "print(data_raw.info())"
   ]
  },
  {
   "cell_type": "code",
   "execution_count": 9,
   "id": "d8f758bf-a91b-4b0a-9f74-762fe99a305f",
   "metadata": {},
   "outputs": [],
   "source": [
    "# Membuat filter tweet dengan regex.\n",
    "emailPattern = re.compile(r'[\\w._%+-]+@[\\w\\.-]+\\.[a-zA-Z]{2,4}')\n",
    "urlPattern = re.compile(r'http[s]?://(?:[a-zA-Z]|[0-9]|[$-_@.&+]|[!*\\(\\),]|(?:%[0-9a-fA-F][0-9a-fA-F]))+')\n",
    "phonePattern = re.compile(r'(\\d{3}[-\\.\\s]??\\d{3}[-\\.\\s]??\\d{4}|\\(\\d{3}\\)\\s*\\d{3}[-\\.\\s]??\\d{4}|\\d{3}[-\\.\\s]??\\d{4})')\n",
    "numbers_pattern = re.compile(r'[0-9]')\n",
    "hastag_pattern = re.compile(r\"#(\\w+)\")\n",
    "hastag_pattern_split = re.compile(r'[A-Z][^A-Z]*')\n",
    "filter_laugh = re.compile(r\"\\b(?:a*(?:ha)+h?|(?:w+k+)+w+k|(?:w+k+)+w+k+k|(?:a+w+o+k+)+w+o+k|(?:l+o)+l)\\b\")"
   ]
  },
  {
   "cell_type": "code",
   "execution_count": 10,
   "id": "3a98debc-9fa0-4f91-ac09-84d2e0dcc33a",
   "metadata": {},
   "outputs": [
    {
     "name": "stdout",
     "output_type": "stream",
     "text": [
      "Count stop words :\n",
      "124\n",
      "Count new stop words :\n",
      "775\n",
      "Count of new slangs :\n",
      "17\n",
      "Original slangs :\n",
      "23\n",
      "New slangs :\n",
      "40\n"
     ]
    }
   ],
   "source": [
    "# Stop words & Slangs.\n",
    "\n",
    "Sastrawi_StopWords_id = StopWordRemoverFactory().get_stop_words()\n",
    "Sastrawi_StopWords_id = set(Sastrawi_StopWords_id)\n",
    "Sastrawi_StopWords_id.add('rt')\n",
    "print(\"Count stop words :\")\n",
    "print(len(Sastrawi_StopWords_id))\n",
    "\n",
    "# Menambahkan stop words baru dari internet.\n",
    "html = rq.urlopen('https://raw.githubusercontent.com/masdevid/ID-Stopwords/master/id.stopwords.02.01.2016.txt')\n",
    "raw = BeautifulSoup(html).text\n",
    "new_stopwords = raw.split('\\n')\n",
    "for kata in new_stopwords:\n",
    "    Sastrawi_StopWords_id.add(kata)\n",
    "print(\"Count new stop words :\")\n",
    "print(len(Sastrawi_StopWords_id))\n",
    "\n",
    "# kata-kata slang.\n",
    "SlangS = {'gan':'juragan', 'yg':'yang', 'dgn':'dengan', 'u': 'you', 'ndak':'tidak', 'sesok':'besok', 'gw' : 'saya', 'lo' : 'kamu', 'bokap' : 'ayah', 'nyokap': 'ibu', 'sokin' : 'sini', 'mager' : 'males',\n",
    "         'julid' : 'iri', 'ngga' : 'tidak', 'jd' : 'jadi', 'sabeb' : 'bebas', 'sabi' : 'bisa', 'cabs' : 'cabut', 'woles' : 'santai', 'rokum' : 'rumah', 'cabs' : 'pergi', 'saik' : 'asik', 'i' : 'saya', 'I' : 'saya'} \n",
    "\n",
    "add_slangwords = [\"blm\",\"udh\",\"lg\",\"ud\",\"spt\",\"min\",\"ntn\",\"bravo\",\"krn\",\"sm\",\"team\",\"suek\",\"mantul\",\"anjay\",\"anjas\",\"anjir\",\"nongki\"]\n",
    "baku_words = [\"belum\",\"sudah\",\"lagi\",\"sudah\",\"seperti\",\"admin\",\"tonton\",\"keren\",\"karena\",\"sama\",\"tim\",\"sialan\",\"mantap betul\",\"keren\",\"keren\",\"sialan\",\"nongkrong bareng\"]\n",
    "zipped_ = list(zip(add_slangwords,baku_words))\n",
    "print(\"Count of new slangs :\")\n",
    "print(len(zipped_))\n",
    "print(\"Original slangs :\")\n",
    "print(len(SlangS))\n",
    "\n",
    "# menambahkan beberapa kata slang baru.\n",
    "for val in zipped_:\n",
    "    SlangS[val[0]] = val[1]\n",
    "print(\"New slangs :\")\n",
    "print(len(SlangS))"
   ]
  },
  {
   "cell_type": "code",
   "execution_count": 11,
   "id": "42724533-19ba-4e4a-8ad7-407c7a5bb307",
   "metadata": {},
   "outputs": [],
   "source": [
    "# Menghilangkan huruf yang berulang di akhir kata. misal : Sayaaa -> saya.\n",
    "def remove_doublewords(word):\n",
    "    try :\n",
    "        int_converted = int(word)\n",
    "        return word\n",
    "    except :\n",
    "        if word[-2] == word[-1] :\n",
    "            for i in range(2, len(word)+1):\n",
    "                if word[-i] != word[-i+1]:\n",
    "                    word = word[:-i+2]\n",
    "                    break            \n",
    "            return word\n",
    "        else:\n",
    "            return word\n",
    "\n",
    "# Menghilangkan hastag.\n",
    "def remove_hastag(text):\n",
    "    tags = re.findall(hastag_pattern,text)\n",
    "    for tag in tags:\n",
    "        proper_words = ' '.join(re.findall(hastag_pattern_split,tag))\n",
    "        text = text.replace(\"#\" + tag, proper_words)\n",
    "    return text\n",
    "\n",
    "# Melakukan post tagging.\n",
    "def nlpfilter(tokens):\n",
    "    ct = CRFTagger()\n",
    "    ct.set_model_file('all_indo_man_tag_corpus_model.crf.tagger')\n",
    "    filters = set(['NN', 'NNP', 'NNS', 'NNPS', 'JJ'])\n",
    "    hasil_ = ct.tag_sents([tokens])\n",
    "    return ' '.join([k[0] for k in hasil_[0] if k[1] in filters])\n",
    "\n",
    "# Menghitung nilai coherence.\n",
    "def compute_coherence_values(id2word, corpus, texts, limit=1, start=2, step=1):\n",
    "    coherence_values = []\n",
    "    for num_topics in range(start, limit, step):\n",
    "        LDAmodel_ = LdaMulticore(corpus=corpus, id2word=id2word, num_topics=num_topics)\n",
    "        cm = CoherenceModel(model=LDAmodel_, texts=texts, corpus=corpus, coherence='c_v')\n",
    "        with np.errstate(invalid='ignore'):\n",
    "            coherence_values.append(cm.get_coherence())\n",
    "    return coherence_values\n",
    "\n",
    "# fungsi untuk membersihkan tweet.\n",
    "def cleanText(txt):\n",
    "    docx = re.sub(urlPattern,' ', txt) # remove links\n",
    "    docx = re.sub(emailPattern, ' ', docx) # remove email\n",
    "    docx = remove_hastag(docx) # remove hastag\n",
    "    docx = unidecode(unescape(docx.lower().strip())) # remove emoticon and etc\n",
    "    docx = re.sub(r'[^\\w]', ' ', docx) # remove symbol, keep \"_\"\n",
    "    docx = re.sub(filter_laugh,' ',docx) # rmeove laughing words\n",
    "    Tokens = TextBlob(docx).words # Tokenisasi\n",
    "    Tokens = [remove_doublewords(t) if len(t) > 2 else t for t in Tokens]# remove double words\n",
    "    Tokens = [SlangS[t] if (SlangS.get(t) != None) else t for t in Tokens] # convert slangs\n",
    "    Tokens = [t for t in Tokens if str(t) not in Sastrawi_StopWords_id and len(t)>2]# Stopwords filtering\n",
    "    docx= nlpfilter(Tokens)\n",
    "    docx = stemmer.stem(docx)\n",
    "    return docx # Silahkan latihan tambahkan penanganan Slang/Singkatan"
   ]
  },
  {
   "cell_type": "code",
   "execution_count": 13,
   "id": "3d095859-2c9c-43b0-b022-7f3b2bc6e12c",
   "metadata": {},
   "outputs": [
    {
     "name": "stdout",
     "output_type": "stream",
     "text": [
      "Before :\n",
      "Potret kepedulian personel Polwan RI #MelindungiMelayaniWarga saat menggelar trauma healing untuk anak-anak pengungsian di Cianjur, Jawa Barat.Sinergitas Untuk Negeri #Poldajabar.25  https://t.co/fx7C6ShJ8x wkwkwkwk gw juga turut perihatin cabs dulu ya, messiii, mengibaratkannya mengerjakan sejauh pertanyakan dong 😪 2022\n",
      " \n",
      "After :\n",
      "potret peduli personel polwan warga gelar trauma healing anak anak ungsi cianjur barat sinergitas negeri poldajabar perihatin messi\n"
     ]
    }
   ],
   "source": [
    "# melalukan tes pada suatu string.\n",
    "tweet_test = \"Potret kepedulian personel Polwan RI #MelindungiMelayaniWarga saat menggelar trauma healing untuk anak-anak pengungsian di Cianjur, Jawa Barat.\\\n",
    "Sinergitas Untuk Negeri #Poldajabar.25  https://t.co/fx7C6ShJ8x wkwkwkwk gw juga turut perihatin cabs dulu ya, messiii, mengibaratkannya mengerjakan sejauh pertanyakan dong \\U0001F62A 2022\"\n",
    "new_tweet_test = cleanText(tweet_test)\n",
    "print(\"Before :\")\n",
    "print(tweet_test)\n",
    "print(\" \")\n",
    "print(\"After :\")\n",
    "print(new_tweet_test)"
   ]
  },
  {
   "cell_type": "code",
   "execution_count": 14,
   "id": "eb14af5c-8396-43a0-b68e-26b8ec6d37d3",
   "metadata": {},
   "outputs": [],
   "source": [
    "# Membuat variabel baru yang berisikan tweet yang sudah dibersihkan.\n",
    "data_raw['clean tweets'] = data_raw.loc[:,'tweet'].apply(cleanText)"
   ]
  },
  {
   "cell_type": "code",
   "execution_count": 15,
   "id": "a8e57f37-0205-4318-9277-d2fbf58996d5",
   "metadata": {},
   "outputs": [
    {
     "name": "stdout",
     "output_type": "stream",
     "text": [
      "<class 'pandas.core.frame.DataFrame'>\n",
      "Int64Index: 10941 entries, 0 to 11002\n",
      "Data columns (total 11 columns):\n",
      " #   Column        Non-Null Count  Dtype         \n",
      "---  ------        --------------  -----         \n",
      " 0   id            10941 non-null  int64         \n",
      " 1   tweet         10941 non-null  object        \n",
      " 2   username      10941 non-null  object        \n",
      " 3   photos        10941 non-null  object        \n",
      " 4   video         10941 non-null  int64         \n",
      " 5   name          10941 non-null  object        \n",
      " 6   date          10941 non-null  datetime64[ns]\n",
      " 7   nlikes        10941 non-null  int64         \n",
      " 8   nreplies      10941 non-null  int64         \n",
      " 9   nretweets     10941 non-null  int64         \n",
      " 10  clean tweets  10941 non-null  object        \n",
      "dtypes: datetime64[ns](1), int64(5), object(5)\n",
      "memory usage: 1.0+ MB\n",
      "None\n"
     ]
    }
   ],
   "source": [
    "# Membuat copy\n",
    "data_clean = data_raw.copy()\n",
    "print(data_clean.info())"
   ]
  },
  {
   "cell_type": "markdown",
   "id": "23f877e6",
   "metadata": {},
   "source": [
    "## Exploratory Data Analysis."
   ]
  },
  {
   "cell_type": "code",
   "execution_count": 19,
   "id": "d292af81-c021-4fb2-b94d-eedbe037e031",
   "metadata": {},
   "outputs": [
    {
     "data": {
      "text/html": [
       "<div>\n",
       "<style scoped>\n",
       "    .dataframe tbody tr th:only-of-type {\n",
       "        vertical-align: middle;\n",
       "    }\n",
       "\n",
       "    .dataframe tbody tr th {\n",
       "        vertical-align: top;\n",
       "    }\n",
       "\n",
       "    .dataframe thead th {\n",
       "        text-align: right;\n",
       "    }\n",
       "</style>\n",
       "<table border=\"1\" class=\"dataframe\">\n",
       "  <thead>\n",
       "    <tr style=\"text-align: right;\">\n",
       "      <th></th>\n",
       "      <th>tweet</th>\n",
       "      <th>nretweets</th>\n",
       "      <th>nlikes</th>\n",
       "      <th>name</th>\n",
       "    </tr>\n",
       "  </thead>\n",
       "  <tbody>\n",
       "    <tr>\n",
       "      <th>0</th>\n",
       "      <td>Rekapan keseruan reaksi final piala dunia 2022...</td>\n",
       "      <td>3830</td>\n",
       "      <td>13741</td>\n",
       "      <td>Yono bakrie</td>\n",
       "    </tr>\n",
       "    <tr>\n",
       "      <th>1</th>\n",
       "      <td>Untuk keempat kalinya secara beruntun, EA Spor...</td>\n",
       "      <td>1350</td>\n",
       "      <td>8404</td>\n",
       "      <td>Extra Time Indonesia</td>\n",
       "    </tr>\n",
       "    <tr>\n",
       "      <th>2</th>\n",
       "      <td>• 64 Pertandingan • 172 Goal  • 3,404,252 keha...</td>\n",
       "      <td>1049</td>\n",
       "      <td>5746</td>\n",
       "      <td>Fakta Bola ⚽</td>\n",
       "    </tr>\n",
       "    <tr>\n",
       "      <th>3</th>\n",
       "      <td>Yuk tebak skor Argentina vs Prancis  Syaratnya...</td>\n",
       "      <td>1024</td>\n",
       "      <td>781</td>\n",
       "      <td>Info Suporter Indonesia</td>\n",
       "    </tr>\n",
       "    <tr>\n",
       "      <th>4</th>\n",
       "      <td>Usai sudah 64 pertandingan di Piala Dunia 2022...</td>\n",
       "      <td>629</td>\n",
       "      <td>3141</td>\n",
       "      <td>Extra Time Indonesia</td>\n",
       "    </tr>\n",
       "    <tr>\n",
       "      <th>5</th>\n",
       "      <td>2022: ARGENTINA JUARA PIALA DUNIA. ⭐️⭐️⭐️  (En...</td>\n",
       "      <td>622</td>\n",
       "      <td>3115</td>\n",
       "      <td>Extra Time Indonesia</td>\n",
       "    </tr>\n",
       "    <tr>\n",
       "      <th>6</th>\n",
       "      <td>\"Selamat anak-anakku Argentina, telah berhasil...</td>\n",
       "      <td>510</td>\n",
       "      <td>1398</td>\n",
       "      <td>Komisi Wasit</td>\n",
       "    </tr>\n",
       "    <tr>\n",
       "      <th>7</th>\n",
       "      <td>PEMAIN TERBAIK PIALA DUNIA 2022, 🐐🇦🇷  https://...</td>\n",
       "      <td>354</td>\n",
       "      <td>2308</td>\n",
       "      <td>Extra Time Indonesia</td>\n",
       "    </tr>\n",
       "    <tr>\n",
       "      <th>8</th>\n",
       "      <td>Untuk sampai kesini, Messi telah melalui keped...</td>\n",
       "      <td>343</td>\n",
       "      <td>1425</td>\n",
       "      <td>The Reds Indonesia</td>\n",
       "    </tr>\n",
       "    <tr>\n",
       "      <th>9</th>\n",
       "      <td>RASMI  PEMENANG ANUGERAH PIALA DUNIA FIFA QATA...</td>\n",
       "      <td>340</td>\n",
       "      <td>741</td>\n",
       "      <td>Irfan_newboys🇲🇾🇵🇸🏳️🏴</td>\n",
       "    </tr>\n",
       "  </tbody>\n",
       "</table>\n",
       "</div>"
      ],
      "text/plain": [
       "                                               tweet  nretweets  nlikes  \\\n",
       "0  Rekapan keseruan reaksi final piala dunia 2022...       3830   13741   \n",
       "1  Untuk keempat kalinya secara beruntun, EA Spor...       1350    8404   \n",
       "2  • 64 Pertandingan • 172 Goal  • 3,404,252 keha...       1049    5746   \n",
       "3  Yuk tebak skor Argentina vs Prancis  Syaratnya...       1024     781   \n",
       "4  Usai sudah 64 pertandingan di Piala Dunia 2022...        629    3141   \n",
       "5  2022: ARGENTINA JUARA PIALA DUNIA. ⭐️⭐️⭐️  (En...        622    3115   \n",
       "6  \"Selamat anak-anakku Argentina, telah berhasil...        510    1398   \n",
       "7  PEMAIN TERBAIK PIALA DUNIA 2022, 🐐🇦🇷  https://...        354    2308   \n",
       "8  Untuk sampai kesini, Messi telah melalui keped...        343    1425   \n",
       "9  RASMI  PEMENANG ANUGERAH PIALA DUNIA FIFA QATA...        340     741   \n",
       "\n",
       "                      name  \n",
       "0              Yono bakrie  \n",
       "1     Extra Time Indonesia  \n",
       "2             Fakta Bola ⚽  \n",
       "3  Info Suporter Indonesia  \n",
       "4     Extra Time Indonesia  \n",
       "5     Extra Time Indonesia  \n",
       "6             Komisi Wasit  \n",
       "7     Extra Time Indonesia  \n",
       "8       The Reds Indonesia  \n",
       "9     Irfan_newboys🇲🇾🇵🇸🏳️🏴  "
      ]
     },
     "execution_count": 19,
     "metadata": {},
     "output_type": "execute_result"
    }
   ],
   "source": [
    "# Melihat nama akun dan tweet yang menjadi top 10 berdasarkan retweets dan likes.\n",
    "grouped_1 = data_clean.groupby('tweet')[['nretweets','nlikes']].sum()\n",
    "top_10_2 = grouped_1.nlargest(10,['nretweets','nlikes']).reset_index()\n",
    "top_10_2\n",
    "name = [data_clean[data_clean['tweet'] == i]['name'].values[0] for i in top_10_2['tweet']]\n",
    "top_10_2['name'] = name\n",
    "top_10_2"
   ]
  },
  {
   "cell_type": "code",
   "execution_count": 20,
   "id": "27498395-18ec-4ac5-823b-cf40ca7065c5",
   "metadata": {},
   "outputs": [],
   "source": [
    "# membaut variabel baru berdasarkan status ada atau tidaknya video pada tweet.\n",
    "video_ = data_clean[data_clean[\"video\"] == 1]\n",
    "wvideo_ = data_clean[data_clean[\"video\"] == 0]\n",
    "\n",
    "# akan dilihat apakah terdapat perbedaan jumlah retweet dan like berdasarkan status ada atau tidaknya video pada tweet.\n",
    "video_likes = video_[\"nlikes\"].sum()\n",
    "video_retweet = video_[\"nretweets\"].sum()\n",
    "\n",
    "wvideo_likes = wvideo_[\"nlikes\"].sum()\n",
    "wvideo_retweet = wvideo_[\"nretweets\"].sum()"
   ]
  },
  {
   "cell_type": "code",
   "execution_count": 21,
   "id": "8a99fd1b-31bb-4f79-be99-232080e9dfb6",
   "metadata": {},
   "outputs": [
    {
     "data": {
      "image/png": "[encoded data removed]",
      "text/plain": [
       "<Figure size 800x700 with 1 Axes>"
      ]
     },
     "metadata": {},
     "output_type": "display_data"
    }
   ],
   "source": [
    "# Jumlah bar.\n",
    "N = 2\n",
    "\n",
    "# Mendefinisikan tinggi dari bar 1 dan 2\n",
    "bar_1 = (video_likes,video_retweet)\n",
    "bar_2 = (wvideo_likes,wvideo_retweet)\n",
    "\n",
    "ind = np.arange(N)\n",
    "plt.figure(figsize=(8,7))\n",
    "width = 0.3       \n",
    "\n",
    "# Plotting\n",
    "plt.bar(ind, bar_1, width, label='With video')\n",
    "plt.bar(ind + width, bar_2, width, label='Without Video')\n",
    "plt.xlabel('Likes vs Retweets')\n",
    "plt.ylabel('Count')\n",
    "plt.title('Count Likes vs Retweets based on with or without video')\n",
    "plt.xticks(ind + width / 2, ('Likes', 'Retweet'))\n",
    "plt.legend(loc='best')\n",
    "plt.show()"
   ]
  },
  {
   "cell_type": "code",
   "execution_count": 22,
   "id": "4e32655a-445d-470d-b562-831b713ba380",
   "metadata": {},
   "outputs": [],
   "source": [
    "# Akan dilihat top 5 data apabila di tweetnya terdapat video.\n",
    "grouped_2 = video_.groupby('tweet')[['nretweets','nlikes']].sum()\n",
    "top_5_2 = grouped_2.nlargest(5,['nretweets','nlikes']).reset_index()\n",
    "name_videos = [video_[video_['tweet'] == i]['name'].values[0] for i in top_5_2['tweet']]\n",
    "top_5_2['name'] = name_videos\n",
    "\n",
    "# Akan dilihat top 5 data apabila di tweetnya tidak terdapat video.\n",
    "grouped_3 = wvideo_.groupby('tweet')[['nretweets','nlikes']].sum()\n",
    "top_5_3 = grouped_3.nlargest(5,['nretweets','nlikes']).reset_index()\n",
    "name_wvideos = [wvideo_[wvideo_['tweet'] == i]['name'].values[0] for i in top_5_3['tweet']]\n",
    "top_5_3['name'] = name_wvideos"
   ]
  },
  {
   "cell_type": "code",
   "execution_count": 23,
   "id": "d0b3dbf9-5c71-4388-a3d3-99d5a4ee3ec5",
   "metadata": {},
   "outputs": [
    {
     "data": {
      "text/html": [
       "<div>\n",
       "<style scoped>\n",
       "    .dataframe tbody tr th:only-of-type {\n",
       "        vertical-align: middle;\n",
       "    }\n",
       "\n",
       "    .dataframe tbody tr th {\n",
       "        vertical-align: top;\n",
       "    }\n",
       "\n",
       "    .dataframe thead th {\n",
       "        text-align: right;\n",
       "    }\n",
       "</style>\n",
       "<table border=\"1\" class=\"dataframe\">\n",
       "  <thead>\n",
       "    <tr style=\"text-align: right;\">\n",
       "      <th></th>\n",
       "      <th>tweet</th>\n",
       "      <th>nretweets</th>\n",
       "      <th>nlikes</th>\n",
       "      <th>name</th>\n",
       "    </tr>\n",
       "  </thead>\n",
       "  <tbody>\n",
       "    <tr>\n",
       "      <th>0</th>\n",
       "      <td>Rekapan keseruan reaksi final piala dunia 2022...</td>\n",
       "      <td>3830</td>\n",
       "      <td>13741</td>\n",
       "      <td>Yono bakrie</td>\n",
       "    </tr>\n",
       "    <tr>\n",
       "      <th>1</th>\n",
       "      <td>Untuk keempat kalinya secara beruntun, EA Spor...</td>\n",
       "      <td>1350</td>\n",
       "      <td>8404</td>\n",
       "      <td>Extra Time Indonesia</td>\n",
       "    </tr>\n",
       "    <tr>\n",
       "      <th>2</th>\n",
       "      <td>• 64 Pertandingan • 172 Goal  • 3,404,252 keha...</td>\n",
       "      <td>1049</td>\n",
       "      <td>5746</td>\n",
       "      <td>Fakta Bola ⚽</td>\n",
       "    </tr>\n",
       "    <tr>\n",
       "      <th>3</th>\n",
       "      <td>Yuk tebak skor Argentina vs Prancis  Syaratnya...</td>\n",
       "      <td>1024</td>\n",
       "      <td>781</td>\n",
       "      <td>Info Suporter Indonesia</td>\n",
       "    </tr>\n",
       "    <tr>\n",
       "      <th>4</th>\n",
       "      <td>Usai sudah 64 pertandingan di Piala Dunia 2022...</td>\n",
       "      <td>629</td>\n",
       "      <td>3141</td>\n",
       "      <td>Extra Time Indonesia</td>\n",
       "    </tr>\n",
       "  </tbody>\n",
       "</table>\n",
       "</div>"
      ],
      "text/plain": [
       "                                               tweet  nretweets  nlikes  \\\n",
       "0  Rekapan keseruan reaksi final piala dunia 2022...       3830   13741   \n",
       "1  Untuk keempat kalinya secara beruntun, EA Spor...       1350    8404   \n",
       "2  • 64 Pertandingan • 172 Goal  • 3,404,252 keha...       1049    5746   \n",
       "3  Yuk tebak skor Argentina vs Prancis  Syaratnya...       1024     781   \n",
       "4  Usai sudah 64 pertandingan di Piala Dunia 2022...        629    3141   \n",
       "\n",
       "                      name  \n",
       "0              Yono bakrie  \n",
       "1     Extra Time Indonesia  \n",
       "2             Fakta Bola ⚽  \n",
       "3  Info Suporter Indonesia  \n",
       "4     Extra Time Indonesia  "
      ]
     },
     "execution_count": 23,
     "metadata": {},
     "output_type": "execute_result"
    }
   ],
   "source": [
    "# data dengan video.\n",
    "top_5_2"
   ]
  },
  {
   "cell_type": "code",
   "execution_count": 24,
   "id": "34761745-522d-442d-98cd-db389bc4194d",
   "metadata": {},
   "outputs": [
    {
     "data": {
      "text/html": [
       "<div>\n",
       "<style scoped>\n",
       "    .dataframe tbody tr th:only-of-type {\n",
       "        vertical-align: middle;\n",
       "    }\n",
       "\n",
       "    .dataframe tbody tr th {\n",
       "        vertical-align: top;\n",
       "    }\n",
       "\n",
       "    .dataframe thead th {\n",
       "        text-align: right;\n",
       "    }\n",
       "</style>\n",
       "<table border=\"1\" class=\"dataframe\">\n",
       "  <thead>\n",
       "    <tr style=\"text-align: right;\">\n",
       "      <th></th>\n",
       "      <th>tweet</th>\n",
       "      <th>nretweets</th>\n",
       "      <th>nlikes</th>\n",
       "      <th>name</th>\n",
       "    </tr>\n",
       "  </thead>\n",
       "  <tbody>\n",
       "    <tr>\n",
       "      <th>0</th>\n",
       "      <td>RASMI  PEMENANG ANUGERAH PIALA DUNIA FIFA QATA...</td>\n",
       "      <td>340</td>\n",
       "      <td>741</td>\n",
       "      <td>Irfan_newboys🇲🇾🇵🇸🏳️🏴</td>\n",
       "    </tr>\n",
       "    <tr>\n",
       "      <th>1</th>\n",
       "      <td>Piala Dunia 2022 Qatar akan jadi salah satu Pi...</td>\n",
       "      <td>306</td>\n",
       "      <td>682</td>\n",
       "      <td>Fakta Bola ⚽</td>\n",
       "    </tr>\n",
       "    <tr>\n",
       "      <th>2</th>\n",
       "      <td>BECAUSE IM SO HAPPYYYYYYY ARGENTINA FINALLY WO...</td>\n",
       "      <td>187</td>\n",
       "      <td>41</td>\n",
       "      <td>world cup champs!🇦🇷</td>\n",
       "    </tr>\n",
       "    <tr>\n",
       "      <th>3</th>\n",
       "      <td>Save termahal di Piala Dunia 2022, menit 120, ...</td>\n",
       "      <td>180</td>\n",
       "      <td>1220</td>\n",
       "      <td>Extra Time Indonesia</td>\n",
       "    </tr>\n",
       "    <tr>\n",
       "      <th>4</th>\n",
       "      <td>@nyktofilos @westenthu \"piala dunia ni bos sen...</td>\n",
       "      <td>104</td>\n",
       "      <td>3290</td>\n",
       "      <td>Nothing</td>\n",
       "    </tr>\n",
       "  </tbody>\n",
       "</table>\n",
       "</div>"
      ],
      "text/plain": [
       "                                               tweet  nretweets  nlikes  \\\n",
       "0  RASMI  PEMENANG ANUGERAH PIALA DUNIA FIFA QATA...        340     741   \n",
       "1  Piala Dunia 2022 Qatar akan jadi salah satu Pi...        306     682   \n",
       "2  BECAUSE IM SO HAPPYYYYYYY ARGENTINA FINALLY WO...        187      41   \n",
       "3  Save termahal di Piala Dunia 2022, menit 120, ...        180    1220   \n",
       "4  @nyktofilos @westenthu \"piala dunia ni bos sen...        104    3290   \n",
       "\n",
       "                   name  \n",
       "0  Irfan_newboys🇲🇾🇵🇸🏳️🏴  \n",
       "1          Fakta Bola ⚽  \n",
       "2   world cup champs!🇦🇷  \n",
       "3  Extra Time Indonesia  \n",
       "4               Nothing  "
      ]
     },
     "execution_count": 24,
     "metadata": {},
     "output_type": "execute_result"
    }
   ],
   "source": [
    "# data tanpa video.\n",
    "top_5_3"
   ]
  },
  {
   "cell_type": "code",
   "execution_count": 25,
   "id": "03318ec9-324c-433a-b8c5-c156db2e9fb3",
   "metadata": {},
   "outputs": [],
   "source": [
    "# membaut variabel baru berdasarkan status ada atau tidaknya gambar pada tweet.\n",
    "wphotos_ = data_clean[data_clean[\"photos\"] == '[]']\n",
    "photos_ = data_clean[data_clean[\"photos\"] != '[]']\n",
    "\n",
    "# akan dilihat apakah terdapat perbedaan jumlah retweet dan like berdasarkan status ada atau tidaknya gambar pada tweet.\n",
    "photos_likes = photos_[\"nlikes\"].sum()\n",
    "photos_retweet = photos_[\"nretweets\"].sum()\n",
    "wphotos_likes = wphotos_[\"nlikes\"].sum()\n",
    "wphotos_retweet = wphotos_[\"nretweets\"].sum()"
   ]
  },
  {
   "cell_type": "code",
   "execution_count": 27,
   "id": "6bafd3ae-59e4-4093-9ac3-7b05119d1f68",
   "metadata": {},
   "outputs": [
    {
     "data": {
      "image/png": "[encoded data removed]",
      "text/plain": [
       "<Figure size 800x700 with 1 Axes>"
      ]
     },
     "metadata": {},
     "output_type": "display_data"
    }
   ],
   "source": [
    "# Jumlah bar.\n",
    "N = 2\n",
    "\n",
    "# Mendefinisikan tinggi dari bar 1 dan 2\n",
    "bar_1 = (photos_likes,photos_retweet)\n",
    "bar_2 = (wphotos_likes,wphotos_retweet)\n",
    "\n",
    "ind = np.arange(N)\n",
    "plt.figure(figsize=(8,7))\n",
    "width = 0.3       \n",
    "\n",
    "# Plotting\n",
    "plt.bar(ind, bar_1, width, label='With photo')\n",
    "plt.bar(ind + width, bar_2, width, label='Without photo')\n",
    "plt.xlabel('Likes vs Retweets')\n",
    "plt.ylabel('Count')\n",
    "plt.title('Count Likes vs Retweets based on with or without photos')\n",
    "plt.xticks(ind + width / 2, ('Likes', 'Retweet'))\n",
    "plt.legend(loc='best')\n",
    "plt.show()"
   ]
  },
  {
   "cell_type": "code",
   "execution_count": 29,
   "id": "00a10048-340e-469e-8eb4-17bba536ce70",
   "metadata": {},
   "outputs": [],
   "source": [
    "# Akan dilihat top 5 data apabila di tweetnya terdapat gambar.\n",
    "grouped_4 = photos_.groupby('tweet')[['nretweets','nlikes']].sum()\n",
    "top_5_4 = grouped_4.nlargest(5,['nretweets','nlikes']).reset_index()\n",
    "name_photos = [photos_[photos_['tweet'] == i]['name'].values[0] for i in top_5_4['tweet']]\n",
    "top_5_4['name'] = name_photos\n",
    "\n",
    "# Akan dilihat top 5 data apabila di tweetnya tidak terdapat gambar.\n",
    "grouped_5 = wphotos_.groupby('tweet')[['nretweets','nlikes']].sum()\n",
    "top_5_5 = grouped_5.nlargest(5,['nretweets','nlikes']).reset_index()\n",
    "name_wphotos = [wphotos_[wphotos_['tweet'] == i]['name'].values[0] for i in top_5_5['tweet']]\n",
    "top_5_5['name'] = name_wphotos"
   ]
  },
  {
   "cell_type": "code",
   "execution_count": 30,
   "id": "89cb5f6c-031e-443e-9f0e-9dd444009841",
   "metadata": {},
   "outputs": [
    {
     "data": {
      "text/html": [
       "<div>\n",
       "<style scoped>\n",
       "    .dataframe tbody tr th:only-of-type {\n",
       "        vertical-align: middle;\n",
       "    }\n",
       "\n",
       "    .dataframe tbody tr th {\n",
       "        vertical-align: top;\n",
       "    }\n",
       "\n",
       "    .dataframe thead th {\n",
       "        text-align: right;\n",
       "    }\n",
       "</style>\n",
       "<table border=\"1\" class=\"dataframe\">\n",
       "  <thead>\n",
       "    <tr style=\"text-align: right;\">\n",
       "      <th></th>\n",
       "      <th>tweet</th>\n",
       "      <th>nretweets</th>\n",
       "      <th>nlikes</th>\n",
       "      <th>name</th>\n",
       "    </tr>\n",
       "  </thead>\n",
       "  <tbody>\n",
       "    <tr>\n",
       "      <th>0</th>\n",
       "      <td>Untuk keempat kalinya secara beruntun, EA Spor...</td>\n",
       "      <td>1350</td>\n",
       "      <td>8404</td>\n",
       "      <td>Extra Time Indonesia</td>\n",
       "    </tr>\n",
       "    <tr>\n",
       "      <th>1</th>\n",
       "      <td>• 64 Pertandingan • 172 Goal  • 3,404,252 keha...</td>\n",
       "      <td>1049</td>\n",
       "      <td>5746</td>\n",
       "      <td>Fakta Bola ⚽</td>\n",
       "    </tr>\n",
       "    <tr>\n",
       "      <th>2</th>\n",
       "      <td>Yuk tebak skor Argentina vs Prancis  Syaratnya...</td>\n",
       "      <td>1024</td>\n",
       "      <td>781</td>\n",
       "      <td>Info Suporter Indonesia</td>\n",
       "    </tr>\n",
       "    <tr>\n",
       "      <th>3</th>\n",
       "      <td>Usai sudah 64 pertandingan di Piala Dunia 2022...</td>\n",
       "      <td>629</td>\n",
       "      <td>3141</td>\n",
       "      <td>Extra Time Indonesia</td>\n",
       "    </tr>\n",
       "    <tr>\n",
       "      <th>4</th>\n",
       "      <td>2022: ARGENTINA JUARA PIALA DUNIA. ⭐️⭐️⭐️  (En...</td>\n",
       "      <td>622</td>\n",
       "      <td>3115</td>\n",
       "      <td>Extra Time Indonesia</td>\n",
       "    </tr>\n",
       "  </tbody>\n",
       "</table>\n",
       "</div>"
      ],
      "text/plain": [
       "                                               tweet  nretweets  nlikes  \\\n",
       "0  Untuk keempat kalinya secara beruntun, EA Spor...       1350    8404   \n",
       "1  • 64 Pertandingan • 172 Goal  • 3,404,252 keha...       1049    5746   \n",
       "2  Yuk tebak skor Argentina vs Prancis  Syaratnya...       1024     781   \n",
       "3  Usai sudah 64 pertandingan di Piala Dunia 2022...        629    3141   \n",
       "4  2022: ARGENTINA JUARA PIALA DUNIA. ⭐️⭐️⭐️  (En...        622    3115   \n",
       "\n",
       "                      name  \n",
       "0     Extra Time Indonesia  \n",
       "1             Fakta Bola ⚽  \n",
       "2  Info Suporter Indonesia  \n",
       "3     Extra Time Indonesia  \n",
       "4     Extra Time Indonesia  "
      ]
     },
     "execution_count": 30,
     "metadata": {},
     "output_type": "execute_result"
    }
   ],
   "source": [
    "# data dengan gambar.\n",
    "top_5_4"
   ]
  },
  {
   "cell_type": "code",
   "execution_count": 32,
   "id": "2479d0f7-e415-4022-a899-6851cfc46661",
   "metadata": {},
   "outputs": [
    {
     "data": {
      "text/html": [
       "<div>\n",
       "<style scoped>\n",
       "    .dataframe tbody tr th:only-of-type {\n",
       "        vertical-align: middle;\n",
       "    }\n",
       "\n",
       "    .dataframe tbody tr th {\n",
       "        vertical-align: top;\n",
       "    }\n",
       "\n",
       "    .dataframe thead th {\n",
       "        text-align: right;\n",
       "    }\n",
       "</style>\n",
       "<table border=\"1\" class=\"dataframe\">\n",
       "  <thead>\n",
       "    <tr style=\"text-align: right;\">\n",
       "      <th></th>\n",
       "      <th>tweet</th>\n",
       "      <th>nretweets</th>\n",
       "      <th>nlikes</th>\n",
       "      <th>name</th>\n",
       "    </tr>\n",
       "  </thead>\n",
       "  <tbody>\n",
       "    <tr>\n",
       "      <th>0</th>\n",
       "      <td>Rekapan keseruan reaksi final piala dunia 2022...</td>\n",
       "      <td>3830</td>\n",
       "      <td>13741</td>\n",
       "      <td>Yono bakrie</td>\n",
       "    </tr>\n",
       "    <tr>\n",
       "      <th>1</th>\n",
       "      <td>RASMI  PEMENANG ANUGERAH PIALA DUNIA FIFA QATA...</td>\n",
       "      <td>340</td>\n",
       "      <td>741</td>\n",
       "      <td>Irfan_newboys🇲🇾🇵🇸🏳️🏴</td>\n",
       "    </tr>\n",
       "    <tr>\n",
       "      <th>2</th>\n",
       "      <td>Piala Dunia 2022 Qatar akan jadi salah satu Pi...</td>\n",
       "      <td>306</td>\n",
       "      <td>682</td>\n",
       "      <td>Fakta Bola ⚽</td>\n",
       "    </tr>\n",
       "    <tr>\n",
       "      <th>3</th>\n",
       "      <td>\"Sssttt minute of silence for Mbappe..\"  - Emi...</td>\n",
       "      <td>198</td>\n",
       "      <td>1352</td>\n",
       "      <td>Extra Time Indonesia</td>\n",
       "    </tr>\n",
       "    <tr>\n",
       "      <th>4</th>\n",
       "      <td>BECAUSE IM SO HAPPYYYYYYY ARGENTINA FINALLY WO...</td>\n",
       "      <td>187</td>\n",
       "      <td>41</td>\n",
       "      <td>world cup champs!🇦🇷</td>\n",
       "    </tr>\n",
       "  </tbody>\n",
       "</table>\n",
       "</div>"
      ],
      "text/plain": [
       "                                               tweet  nretweets  nlikes  \\\n",
       "0  Rekapan keseruan reaksi final piala dunia 2022...       3830   13741   \n",
       "1  RASMI  PEMENANG ANUGERAH PIALA DUNIA FIFA QATA...        340     741   \n",
       "2  Piala Dunia 2022 Qatar akan jadi salah satu Pi...        306     682   \n",
       "3  \"Sssttt minute of silence for Mbappe..\"  - Emi...        198    1352   \n",
       "4  BECAUSE IM SO HAPPYYYYYYY ARGENTINA FINALLY WO...        187      41   \n",
       "\n",
       "                   name  \n",
       "0           Yono bakrie  \n",
       "1  Irfan_newboys🇲🇾🇵🇸🏳️🏴  \n",
       "2          Fakta Bola ⚽  \n",
       "3  Extra Time Indonesia  \n",
       "4   world cup champs!🇦🇷  "
      ]
     },
     "execution_count": 32,
     "metadata": {},
     "output_type": "execute_result"
    }
   ],
   "source": [
    "# data tanpa gambar.\n",
    "top_5_5"
   ]
  },
  {
   "cell_type": "markdown",
   "id": "4d97798c",
   "metadata": {},
   "source": [
    "## Analisi Topic Modelling."
   ]
  },
  {
   "cell_type": "code",
   "execution_count": 54,
   "id": "e2f8106e",
   "metadata": {},
   "outputs": [
    {
     "name": "stdout",
     "output_type": "stream",
     "text": [
      "True\n"
     ]
    }
   ],
   "source": [
    "# Melakukan tokenisasi untuk topic modelling.\n",
    "data_token = [tweet.split() for tweet in data_clean['clean tweets']]\n",
    "print(data_clean['clean tweets'].shape[0] == len(data_token))"
   ]
  },
  {
   "cell_type": "code",
   "execution_count": 55,
   "id": "a94324fd",
   "metadata": {},
   "outputs": [
    {
     "name": "stdout",
     "output_type": "stream",
     "text": [
      "Banyaknya token yang unik: 3141\n",
      "Banyaknya dokumen : 10709\n",
      "[[(0, 1), (1, 1), (2, 3), (3, 1), (4, 1), (5, 1)]]\n"
     ]
    }
   ],
   "source": [
    "# membuat corpus dan menambahkan frasa\n",
    "bigram_t = Phrases(data_token, min_count=2)\n",
    "trigram_t = Phrases(bigram_t[data_token], min_count=5)\n",
    "for idx, d in enumerate(data_token):\n",
    "    for token in bigram_t[d]:\n",
    "        if '_' in token:# Token is a bigram, add to document.\n",
    "            data_token[idx].append(token)\n",
    "    for token in trigram_t[d]:\n",
    "        if '_' in token:# Token is a bigram, add to document.\n",
    "            data_token[idx].append(token)\n",
    "dictionary_t = Dictionary(data_token)\n",
    "dictionary_t.filter_extremes(no_below=3, no_above=0.75)\n",
    "corpus_t = [dictionary_t.doc2bow(doc) for doc in data_token]\n",
    "corpus_t = [t for t in corpus_t if t] # remove empty corpus\n",
    "print('Banyaknya token yang unik: %d' % len(dictionary_t))\n",
    "print('Banyaknya dokumen : %d' % len(corpus_t))\n",
    "print(corpus_t[:1])"
   ]
  },
  {
   "cell_type": "code",
   "execution_count": 56,
   "id": "9643badf-7502-44db-8c1d-b7a0cee46524",
   "metadata": {},
   "outputs": [
    {
     "data": {
      "text/plain": [
       "<gensim.corpora.dictionary.Dictionary at 0x25a07153d60>"
      ]
     },
     "execution_count": 56,
     "metadata": {},
     "output_type": "execute_result"
    }
   ],
   "source": [
    "id2word = Dictionary(data_token)\n",
    "id2word"
   ]
  },
  {
   "cell_type": "code",
   "execution_count": 57,
   "id": "107ac2f5-a4f2-40a0-a2b7-a30dddd75603",
   "metadata": {},
   "outputs": [],
   "source": [
    "# Membuat model dengan menggunakan metode LDA.\n",
    "num_topics = 3\n",
    "chunksize = 50\n",
    "random_state = 32\n",
    "lda_model = gensim.models.ldamodel.LdaModel(corpus = corpus_t, id2word = id2word, num_topics = num_topics,\n",
    "                                            random_state= random_state,chunksize = chunksize ,alpha = 'auto')"
   ]
  },
  {
   "cell_type": "code",
   "execution_count": 58,
   "id": "89c07b73-1828-4a0a-a371-0e49e9855ae4",
   "metadata": {},
   "outputs": [
    {
     "data": {
      "text/html": [
       "\n",
       "<link rel=\"stylesheet\" type=\"text/css\" href=\"https://cdn.jsdelivr.net/gh/bmabey/pyLDAvis@3.3.1/pyLDAvis/js/ldavis.v1.0.0.css\">\n",
       "\n",
       "\n",
       "<div id=\"ldavis_el4453625857045900005556893925\"></div>\n",
       "<script type=\"text/javascript\">\n",
       "\n",
       "var ldavis_el4453625857045900005556893925_data = {\"mdsDat\": {\"x\": [-0.07644920190502792, 0.2753728527737583, -0.19892365086873035], \"y\": [0.2844967773443138, -0.04486378368277128, -0.23963299366154256], \"topics\": [1, 2, 3], \"cluster\": [1, 1, 1], \"Freq\": [43.54587535841082, 40.298027168328346, 16.156097473260843]}, \"tinfo\": {\"Term\": [\"sosial\", \"pentas\", \"gagal\", \"media_sosial\", \"nanti\", \"bandara\", \"banjir_kecam\", \"postingan\", \"populer\", \"inflasi\", \"sujandi\", \"kecam\", \"trafik\", \"temen\", \"mahdi\", \"krisis_ekonomi\", \"vibe\", \"kylian\", \"ekspresi\", \"umur\", \"penuh_warna\", \"rumah\", \"berita\", \"gol\", \"komen\", \"dunia\", \"unggah\", \"upacara\", \"tradisi_main\", \"luis\", \"sosial\", \"pentas\", \"inflasi\", \"kylian\", \"berita\", \"dunia\", \"ronaldo\", \"nasional\", \"messi\", \"juara\", \"kylian_mbappe\", \"prestasi\", \"order\", \"tetep\", \"tenis\", \"lawan\", \"deran\", \"gelar\", \"lusail\", \"subur_sejarah\", \"paul\", \"argentina\", \"cuit\", \"loh\", \"mampang\", \"twitter\", \"mahdi\", \"tangis\", \"juta\", \"pesan_aguero\", \"penuh\", \"banjir_kecam\", \"ajang_prestisius\", \"sedia_bonus\", \"unggah\", \"kumpul\", \"soerya\", \"postingan\", \"sara\", \"hebat\", \"sensasi\", \"media_sosial\", \"populer\", \"nanti\", \"trafik\", \"kecam\", \"umur\", \"penuh_warna\", \"sujandi\", \"luis\", \"pesta\", \"boot\", \"emiliano\", \"naksir\", \"tempo\", \"tempo_bola\", \"hijab\", \"tradisi_main\", \"iniesta\", \"legenda\", \"dana_kompensasi\", \"keluarga_rumah\", \"main\", \"istana\", \"ervanda\", \"baik\", \"rekor\", \"desember\", \"kodam\", \"eks\", \"atas\", \"banget_profit\", \"nonton_bareng\", \"gagal\", \"sctv\", \"postingan\", \"sensasi\", \"final\", \"sara\", \"bandara\", \"krisis_ekonomi\", \"rumah\", \"gol\", \"upacara\", \"montiel\", \"tim_nasional\", \"geng\", \"tim_tango\", \"gonzalo_montiel\", \"vibe\", \"kreativitas\", \"surga\", \"duniaargentina\", \"detikers_tahu\", \"sorban\", \"reaksi\", \"nama\", \"bangku_tonton\", \"penalti\", \"bangku\", \"nilai\", \"video\", \"inget\", \"eksklusif\", \"saksi\", \"jimat\", \"coman\", \"maju\", \"komen\", \"temen\", \"daftar_artis\", \"hubung\", \"ekspresi\", \"nominasi\", \"yasonna_faisol\", \"keluarga\", \"bernabeu\", \"witkatspc\", \"darat\"], \"Freq\": [4543.0, 3436.0, 2501.0, 1656.0, 1536.0, 670.0, 1359.0, 3850.0, 875.0, 896.0, 784.0, 759.0, 681.0, 317.0, 700.0, 285.0, 273.0, 603.0, 315.0, 495.0, 474.0, 231.0, 499.0, 223.0, 222.0, 484.0, 597.0, 211.0, 430.0, 420.0, 4542.388014071086, 3435.4722655366936, 896.122545002633, 602.372748957561, 499.07887478173456, 483.70235137843486, 447.4491423220424, 452.1793838906217, 433.0355353663738, 319.155260869404, 314.3797553893534, 300.30960780989705, 337.32750922199756, 215.0627916319952, 205.0043798225589, 235.0345970596791, 183.94703652759856, 167.18817280634354, 157.13289075577396, 192.96445073756118, 207.17330271719763, 194.99018264127443, 165.02608834437314, 154.90115559070017, 138.92987850171875, 189.70094442978842, 696.4269236795209, 138.80063574250565, 114.5529193780311, 104.11526401296992, 333.289830826458, 1322.6714108879862, 163.43043596400435, 194.07178837035437, 574.0404349511838, 334.47631698550504, 225.38211316614755, 2642.0013247718157, 519.1889323323057, 377.60490071951006, 214.51810504263517, 1655.6758274297238, 874.8413883071065, 1535.2630789429688, 681.2607823405522, 758.7454733640675, 495.1044175391885, 473.9436828276036, 783.491359026544, 420.16548102475383, 331.3699789440703, 382.1989829117849, 258.57007222450085, 245.41045006518684, 257.1913869435407, 230.61992776446746, 220.06725130672854, 429.63452926761204, 254.9809869561711, 173.57562304228955, 204.2947568570178, 178.0515871700435, 170.13820152575357, 258.9469630932923, 159.60903052198512, 137.7448063689194, 193.72830191735747, 128.45934007443242, 396.5663735574832, 144.07115532579442, 113.09965597463395, 440.8153571733367, 187.1977535145581, 2380.9390874714136, 185.22384785965772, 1208.1840842399577, 335.5547533560775, 222.5686735920815, 249.21920418077195, 669.9989887984598, 285.049361941892, 231.2615026351861, 223.27381849057193, 211.03240898903053, 177.02349398664978, 162.5931824667924, 128.1324401138218, 112.88018620733224, 111.623699960332, 271.751612366136, 110.84262044300863, 83.56735994306555, 82.9066406380361, 78.44956075557528, 76.27833823754828, 87.85226270274234, 68.8231802407808, 68.8231802407808, 68.52300460983007, 91.61068685814129, 72.85699248173668, 71.09589544061105, 116.48777079933163, 62.56926173061922, 59.95299101739034, 64.40670817029734, 64.18101599215865, 48.933715567526846, 219.1830613443572, 309.53489260712996, 71.99334822141601, 98.34653619603627, 260.26211187764466, 86.99956577156797, 148.1019256687938, 118.82122320421696, 70.85963180728818, 80.99398584576187, 71.7641859211629], \"Total\": [4543.0, 3436.0, 2501.0, 1656.0, 1536.0, 670.0, 1359.0, 3850.0, 875.0, 896.0, 784.0, 759.0, 681.0, 317.0, 700.0, 285.0, 273.0, 603.0, 315.0, 495.0, 474.0, 231.0, 499.0, 223.0, 222.0, 484.0, 597.0, 211.0, 430.0, 420.0, 4543.151943872482, 3436.1763241281783, 896.8248593690213, 603.0815053540357, 499.7627245093088, 484.4672984311586, 448.25976863924546, 453.05598297138187, 433.9185070747985, 319.82170856239276, 315.1227499467045, 301.0923635600483, 338.2210712812145, 215.74399723802563, 205.67893488718906, 235.8728024075179, 184.6042630586446, 167.87765383835585, 157.7977717385901, 193.81738593787364, 208.11664944219012, 195.9039013388708, 165.79946419548838, 155.67565808964073, 139.6303286097323, 190.69621466140356, 700.169245911807, 139.55058359551902, 115.20404376353729, 104.75454617221227, 336.9859223174074, 1359.4810632532394, 164.5161139754537, 196.33779606804208, 597.0779361938196, 342.4347689510061, 228.72556906467, 3850.531549550103, 768.746524310094, 536.0417504196474, 550.4164262087693, 1656.5554659791703, 875.549947136678, 1536.6345552898895, 681.9108603470146, 759.5244986212459, 495.6917077146997, 474.6712362428883, 784.7803585857508, 420.95864370181823, 332.0323780654798, 383.0771573391418, 259.1812778165231, 245.9980810941687, 257.8095782403097, 231.29504922164116, 220.73896027200635, 430.9988241214865, 255.8397417801909, 174.19916585573372, 205.0287326142999, 178.73205400175323, 170.79880204466022, 259.95499165134436, 160.23993167659094, 138.38150739123728, 194.63598416263287, 129.0772472583795, 398.5651420615592, 144.81054546759722, 113.68947923975888, 445.7261162573915, 188.29980023069464, 2501.7440538624874, 200.38033875385347, 3850.531549550103, 550.4164262087693, 306.1516275321074, 768.746524310094, 670.9752315307322, 285.7350153308594, 231.94320602051053, 223.94354016811624, 211.87109865471277, 177.76466688045323, 163.32440468725355, 128.78844814622983, 113.54381961782278, 112.29383929113892, 273.49460461134765, 111.68786551129821, 84.22556084134266, 83.60045171718821, 79.12320769215093, 76.9834531306543, 88.67002083148452, 69.48006723332054, 69.48006723332054, 69.18010031107534, 92.50605031838306, 73.59008555606579, 71.84685919619173, 117.75616496322418, 63.28416213346598, 60.65569505433441, 65.1922006759891, 65.01271454079478, 49.60028460130397, 222.26154812995293, 317.7562013785039, 73.07664939208364, 102.25912698500277, 315.0689989817419, 91.72464969280867, 171.16179918204693, 135.51769264661334, 72.69516879875182, 101.90821406305649, 76.23873136823212], \"Category\": [\"Default\", \"Default\", \"Default\", \"Default\", \"Default\", \"Default\", \"Default\", \"Default\", \"Default\", \"Default\", \"Default\", \"Default\", \"Default\", \"Default\", \"Default\", \"Default\", \"Default\", \"Default\", \"Default\", \"Default\", \"Default\", \"Default\", \"Default\", \"Default\", \"Default\", \"Default\", \"Default\", \"Default\", \"Default\", \"Default\", \"Topic1\", \"Topic1\", \"Topic1\", \"Topic1\", \"Topic1\", \"Topic1\", \"Topic1\", \"Topic1\", \"Topic1\", \"Topic1\", \"Topic1\", \"Topic1\", \"Topic1\", \"Topic1\", \"Topic1\", \"Topic1\", \"Topic1\", \"Topic1\", \"Topic1\", \"Topic1\", \"Topic1\", \"Topic1\", \"Topic1\", \"Topic1\", \"Topic1\", \"Topic1\", \"Topic1\", \"Topic1\", \"Topic1\", \"Topic1\", \"Topic1\", \"Topic1\", \"Topic1\", \"Topic1\", \"Topic1\", \"Topic1\", \"Topic1\", \"Topic1\", \"Topic1\", \"Topic1\", \"Topic1\", \"Topic2\", \"Topic2\", \"Topic2\", \"Topic2\", \"Topic2\", \"Topic2\", \"Topic2\", \"Topic2\", \"Topic2\", \"Topic2\", \"Topic2\", \"Topic2\", \"Topic2\", \"Topic2\", \"Topic2\", \"Topic2\", \"Topic2\", \"Topic2\", \"Topic2\", \"Topic2\", \"Topic2\", \"Topic2\", \"Topic2\", \"Topic2\", \"Topic2\", \"Topic2\", \"Topic2\", \"Topic2\", \"Topic2\", \"Topic2\", \"Topic2\", \"Topic2\", \"Topic2\", \"Topic2\", \"Topic2\", \"Topic2\", \"Topic2\", \"Topic2\", \"Topic3\", \"Topic3\", \"Topic3\", \"Topic3\", \"Topic3\", \"Topic3\", \"Topic3\", \"Topic3\", \"Topic3\", \"Topic3\", \"Topic3\", \"Topic3\", \"Topic3\", \"Topic3\", \"Topic3\", \"Topic3\", \"Topic3\", \"Topic3\", \"Topic3\", \"Topic3\", \"Topic3\", \"Topic3\", \"Topic3\", \"Topic3\", \"Topic3\", \"Topic3\", \"Topic3\", \"Topic3\", \"Topic3\", \"Topic3\", \"Topic3\", \"Topic3\", \"Topic3\", \"Topic3\", \"Topic3\", \"Topic3\", \"Topic3\", \"Topic3\", \"Topic3\", \"Topic3\"], \"logprob\": [30.0, 29.0, 28.0, 27.0, 26.0, 25.0, 24.0, 23.0, 22.0, 21.0, 20.0, 19.0, 18.0, 17.0, 16.0, 15.0, 14.0, 13.0, 12.0, 11.0, 10.0, 9.0, 8.0, 7.0, 6.0, 5.0, 4.0, 3.0, 2.0, 1.0, -2.1463, -2.4256, -3.7694, -4.1666, -4.3547, -4.386, -4.4639, -4.4534, -4.4967, -4.8018, -4.8169, -4.8627, -4.7464, -5.1965, -5.2444, -5.1077, -5.3528, -5.4484, -5.5104, -5.305, -5.2339, -5.2945, -5.4614, -5.5247, -5.6335, -5.322, -4.0215, -5.6344, -5.8264, -5.922, -4.7585, -3.3801, -5.4711, -5.2992, -4.2148, -4.7549, -5.1497, -2.6882, -4.3152, -4.6336, -5.1991, -3.078, -3.7159, -3.1535, -3.966, -3.8583, -4.2852, -4.3289, -3.8262, -4.4493, -4.6867, -4.544, -4.9348, -4.987, -4.9401, -5.0492, -5.096, -4.427, -4.9488, -5.3333, -5.1704, -5.3079, -5.3533, -4.9333, -5.4172, -5.5646, -5.2235, -5.6343, -4.5071, -5.5197, -5.7617, -4.4013, -5.2578, -2.7147, -5.2684, -3.3931, -4.6742, -5.0847, -4.9716, -3.0687, -3.9233, -4.1324, -4.1676, -4.2239, -4.3997, -4.4847, -4.7229, -4.8496, -4.8608, -3.9711, -4.8678, -5.1503, -5.1582, -5.2135, -5.2416, -5.1003, -5.3444, -5.3444, -5.3488, -5.0584, -5.2875, -5.3119, -4.8182, -5.4397, -5.4824, -5.4107, -5.4142, -5.6855, -4.186, -3.8409, -5.2994, -4.9875, -4.0143, -5.1101, -4.5781, -4.7983, -5.3153, -5.1816, -5.3026], \"loglift\": [30.0, 29.0, 28.0, 27.0, 26.0, 25.0, 24.0, 23.0, 22.0, 21.0, 20.0, 19.0, 18.0, 17.0, 16.0, 15.0, 14.0, 13.0, 12.0, 11.0, 10.0, 9.0, 8.0, 7.0, 6.0, 5.0, 4.0, 3.0, 2.0, 1.0, 0.8312, 0.8312, 0.8306, 0.8302, 0.83, 0.8298, 0.8295, 0.8294, 0.8293, 0.8293, 0.829, 0.8288, 0.8287, 0.8282, 0.8281, 0.8278, 0.8278, 0.8272, 0.8271, 0.8269, 0.8268, 0.8267, 0.8267, 0.8264, 0.8263, 0.8261, 0.826, 0.826, 0.8257, 0.8252, 0.8203, 0.8039, 0.8247, 0.8197, 0.792, 0.8078, 0.8166, 0.4547, 0.4389, 0.481, -0.1109, 0.9083, 0.9081, 0.908, 0.9079, 0.9078, 0.9077, 0.9073, 0.9072, 0.907, 0.9069, 0.9066, 0.9065, 0.9065, 0.9065, 0.9059, 0.9058, 0.9057, 0.9055, 0.9053, 0.9053, 0.9051, 0.905, 0.905, 0.9049, 0.9043, 0.9042, 0.9041, 0.9038, 0.9037, 0.9037, 0.8978, 0.903, 0.8594, 0.8302, -0.2502, 0.414, 0.59, -0.2176, 1.8214, 1.8205, 1.8199, 1.8199, 1.8189, 1.8187, 1.8184, 1.8178, 1.817, 1.8169, 1.8165, 1.8153, 1.815, 1.8145, 1.8143, 1.8137, 1.8136, 1.8134, 1.8134, 1.8133, 1.8131, 1.8129, 1.8124, 1.812, 1.8115, 1.8112, 1.8108, 1.81, 1.8093, 1.8089, 1.7967, 1.8079, 1.7839, 1.6318, 1.77, 1.6782, 1.6914, 1.7973, 1.5932, 1.7624]}, \"token.table\": {\"Topic\": [1, 2, 1, 2, 2, 1, 3, 1, 2, 3, 3, 3, 1, 2, 1, 1, 2, 3, 1, 2, 3, 1, 2, 3, 2, 1, 2, 3, 1, 2, 3, 1, 3, 2, 3, 1, 2, 3, 2, 2, 1, 2, 1, 2, 3, 1, 3, 3, 3, 1, 2, 2, 1, 2, 3, 1, 2, 3, 2, 1, 2, 3, 1, 1, 2, 1, 2, 3, 2, 1, 2, 1, 2, 3, 2, 3, 3, 1, 3, 1, 1, 1, 2, 2, 1, 2, 1, 1, 2, 2, 3, 1, 1, 2, 1, 2, 3, 2, 3, 1, 2, 1, 2, 3, 1, 2, 3, 2, 3, 1, 2, 1, 2, 3, 1, 1, 2, 3, 2, 1, 2, 2, 1, 2, 1, 3, 2, 1, 3, 3, 1, 2, 1, 2, 3, 1, 2, 1, 2, 1, 2, 3, 1, 1, 1, 2, 3, 1, 1, 2, 3, 2, 2, 1, 1, 3, 3, 2, 3, 2, 1, 2, 2, 1, 2, 3, 1, 2, 3, 3, 1, 2, 3, 1, 2, 3], \"Freq\": [0.9907844044038148, 0.006078431928857759, 0.9953859962323708, 0.9939354173810151, 0.9972430753326117, 0.001490367979334566, 0.9985465461541593, 0.008974120775301705, 0.989396815477013, 0.0022435301938254263, 0.9945295435634603, 0.9930905761546196, 0.9731654494944267, 0.02648069250324971, 0.9984738267343615, 0.013756072329488422, 0.013756072329488422, 0.976681135393678, 0.002610440170711329, 0.9971881452117277, 0.9844228233208243, 0.995178125578586, 0.01368426177607877, 0.9852668478776714, 0.9949824953742695, 0.026233385106318532, 0.039350077659477796, 0.9444018638274672, 0.9967267112436475, 0.9916542436311558, 0.9858043205664632, 0.9990354386505098, 0.9928176020002921, 0.9944027179444704, 0.9955097432930109, 0.17139102918573487, 0.0031739079478839793, 0.8252160664498346, 0.9993005751879523, 0.9985026723733558, 0.27110749228760983, 0.7283972383149034, 0.04796653750999422, 0.9517360484274686, 0.0003997211459166185, 0.994772062759461, 0.9938779591059704, 0.9957867051337675, 0.9973832999833847, 0.7051689531721692, 0.2947531603206422, 0.9966523341819868, 0.009779078205377786, 0.02933723461613336, 0.958349664127023, 0.9990802447541411, 0.00849212438526938, 0.9850864286912482, 0.9967177039253253, 0.0038468197654046798, 0.9963263192398121, 0.9817125259827562, 0.9974307292457214, 0.9982288489459963, 0.9993094381784945, 0.09592843374259499, 0.02951644115156769, 0.8781141242591387, 0.9959041817885333, 0.005018000293891973, 0.9960730583375567, 0.004499203791270793, 0.008998407582541586, 0.9853256302883037, 0.008953524139995684, 0.993841179539521, 0.9974276329766293, 0.9753682461134286, 0.023362113679363562, 0.9982067011764839, 0.9964371028531123, 0.9962996903474698, 0.004239573150414765, 0.9988566773281873, 0.9956598346977812, 0.9977227128693971, 0.9949443409130536, 0.9940453741203992, 0.004284678336725858, 0.9953231402381186, 0.9878975573198991, 0.9954857328203097, 0.0006036622500949051, 0.9996646861571629, 0.9978832267814745, 0.0023045802004191098, 0.9956984315619511, 0.995942728131336, 0.9930905761546196, 0.0006507728181417526, 0.9989362758475901, 0.9976691998095772, 0.0022072327429415424, 0.9919814530502724, 0.021804389623706597, 0.021804389623706597, 0.9484909486312371, 0.9930971767941219, 0.005310680089808138, 0.9963897243995208, 0.002956646066467421, 0.9946345021160823, 0.004804997594763682, 0.9973966457078626, 0.999657664794464, 0.9881718432331038, 0.005934966025424046, 0.002967483012712023, 0.9985858923152764, 0.9927970078647296, 0.996890730742903, 0.9993718837646253, 0.6861390345726921, 0.31372291966836185, 0.9963719984554493, 0.9924436599292349, 0.9967324430507082, 0.9971896459879287, 0.9959334613128219, 0.9891898847462378, 0.6751250036099647, 0.3239039034660524, 0.009981019158056187, 0.9232442721201973, 0.06487662452736521, 0.988092990168679, 0.01018652567184205, 0.39061334248489876, 0.6104468980229115, 0.9837116196501117, 0.013116154928668156, 0.9872251361732864, 0.9997464439035468, 0.9957827006389631, 0.0012742418806226184, 0.9977313925275102, 0.9973219431359139, 0.996054594819074, 0.02517653460512824, 0.00314706682564103, 0.9755907159487193, 0.9968597821468251, 0.9987243599781574, 0.9966990548275572, 0.9965514811649439, 0.9980137402743041, 0.9952104868441698, 0.9976825363189274, 0.002320191944927738, 0.9986642530571356, 0.9963490902919088, 0.00524394258048373, 0.9986045606494232, 0.9613485362716063, 0.03852093438022116, 0.9958885442127602, 0.003656379259916518, 0.003656379259916518, 0.9945351586972928, 0.9882129962859028, 0.17662953046024693, 0.02943825507670782, 0.7948328870711111, 0.023369700593913585, 0.11100607782108952, 0.8646789219748027], \"Term\": [\"ajang_prestisius\", \"ajang_prestisius\", \"argentina\", \"atas\", \"baik\", \"bandara\", \"bandara\", \"banget_profit\", \"banget_profit\", \"banget_profit\", \"bangku\", \"bangku_tonton\", \"banjir_kecam\", \"banjir_kecam\", \"berita\", \"bernabeu\", \"bernabeu\", \"bernabeu\", \"boot\", \"boot\", \"coman\", \"cuit\", \"daftar_artis\", \"daftar_artis\", \"dana_kompensasi\", \"darat\", \"darat\", \"darat\", \"deran\", \"desember\", \"detikers_tahu\", \"dunia\", \"duniaargentina\", \"eks\", \"eksklusif\", \"ekspresi\", \"ekspresi\", \"ekspresi\", \"emiliano\", \"ervanda\", \"final\", \"final\", \"gagal\", \"gagal\", \"gagal\", \"gelar\", \"geng\", \"gol\", \"gonzalo_montiel\", \"hebat\", \"hebat\", \"hijab\", \"hubung\", \"hubung\", \"hubung\", \"inflasi\", \"inget\", \"inget\", \"iniesta\", \"istana\", \"istana\", \"jimat\", \"juara\", \"juta\", \"kecam\", \"keluarga\", \"keluarga\", \"keluarga\", \"keluarga_rumah\", \"kodam\", \"kodam\", \"komen\", \"komen\", \"komen\", \"kreativitas\", \"kreativitas\", \"krisis_ekonomi\", \"kumpul\", \"kumpul\", \"kylian\", \"kylian_mbappe\", \"lawan\", \"lawan\", \"legenda\", \"loh\", \"luis\", \"lusail\", \"mahdi\", \"mahdi\", \"main\", \"maju\", \"mampang\", \"media_sosial\", \"media_sosial\", \"messi\", \"messi\", \"montiel\", \"naksir\", \"nama\", \"nanti\", \"nanti\", \"nasional\", \"nasional\", \"nilai\", \"nominasi\", \"nominasi\", \"nominasi\", \"nonton_bareng\", \"nonton_bareng\", \"order\", \"order\", \"paul\", \"paul\", \"penalti\", \"pentas\", \"penuh\", \"penuh\", \"penuh\", \"penuh_warna\", \"pesan_aguero\", \"pesta\", \"populer\", \"postingan\", \"postingan\", \"prestasi\", \"reaksi\", \"rekor\", \"ronaldo\", \"rumah\", \"saksi\", \"sara\", \"sara\", \"sctv\", \"sctv\", \"sctv\", \"sedia_bonus\", \"sedia_bonus\", \"sensasi\", \"sensasi\", \"soerya\", \"soerya\", \"sorban\", \"sosial\", \"subur_sejarah\", \"sujandi\", \"sujandi\", \"surga\", \"tangis\", \"temen\", \"temen\", \"temen\", \"tempo\", \"tempo_bola\", \"tenis\", \"tetep\", \"tim_nasional\", \"tim_tango\", \"tradisi_main\", \"tradisi_main\", \"trafik\", \"twitter\", \"twitter\", \"umur\", \"unggah\", \"unggah\", \"upacara\", \"vibe\", \"vibe\", \"vibe\", \"video\", \"witkatspc\", \"witkatspc\", \"witkatspc\", \"yasonna_faisol\", \"yasonna_faisol\", \"yasonna_faisol\"]}, \"R\": 30, \"lambda.step\": 0.01, \"plot.opts\": {\"xlab\": \"PC1\", \"ylab\": \"PC2\"}, \"topic.order\": [1, 3, 2]};\n",
       "\n",
       "function LDAvis_load_lib(url, callback){\n",
       "  var s = document.createElement('script');\n",
       "  s.src = url;\n",
       "  s.async = true;\n",
       "  s.onreadystatechange = s.onload = callback;\n",
       "  s.onerror = function(){console.warn(\"failed to load library \" + url);};\n",
       "  document.getElementsByTagName(\"head\")[0].appendChild(s);\n",
       "}\n",
       "\n",
       "if(typeof(LDAvis) !== \"undefined\"){\n",
       "   // already loaded: just create the visualization\n",
       "   !function(LDAvis){\n",
       "       new LDAvis(\"#\" + \"ldavis_el4453625857045900005556893925\", ldavis_el4453625857045900005556893925_data);\n",
       "   }(LDAvis);\n",
       "}else if(typeof define === \"function\" && define.amd){\n",
       "   // require.js is available: use it to load d3/LDAvis\n",
       "   require.config({paths: {d3: \"https://d3js.org/d3.v5\"}});\n",
       "   require([\"d3\"], function(d3){\n",
       "      window.d3 = d3;\n",
       "      LDAvis_load_lib(\"https://cdn.jsdelivr.net/gh/bmabey/pyLDAvis@3.3.1/pyLDAvis/js/ldavis.v3.0.0.js\", function(){\n",
       "        new LDAvis(\"#\" + \"ldavis_el4453625857045900005556893925\", ldavis_el4453625857045900005556893925_data);\n",
       "      });\n",
       "    });\n",
       "}else{\n",
       "    // require.js not available: dynamically load d3 & LDAvis\n",
       "    LDAvis_load_lib(\"https://d3js.org/d3.v5.js\", function(){\n",
       "         LDAvis_load_lib(\"https://cdn.jsdelivr.net/gh/bmabey/pyLDAvis@3.3.1/pyLDAvis/js/ldavis.v3.0.0.js\", function(){\n",
       "                 new LDAvis(\"#\" + \"ldavis_el4453625857045900005556893925\", ldavis_el4453625857045900005556893925_data);\n",
       "            })\n",
       "         });\n",
       "}\n",
       "</script>"
      ],
      "text/plain": [
       "PreparedData(topic_coordinates=              x         y  topics  cluster       Freq\n",
       "topic                                                \n",
       "0     -0.076449  0.284497       1        1  43.545875\n",
       "2      0.275373 -0.044864       2        1  40.298027\n",
       "1     -0.198924 -0.239633       3        1  16.156097, topic_info=                Term         Freq        Total Category  logprob  loglift\n",
       "7             sosial  4543.000000  4543.000000  Default  30.0000  30.0000\n",
       "133           pentas  3436.000000  3436.000000  Default  29.0000  29.0000\n",
       "10             gagal  2501.000000  2501.000000  Default  28.0000  28.0000\n",
       "3       media_sosial  1656.000000  1656.000000  Default  27.0000  27.0000\n",
       "321            nanti  1536.000000  1536.000000  Default  26.0000  26.0000\n",
       "...              ...          ...          ...      ...      ...      ...\n",
       "2379  yasonna_faisol   148.101926   171.161799   Topic3  -4.5781   1.6782\n",
       "59          keluarga   118.821223   135.517693   Topic3  -4.7983   1.6914\n",
       "1058        bernabeu    70.859632    72.695169   Topic3  -5.3153   1.7973\n",
       "904        witkatspc    80.993986   101.908214   Topic3  -5.1816   1.5932\n",
       "1819           darat    71.764186    76.238731   Topic3  -5.3026   1.7624\n",
       "\n",
       "[149 rows x 6 columns], token_table=      Topic      Freq              Term\n",
       "term                                   \n",
       "1979      1  0.990784  ajang_prestisius\n",
       "1979      2  0.006078  ajang_prestisius\n",
       "40        1  0.995386         argentina\n",
       "324       2  0.993935              atas\n",
       "263       2  0.997243              baik\n",
       "...     ...       ...               ...\n",
       "904       2  0.029438         witkatspc\n",
       "904       3  0.794833         witkatspc\n",
       "2379      1  0.023370    yasonna_faisol\n",
       "2379      2  0.111006    yasonna_faisol\n",
       "2379      3  0.864679    yasonna_faisol\n",
       "\n",
       "[176 rows x 3 columns], R=30, lambda_step=0.01, plot_opts={'xlab': 'PC1', 'ylab': 'PC2'}, topic_order=[1, 3, 2])"
      ]
     },
     "execution_count": 58,
     "metadata": {},
     "output_type": "execute_result"
    }
   ],
   "source": [
    "# visualisasi hasil dari model.\n",
    "pyLDAvis.enable_notebook()\n",
    "vis = pyLDAvis.gensim_models.prepare(lda_model, corpus_t, id2word, mds = 'mmds')\n",
    "vis"
   ]
  },
  {
   "cell_type": "code",
   "execution_count": 59,
   "id": "705da3bc-b88e-4c33-b7c9-243b6f368d51",
   "metadata": {},
   "outputs": [
    {
     "name": "stdout",
     "output_type": "stream",
     "text": [
      "iterasi ke:  1, 2, 3, 4, 5, "
     ]
    },
    {
     "data": {
      "text/plain": [
       "'Done'"
      ]
     },
     "execution_count": 59,
     "metadata": {},
     "output_type": "execute_result"
    }
   ],
   "source": [
    "start, step, limit = 2, 1, 5 \n",
    "coh_t, kCV = [], 5 \n",
    "\n",
    "print('iterasi ke: ', end = ' ')\n",
    "for i in range(kCV):\n",
    "    print(i+1, end = ', ', flush=True)\n",
    "    c = compute_coherence_values(id2word, corpus_t, data_token, limit=limit, start=start, step=step)\n",
    "    coh_t.append(c)\n",
    "    \n",
    "coherence_t = np.mean(np.array(coh_t), axis=0)\n",
    "'Done'"
   ]
  },
  {
   "cell_type": "code",
   "execution_count": 60,
   "id": "65fa1624-37e7-4285-9195-af44a970d22c",
   "metadata": {},
   "outputs": [
    {
     "data": {
      "image/png": "[encoded data removed]",
      "text/plain": [
       "<Figure size 1200x1000 with 1 Axes>"
      ]
     },
     "metadata": {},
     "output_type": "display_data"
    }
   ],
   "source": [
    "# Show graph\n",
    "x = range(start, limit, step)\n",
    "plt.figure(figsize=(12,10))\n",
    "for idx, c in enumerate(coh_t):\n",
    "    plt.plot(x, c, '--', color = 'lawngreen', marker = 'o', linewidth = 2, label = f'coherence cv-{idx}')\n",
    "plt.plot(x, coherence_t, '-', color = 'black', label = 'coherence avg', linewidth = 5)\n",
    "plt.xlabel(\"Num Topics\")\n",
    "plt.ylabel(\"Coherence score\")\n",
    "plt.legend()\n",
    "plt.show()"
   ]
  },
  {
   "cell_type": "markdown",
   "id": "667c6692",
   "metadata": {},
   "source": [
    "## Analisis Graph dengan Gephi"
   ]
  },
  {
   "cell_type": "code",
   "execution_count": 63,
   "id": "cb36a0ed-bb94-4fde-8cc3-9f5f6cc86c42",
   "metadata": {},
   "outputs": [
    {
     "name": "stdout",
     "output_type": "stream",
     "text": [
      "Banyak vertex =  4754\n",
      "Banyak Edges =  0\n"
     ]
    }
   ],
   "source": [
    "users = data_clean['name']\n",
    "tweets = data_clean['tweet']\n",
    "\n",
    "graph = nx.Graph() # Graph Kosong Baru\n",
    "graph.add_nodes_from(users)\n",
    "\n",
    "print('Banyak vertex = ', graph.number_of_nodes())\n",
    "print('Banyak Edges = ', graph.number_of_edges())"
   ]
  },
  {
   "cell_type": "code",
   "execution_count": 64,
   "id": "0944c364-40f2-4410-8dd5-be685cf8eb74",
   "metadata": {},
   "outputs": [
    {
     "name": "stdout",
     "output_type": "stream",
     "text": [
      "Banyak vertex =  5339\n",
      "Banyak Edges =  1061\n"
     ]
    }
   ],
   "source": [
    "for usr, t in zip(users, tweets):\n",
    "    mentionS =  re.findall(\"@([a-zA-Z0-9]{1,15})\", t)\n",
    "    for mention in mentionS:\n",
    "        if \".\" not in mention: #skipping emails\n",
    "            graph.add_edge(usr, mention)\n",
    "            \n",
    "print('Banyak vertex = ', graph.number_of_nodes())\n",
    "print('Banyak Edges = ', graph.number_of_edges())"
   ]
  },
  {
   "cell_type": "code",
   "execution_count": 65,
   "id": "abc038b2-e6f9-4d75-9949-3d8047d416ff",
   "metadata": {},
   "outputs": [
    {
     "name": "stdout",
     "output_type": "stream",
     "text": [
      "Export ke GexF untuk di import ke Gephi\n"
     ]
    }
   ],
   "source": [
    "print(\"Export ke GexF untuk di import ke Gephi\")\n",
    "nx.write_gexf(graph,\"twitter data.gexf\")"
   ]
  },
  {
   "cell_type": "markdown",
   "id": "64299d76",
   "metadata": {},
   "source": [
    "## Visualisasi Graph dengan Gephi"
   ]
  },
  {
   "cell_type": "markdown",
   "id": "5435c1f1",
   "metadata": {},
   "source": [
    "## Analisis teks dengan Voyant."
   ]
  },
  {
   "cell_type": "code",
   "execution_count": 66,
   "id": "b2951272-c3bc-441a-810c-bed2a037e1c4",
   "metadata": {},
   "outputs": [],
   "source": [
    "data_clean['clean tweets'].to_csv('voyant files.txt', header = False, encoding = 'utf8', index = False)"
   ]
  }
 ],
 "metadata": {
  "kernelspec": {
   "display_name": "Python 3 (ipykernel)",
   "language": "python",
   "name": "python3"
  },
  "language_info": {
   "codemirror_mode": {
    "name": "ipython",
    "version": 3
   },
   "file_extension": ".py",
   "mimetype": "text/x-python",
   "name": "python",
   "nbconvert_exporter": "python",
   "pygments_lexer": "ipython3",
   "version": "3.10.8"
  }
 },
 "nbformat": 4,
 "nbformat_minor": 5
}
