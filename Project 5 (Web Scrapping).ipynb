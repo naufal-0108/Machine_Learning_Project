{
 "cells": [
  {
   "cell_type": "code",
   "execution_count": 87,
   "id": "a0953281-19b9-4f75-9e2f-9c91dcff3834",
   "metadata": {},
   "outputs": [],
   "source": [
    "import requests\n",
    "from bs4 import BeautifulSoup\n",
    "import pandas as pd\n",
    "import numpy as np"
   ]
  },
  {
   "cell_type": "markdown",
   "id": "5de2ed7b-ac34-422a-8b92-67f5d69da215",
   "metadata": {},
   "source": [
    "## WEB SCRAPPING 1 \n",
    "url = https://www.ourdailydose.net/"
   ]
  },
  {
   "cell_type": "code",
   "execution_count": 88,
   "id": "3ca45273-2c9b-4edd-a446-7d3045515b81",
   "metadata": {},
   "outputs": [],
   "source": [
    "def get_features(url):\n",
    "    r = requests.get(url)\n",
    "    soup = BeautifulSoup(r.content, 'html.parser')\n",
    "    try :\n",
    "        all_dict['Name'].append(soup.find('span',class_ = \"base\").text)\n",
    "    except :\n",
    "        all_dict['Name'].append(np.nan)\n",
    "    \n",
    "    try :\n",
    "        all_dict['Price'].append(soup.find('span', class_ = \"price\").text)\n",
    "    except :\n",
    "        all_dict['Price'].append(np.nan)\n",
    "    \n",
    "    try :\n",
    "        all_dict['Color'].append(soup.find('td', {'data-th':'Color'}).text)\n",
    "    except :\n",
    "        all_dict['Color'].append(np.nan)\n",
    "        \n",
    "    try :\n",
    "        all_dict['Brand'].append(soup.find('td', {'data-th':'Brand'}).text)\n",
    "        \n",
    "    except :\n",
    "        all_dict['Brand'].append(np.nan)\n",
    "    \n",
    "    try :\n",
    "        all_dict['Gender'].append(soup.find('td', {'data-th':'Gender'}).text)\n",
    "    except :\n",
    "        all_dict['Gender'].append(np.nan)"
   ]
  },
  {
   "cell_type": "code",
   "execution_count": 107,
   "id": "d0bf4774-c58c-4ae2-b8f9-11ab5973cdc0",
   "metadata": {},
   "outputs": [],
   "source": [
    "all_dict = {\n",
    "    'Link' : [],\n",
    "    'Name' : [],\n",
    "    'Price' : [],\n",
    "    'Color' : [],\n",
    "    'Gender' : [],\n",
    "    'Brand' : []\n",
    "}"
   ]
  },
  {
   "cell_type": "code",
   "execution_count": 108,
   "id": "30c85dac-7793-4ede-b62d-ebf3a54fe695",
   "metadata": {},
   "outputs": [],
   "source": [
    "for page in range(1,3):\n",
    "    \n",
    "    url = 'https://www.ourdailydose.net/kids/footwear.html?p={}'.format(page)\n",
    "    r = requests.get(url)\n",
    "    soup = BeautifulSoup(r.content, 'html.parser')\n",
    "    items = soup.find_all('li',class_ = \"item product product-item\")\n",
    "    \n",
    "    for item in items:\n",
    "        all_dict['Link'].append(item.find('a')['href'])"
   ]
  },
  {
   "cell_type": "code",
   "execution_count": 111,
   "id": "07f2cad6-7a9f-4466-a749-d2f4755f316b",
   "metadata": {},
   "outputs": [],
   "source": [
    "for page in range(1,11):\n",
    "    \n",
    "    url = 'https://www.ourdailydose.net/men/footwear.html?p={}'.format(page)\n",
    "    r = requests.get(url)\n",
    "    soup = BeautifulSoup(r.content, 'html.parser')\n",
    "    items = soup.find_all('li',class_ = \"item product product-item\")\n",
    "    \n",
    "    for item in items:\n",
    "        all_dict['Link'].append(item.find('a')['href'])"
   ]
  },
  {
   "cell_type": "code",
   "execution_count": 114,
   "id": "93da3f50-3eb6-4b7c-9deb-b1df8c8ad221",
   "metadata": {},
   "outputs": [],
   "source": [
    "for page in range(1,7):\n",
    "    \n",
    "    url = 'https://www.ourdailydose.net/women/footwear.html?p={}'.format(page)\n",
    "    r = requests.get(url)\n",
    "    soup = BeautifulSoup(r.content, 'html.parser')\n",
    "    items = soup.find_all('li',class_ = \"item product product-item\")\n",
    "    \n",
    "    for item in items:\n",
    "        all_dict['Link'].append(item.find('a')['href'])"
   ]
  },
  {
   "cell_type": "code",
   "execution_count": 109,
   "id": "69b0afd8-66dc-4f00-a990-651cf0ca3a70",
   "metadata": {},
   "outputs": [],
   "source": [
    "for link in all_dict['Link'][0:]:\n",
    "    get_features(link)"
   ]
  },
  {
   "cell_type": "code",
   "execution_count": 112,
   "id": "fbe4169b-ef89-4331-9cf0-0cf1cd97a933",
   "metadata": {},
   "outputs": [],
   "source": [
    "for link in all_dict['Link'][13:]:\n",
    "    get_features(link)"
   ]
  },
  {
   "cell_type": "code",
   "execution_count": 115,
   "id": "39f7e16d-f4f8-4467-8c6f-ac556b230c5b",
   "metadata": {},
   "outputs": [],
   "source": [
    "for link in all_dict['Link'][123:]:\n",
    "    get_features(link)"
   ]
  },
  {
   "cell_type": "code",
   "execution_count": 116,
   "id": "4d1829e8-2c6f-4283-ad49-8f5638a28fd8",
   "metadata": {},
   "outputs": [
    {
     "name": "stdout",
     "output_type": "stream",
     "text": [
      "Link\n",
      "184\n",
      "Name\n",
      "184\n",
      "Price\n",
      "184\n",
      "Color\n",
      "184\n",
      "Gender\n",
      "184\n",
      "Brand\n",
      "184\n"
     ]
    }
   ],
   "source": [
    "for key, val in all_dict.items():\n",
    "    print(key)\n",
    "    print(len(val))"
   ]
  },
  {
   "cell_type": "code",
   "execution_count": 139,
   "id": "d6df6bbe-934f-450d-9055-298b95021f60",
   "metadata": {},
   "outputs": [
    {
     "name": "stdout",
     "output_type": "stream",
     "text": [
      "<class 'pandas.core.frame.DataFrame'>\n",
      "RangeIndex: 184 entries, 0 to 183\n",
      "Data columns (total 6 columns):\n",
      " #   Column  Non-Null Count  Dtype \n",
      "---  ------  --------------  ----- \n",
      " 0   Link    184 non-null    object\n",
      " 1   Name    184 non-null    object\n",
      " 2   Price   184 non-null    object\n",
      " 3   Color   182 non-null    object\n",
      " 4   Gender  184 non-null    object\n",
      " 5   Brand   184 non-null    object\n",
      "dtypes: object(6)\n",
      "memory usage: 8.8+ KB\n",
      "None\n"
     ]
    }
   ],
   "source": [
    "df = pd.DataFrame(all_dict)\n",
    "print(df.info())"
   ]
  },
  {
   "cell_type": "code",
   "execution_count": 140,
   "id": "80a54053-7b1c-4d30-b1ad-853329b586ed",
   "metadata": {},
   "outputs": [
    {
     "data": {
      "text/html": [
       "<div>\n",
       "<style scoped>\n",
       "    .dataframe tbody tr th:only-of-type {\n",
       "        vertical-align: middle;\n",
       "    }\n",
       "\n",
       "    .dataframe tbody tr th {\n",
       "        vertical-align: top;\n",
       "    }\n",
       "\n",
       "    .dataframe thead th {\n",
       "        text-align: right;\n",
       "    }\n",
       "</style>\n",
       "<table border=\"1\" class=\"dataframe\">\n",
       "  <thead>\n",
       "    <tr style=\"text-align: right;\">\n",
       "      <th></th>\n",
       "      <th>Link</th>\n",
       "      <th>Name</th>\n",
       "      <th>Price</th>\n",
       "      <th>Color</th>\n",
       "      <th>Gender</th>\n",
       "      <th>Brand</th>\n",
       "    </tr>\n",
       "  </thead>\n",
       "  <tbody>\n",
       "    <tr>\n",
       "      <th>0</th>\n",
       "      <td>https://www.ourdailydose.net/suede-garfield-ps...</td>\n",
       "      <td>SUEDE GARFIELD PS DARK CHEDDAR-CELANDINE</td>\n",
       "      <td>Rp 999,000</td>\n",
       "      <td>Black</td>\n",
       "      <td>Kids</td>\n",
       "      <td>Puma</td>\n",
       "    </tr>\n",
       "    <tr>\n",
       "      <th>1</th>\n",
       "      <td>https://www.ourdailydose.net/leadcat-2-0-garfi...</td>\n",
       "      <td>LEADCAT 2.0 GARFIELD PS PUMA BLACK-ZINNIA</td>\n",
       "      <td>Rp 459,000</td>\n",
       "      <td>Black</td>\n",
       "      <td>Kids</td>\n",
       "      <td>Puma</td>\n",
       "    </tr>\n",
       "    <tr>\n",
       "      <th>2</th>\n",
       "      <td>https://www.ourdailydose.net/nike-dunk-low-ps-...</td>\n",
       "      <td>NIKE DUNK LOW (PS)-MIDNIGHT NAVY/GAME ROYAL-BLACK</td>\n",
       "      <td>Rp 899,000</td>\n",
       "      <td>Blue</td>\n",
       "      <td>Kids</td>\n",
       "      <td>Nike</td>\n",
       "    </tr>\n",
       "    <tr>\n",
       "      <th>3</th>\n",
       "      <td>https://www.ourdailydose.net/adidas-superstar-...</td>\n",
       "      <td>ADIDAS SUPERSTAR 360 C-CORE BLACK</td>\n",
       "      <td>Rp 1,100,000</td>\n",
       "      <td>Black</td>\n",
       "      <td>Kids</td>\n",
       "      <td>Adidas</td>\n",
       "    </tr>\n",
       "    <tr>\n",
       "      <th>4</th>\n",
       "      <td>https://www.ourdailydose.net/nike-dunk-hi-gs-w...</td>\n",
       "      <td>NIKE DUNK HI (GS)-WHITE/MIDNIGHT NAVY-ELECTRO ...</td>\n",
       "      <td>Rp 1,329,000</td>\n",
       "      <td>Purple</td>\n",
       "      <td>Kids</td>\n",
       "      <td>Nike</td>\n",
       "    </tr>\n",
       "  </tbody>\n",
       "</table>\n",
       "</div>"
      ],
      "text/plain": [
       "                                                Link  \\\n",
       "0  https://www.ourdailydose.net/suede-garfield-ps...   \n",
       "1  https://www.ourdailydose.net/leadcat-2-0-garfi...   \n",
       "2  https://www.ourdailydose.net/nike-dunk-low-ps-...   \n",
       "3  https://www.ourdailydose.net/adidas-superstar-...   \n",
       "4  https://www.ourdailydose.net/nike-dunk-hi-gs-w...   \n",
       "\n",
       "                                                Name         Price   Color  \\\n",
       "0           SUEDE GARFIELD PS DARK CHEDDAR-CELANDINE    Rp 999,000   Black   \n",
       "1          LEADCAT 2.0 GARFIELD PS PUMA BLACK-ZINNIA    Rp 459,000   Black   \n",
       "2  NIKE DUNK LOW (PS)-MIDNIGHT NAVY/GAME ROYAL-BLACK    Rp 899,000    Blue   \n",
       "3                  ADIDAS SUPERSTAR 360 C-CORE BLACK  Rp 1,100,000   Black   \n",
       "4  NIKE DUNK HI (GS)-WHITE/MIDNIGHT NAVY-ELECTRO ...  Rp 1,329,000  Purple   \n",
       "\n",
       "  Gender   Brand  \n",
       "0   Kids    Puma  \n",
       "1   Kids    Puma  \n",
       "2   Kids    Nike  \n",
       "3   Kids  Adidas  \n",
       "4   Kids    Nike  "
      ]
     },
     "metadata": {},
     "output_type": "display_data"
    }
   ],
   "source": [
    "display(df.head())"
   ]
  },
  {
   "cell_type": "markdown",
   "id": "f6415714-f9a5-43ff-9bfb-1ad3ac45e2d8",
   "metadata": {},
   "source": [
    "## Data Preprocessing"
   ]
  },
  {
   "cell_type": "code",
   "execution_count": 141,
   "id": "70797a20-3e39-4f57-9e28-1d0d5319862f",
   "metadata": {},
   "outputs": [],
   "source": [
    "# price column format.\n",
    "df['Price'] = df['Price'].str.replace('Rp', '')\n",
    "df['Price'] = df['Price'].str.replace(',', '')\n",
    "df['Price'] = df['Price'].str.replace(',', '').str.strip()\n",
    "df['Price'] = df['Price'].astype('int64')"
   ]
  },
  {
   "cell_type": "code",
   "execution_count": 142,
   "id": "ab0f9645-fc95-406b-8be3-2a86b89b9a78",
   "metadata": {},
   "outputs": [
    {
     "name": "stdout",
     "output_type": "stream",
     "text": [
      "<class 'pandas.core.frame.DataFrame'>\n",
      "RangeIndex: 184 entries, 0 to 183\n",
      "Data columns (total 6 columns):\n",
      " #   Column  Non-Null Count  Dtype \n",
      "---  ------  --------------  ----- \n",
      " 0   Link    184 non-null    object\n",
      " 1   Name    184 non-null    object\n",
      " 2   Price   184 non-null    int64 \n",
      " 3   Color   182 non-null    object\n",
      " 4   Gender  184 non-null    object\n",
      " 5   Brand   184 non-null    object\n",
      "dtypes: int64(1), object(5)\n",
      "memory usage: 8.8+ KB\n",
      "None\n"
     ]
    }
   ],
   "source": [
    "print(df.info())"
   ]
  },
  {
   "cell_type": "code",
   "execution_count": 146,
   "id": "d52cb6a2-8496-4c5c-b477-30a7beafb249",
   "metadata": {},
   "outputs": [
    {
     "name": "stdout",
     "output_type": "stream",
     "text": [
      "Gender :\n",
      "['Kids' 'Men' 'Unisex' 'Men, Women' 'Women']\n",
      "Color :\n",
      "['Black' 'Blue' 'Purple' 'Navy' 'White' 'Brown' 'Silver' 'Multi' 'Grey'\n",
      " 'PECAN/SAIL' 'WHITE/ROYAL BLUE' 'Red' 'Green' 'Khaki' nan 'Olive' 'Mauve'\n",
      " 'Orange' 'Yellow' 'Pink' 'Metallic Silver' 'Plum' 'Soft Blue' 'Maroon']\n",
      "Brand :\n",
      "['Puma' 'Nike' 'Adidas' 'Vans' 'Asics']\n"
     ]
    }
   ],
   "source": [
    "print(\"Gender :\")\n",
    "print(df[\"Gender\"].unique())\n",
    "print(\"Color :\")\n",
    "print(df[\"Color\"].unique())\n",
    "print(\"Brand :\")\n",
    "print(df[\"Brand\"].unique())"
   ]
  },
  {
   "cell_type": "code",
   "execution_count": 147,
   "id": "05169830-3e3c-45d2-9d94-8b836cc675d5",
   "metadata": {},
   "outputs": [],
   "source": [
    "df[\"Color\"] = df[\"Color\"].str.title()"
   ]
  },
  {
   "cell_type": "code",
   "execution_count": 148,
   "id": "76fbe470-8975-4cf2-8d98-fb668cfa9a06",
   "metadata": {},
   "outputs": [
    {
     "name": "stdout",
     "output_type": "stream",
     "text": [
      "Color :\n",
      "['Black' 'Blue' 'Purple' 'Navy' 'White' 'Brown' 'Silver' 'Multi' 'Grey'\n",
      " 'Pecan/Sail' 'White/Royal Blue' 'Red' 'Green' 'Khaki' nan 'Olive' 'Mauve'\n",
      " 'Orange' 'Yellow' 'Pink' 'Metallic Silver' 'Plum' 'Soft Blue' 'Maroon']\n"
     ]
    }
   ],
   "source": [
    "print(\"Color :\")\n",
    "print(df[\"Color\"].unique())"
   ]
  },
  {
   "cell_type": "code",
   "execution_count": 150,
   "id": "291a7cf8-89c2-4e74-a1df-15f273f54c86",
   "metadata": {},
   "outputs": [],
   "source": [
    "df.to_csv(\"DailyDoseWebScrapping.csv\")"
   ]
  },
  {
   "cell_type": "markdown",
   "id": "eb11bd28-513c-459a-9fdf-68154db1c8c1",
   "metadata": {},
   "source": [
    "## WEB SCRAPPING 2"
   ]
  },
  {
   "cell_type": "code",
   "execution_count": null,
   "id": "691581df-9eba-45a5-a8f6-8bc474968d50",
   "metadata": {},
   "outputs": [],
   "source": []
  }
 ],
 "metadata": {
  "kernelspec": {
   "display_name": "Python 3 (ipykernel)",
   "language": "python",
   "name": "python3"
  },
  "language_info": {
   "codemirror_mode": {
    "name": "ipython",
    "version": 3
   },
   "file_extension": ".py",
   "mimetype": "text/x-python",
   "name": "python",
   "nbconvert_exporter": "python",
   "pygments_lexer": "ipython3",
   "version": "3.9.12"
  }
 },
 "nbformat": 4,
 "nbformat_minor": 5
}
